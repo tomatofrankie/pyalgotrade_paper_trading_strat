{
 "cells": [
  {
   "cell_type": "code",
   "execution_count": 6,
   "metadata": {},
   "outputs": [
    {
     "name": "stdout",
     "output_type": "stream",
     "text": [
      "[*********************100%***********************]  1 of 1 completed\n",
      "                           Open        High         Low       Close  \\\n",
      "Date Time                                                             \n",
      "2022-09-28 09:30:00  283.079987  283.140015  281.220001  282.499908   \n",
      "2022-09-28 09:32:00  280.890015  281.470001  280.299988  280.500000   \n",
      "2022-09-28 09:34:00  280.420013  280.549988  279.410004  279.769989   \n",
      "2022-09-28 09:36:00  279.779999  279.959991  278.559998  279.234406   \n",
      "2022-09-28 09:38:00  279.290009  280.190186  278.850006  278.850006   \n",
      "...                         ...         ...         ...         ...   \n",
      "2022-09-28 15:52:00  288.380005  288.880005  288.350006  288.864990   \n",
      "2022-09-28 15:54:00  288.880005  288.929993  288.019989  288.260010   \n",
      "2022-09-28 15:56:00  288.269989  288.579987  288.209991  288.339996   \n",
      "2022-09-28 15:58:00  288.359985  288.369995  287.470001  287.760010   \n",
      "2022-09-30 16:00:00  265.250000  265.250000  265.250000  265.250000   \n",
      "\n",
      "                      Adj Close   Volume  \n",
      "Date Time                                 \n",
      "2022-09-28 09:30:00  282.499908  3518870  \n",
      "2022-09-28 09:32:00  280.500000   983773  \n",
      "2022-09-28 09:34:00  279.769989   141653  \n",
      "2022-09-28 09:36:00  279.234406  1278520  \n",
      "2022-09-28 09:38:00  278.850006   400892  \n",
      "...                         ...      ...  \n",
      "2022-09-28 15:52:00  288.864990   285732  \n",
      "2022-09-28 15:54:00  288.260010   473651  \n",
      "2022-09-28 15:56:00  288.339996   366059  \n",
      "2022-09-28 15:58:00  287.760010   703153  \n",
      "2022-09-30 16:00:00  265.250000        0  \n",
      "\n",
      "[196 rows x 6 columns]\n"
     ]
    }
   ],
   "source": [
    "# Interval = min K\n",
    "\n",
    "import yfinance as yf\n",
    "from datetime import datetime\n",
    "import pandas as pd\n",
    "\n",
    "# ticker = '^gspc'\n",
    "ticker = 'tsla'\n",
    "\n",
    "start_date = datetime(2022, 9, 28,21)\n",
    "end_date = datetime(2022, 9, 29,16)\n",
    "data = yf.download(ticker, interval = '2m', start = start_date ,end = end_date, auto_adjust = False)\n",
    "data.index.name = 'Date Time'\n",
    "data.index = pd.to_datetime(data.index, format = '%m/%d/%Y').strftime('%Y-%m-%d %H:%M:%S')\n",
    "data.to_csv('data.csv')\n",
    "print(data)"
   ]
  },
  {
   "cell_type": "code",
   "execution_count": 7,
   "metadata": {},
   "outputs": [
    {
     "name": "stderr",
     "output_type": "stream",
     "text": [
      "2022-09-28 10:00:00 strategy [INFO] BUY at $280.30 68.42 78.91 -10\n",
      "2022-09-28 10:12:00 strategy [INFO] SELL at $279.75 34.12 14.67 0\n",
      "2022-09-28 10:12:00 strategy [INFO] BUY at $279.75 34.12 14.67 10\n",
      "2022-09-28 10:16:00 strategy [INFO] SELL at $279.84 35.0 37.15 0\n",
      "2022-09-28 10:16:00 strategy [INFO] BUY at $279.84 35.0 37.15 -10\n",
      "2022-09-28 10:18:00 strategy [INFO] SELL at $280.74 65.88 47.74 0\n",
      "2022-09-28 10:18:00 strategy [INFO] BUY at $280.74 65.88 47.74 10\n",
      "2022-09-28 10:26:00 strategy [INFO] SELL at $281.10 81.31 82.96 0\n",
      "2022-09-28 10:26:00 strategy [INFO] BUY at $281.10 81.31 82.96 -10\n",
      "2022-09-28 10:28:00 strategy [INFO] SELL at $282.35 98.9 90.48 0\n",
      "2022-09-28 10:28:00 strategy [INFO] BUY at $282.35 98.9 90.48 10\n",
      "2022-09-28 10:32:00 strategy [INFO] SELL at $282.64 76.46 91.12 0\n",
      "2022-09-28 10:32:00 strategy [INFO] BUY at $282.64 76.46 91.12 -10\n",
      "2022-09-28 10:38:00 strategy [INFO] SELL at $282.96 79.87 77.76 0\n",
      "2022-09-28 10:38:00 strategy [INFO] BUY at $282.96 79.87 77.76 10\n",
      "2022-09-28 10:40:00 strategy [INFO] SELL at $282.34 56.47 69.35 0\n",
      "2022-09-28 10:40:00 strategy [INFO] BUY at $282.34 56.47 69.35 -10\n",
      "2022-09-28 10:44:00 strategy [INFO] SELL at $282.57 62.77 61.25 0\n",
      "2022-09-28 10:44:00 strategy [INFO] BUY at $282.57 62.77 61.25 10\n",
      "2022-09-28 10:46:00 strategy [INFO] SELL at $282.86 59.44 62.24 0\n",
      "2022-09-28 10:46:00 strategy [INFO] BUY at $282.86 59.44 62.24 -10\n",
      "2022-09-28 10:56:00 strategy [INFO] SELL at $281.28 34.1 20.8 0\n",
      "2022-09-28 10:56:00 strategy [INFO] BUY at $281.28 34.1 20.8 10\n",
      "2022-09-28 10:58:00 strategy [INFO] SELL at $281.32 10.14 20.04 0\n",
      "2022-09-28 10:58:00 strategy [INFO] BUY at $281.32 10.14 20.04 -10\n",
      "2022-09-28 11:02:00 strategy [INFO] SELL at $281.55 32.09 19.74 0\n",
      "2022-09-28 11:02:00 strategy [INFO] BUY at $281.55 32.09 19.74 10\n",
      "2022-09-28 11:10:00 strategy [INFO] SELL at $282.09 72.95 74.74 0\n",
      "2022-09-28 11:10:00 strategy [INFO] BUY at $282.09 72.95 74.74 -10\n",
      "2022-09-28 11:12:00 strategy [INFO] SELL at $282.11 76.07 73.94 0\n",
      "2022-09-28 11:12:00 strategy [INFO] BUY at $282.11 76.07 73.94 10\n",
      "2022-09-28 11:24:00 strategy [INFO] SELL at $284.81 81.99 88.54 0\n",
      "2022-09-28 11:24:00 strategy [INFO] BUY at $284.81 81.99 88.54 -10\n",
      "2022-09-28 11:26:00 strategy [INFO] SELL at $285.32 98.57 91.22 0\n",
      "2022-09-28 11:26:00 strategy [INFO] BUY at $285.32 98.57 91.22 10\n",
      "2022-09-28 11:28:00 strategy [INFO] SELL at $285.02 84.17 88.24 0\n",
      "2022-09-28 11:28:00 strategy [INFO] BUY at $285.02 84.17 88.24 -10\n",
      "2022-09-28 11:44:00 strategy [INFO] SELL at $282.69 11.06 10.35 0\n",
      "2022-09-28 11:44:00 strategy [INFO] BUY at $282.69 11.06 10.35 10\n",
      "2022-09-28 11:58:00 strategy [INFO] SELL at $284.60 90.04 94.99 0\n",
      "2022-09-28 11:58:00 strategy [INFO] BUY at $284.60 90.04 94.99 -10\n",
      "2022-09-28 12:12:00 strategy [INFO] SELL at $283.70 41.62 20.6 0\n",
      "2022-09-28 12:12:00 strategy [INFO] BUY at $283.70 41.62 20.6 10\n",
      "2022-09-28 12:18:00 strategy [INFO] SELL at $283.80 53.33 53.54 0\n",
      "2022-09-28 12:18:00 strategy [INFO] BUY at $283.80 53.33 53.54 -10\n",
      "2022-09-28 12:20:00 strategy [INFO] SELL at $284.01 82.44 62.66 0\n",
      "2022-09-28 12:20:00 strategy [INFO] BUY at $284.01 82.44 62.66 10\n",
      "2022-09-28 12:22:00 strategy [INFO] SELL at $283.42 35.88 57.22 0\n",
      "2022-09-28 12:22:00 strategy [INFO] BUY at $283.42 35.88 57.22 -10\n",
      "2022-09-28 12:30:00 strategy [INFO] SELL at $282.60 21.49 9.88 0\n",
      "2022-09-28 12:30:00 strategy [INFO] BUY at $282.60 21.49 9.88 10\n",
      "2022-09-28 12:38:00 strategy [INFO] SELL at $282.80 34.71 41.46 0\n",
      "2022-09-28 12:38:00 strategy [INFO] BUY at $282.80 34.71 41.46 -10\n",
      "2022-09-28 12:40:00 strategy [INFO] SELL at $282.70 41.05 39.19 0\n",
      "2022-09-28 12:40:00 strategy [INFO] BUY at $282.70 41.05 39.19 10\n",
      "2022-09-28 12:48:00 strategy [INFO] SELL at $283.20 68.52 75.93 0\n",
      "2022-09-28 12:48:00 strategy [INFO] BUY at $283.20 68.52 75.93 -10\n",
      "2022-09-28 12:56:00 strategy [INFO] SELL at $282.93 48.33 33.61 0\n",
      "2022-09-28 12:56:00 strategy [INFO] BUY at $282.93 48.33 33.61 10\n",
      "2022-09-28 12:58:00 strategy [INFO] SELL at $282.59 16.4 32.13 0\n",
      "2022-09-28 12:58:00 strategy [INFO] BUY at $282.59 16.4 32.13 -10\n",
      "2022-09-28 13:00:00 strategy [INFO] SELL at $282.89 40.0 34.91 0\n",
      "2022-09-28 13:00:00 strategy [INFO] BUY at $282.89 40.0 34.91 10\n",
      "2022-09-28 13:12:00 strategy [INFO] SELL at $284.15 78.21 90.98 0\n",
      "2022-09-28 13:12:00 strategy [INFO] BUY at $284.15 78.21 90.98 -10\n",
      "2022-09-28 13:18:00 strategy [INFO] SELL at $284.11 73.76 71.06 0\n",
      "2022-09-28 13:18:00 strategy [INFO] BUY at $284.11 73.76 71.06 10\n",
      "2022-09-28 13:20:00 strategy [INFO] SELL at $284.15 67.57 70.05 0\n",
      "2022-09-28 13:20:00 strategy [INFO] BUY at $284.15 67.57 70.05 -10\n",
      "2022-09-28 13:30:00 strategy [INFO] SELL at $283.50 33.62 18.88 0\n",
      "2022-09-28 13:30:00 strategy [INFO] BUY at $283.50 33.62 18.88 10\n",
      "2022-09-28 13:34:00 strategy [INFO] SELL at $283.56 35.58 38.84 0\n",
      "2022-09-28 13:34:00 strategy [INFO] BUY at $283.56 35.58 38.84 -10\n",
      "2022-09-28 13:40:00 strategy [INFO] SELL at $283.34 34.61 20.57 0\n",
      "2022-09-28 13:40:00 strategy [INFO] BUY at $283.34 34.61 20.57 10\n",
      "2022-09-28 13:46:00 strategy [INFO] SELL at $282.67 3.45 43.81 0\n",
      "2022-09-28 13:46:00 strategy [INFO] BUY at $282.67 3.45 43.81 -10\n",
      "2022-09-28 13:50:00 strategy [INFO] SELL at $282.64 18.53 8.73 0\n",
      "2022-09-28 13:50:00 strategy [INFO] BUY at $282.64 18.53 8.73 10\n",
      "2022-09-28 13:54:00 strategy [INFO] SELL at $282.84 17.19 18.42 0\n",
      "2022-09-28 13:54:00 strategy [INFO] BUY at $282.84 17.19 18.42 -10\n",
      "2022-09-28 13:56:00 strategy [INFO] SELL at $282.82 42.19 26.3 0\n",
      "2022-09-28 13:56:00 strategy [INFO] BUY at $282.82 42.19 26.3 10\n",
      "2022-09-28 14:08:00 strategy [INFO] SELL at $283.36 76.83 83.89 0\n",
      "2022-09-28 14:08:00 strategy [INFO] BUY at $283.36 76.83 83.89 -10\n",
      "2022-09-28 14:12:00 strategy [INFO] SELL at $283.64 77.78 75.2 0\n",
      "2022-09-28 14:12:00 strategy [INFO] BUY at $283.64 77.78 75.2 10\n",
      "2022-09-28 14:14:00 strategy [INFO] SELL at $283.32 66.22 71.66 0\n",
      "2022-09-28 14:14:00 strategy [INFO] BUY at $283.32 66.22 71.66 -10\n",
      "2022-09-28 14:16:00 strategy [INFO] SELL at $283.50 82.76 75.58 0\n",
      "2022-09-28 14:16:00 strategy [INFO] BUY at $283.50 82.76 75.58 10\n",
      "2022-09-28 14:18:00 strategy [INFO] SELL at $283.37 66.67 71.88 0\n",
      "2022-09-28 14:18:00 strategy [INFO] BUY at $283.37 66.67 71.88 -10\n",
      "2022-09-28 14:20:00 strategy [INFO] SELL at $283.62 89.87 79.76 0\n",
      "2022-09-28 14:20:00 strategy [INFO] BUY at $283.62 89.87 79.76 10\n",
      "2022-09-28 14:22:00 strategy [INFO] SELL at $283.34 47.06 67.86 0\n",
      "2022-09-28 14:22:00 strategy [INFO] BUY at $283.34 47.06 67.86 -10\n",
      "2022-09-28 14:28:00 strategy [INFO] SELL at $283.46 70.74 32.62 0\n",
      "2022-09-28 14:28:00 strategy [INFO] BUY at $283.46 70.74 32.62 10\n",
      "2022-09-28 14:36:00 strategy [INFO] SELL at $284.83 91.59 92.15 0\n",
      "2022-09-28 14:36:00 strategy [INFO] BUY at $284.83 91.59 92.15 -10\n",
      "2022-09-28 14:50:00 strategy [INFO] SELL at $284.70 51.33 47.95 0\n",
      "2022-09-28 14:50:00 strategy [INFO] BUY at $284.70 51.33 47.95 10\n",
      "2022-09-28 14:54:00 strategy [INFO] SELL at $284.82 61.96 62.46 0\n",
      "2022-09-28 14:54:00 strategy [INFO] BUY at $284.82 61.96 62.46 -10\n",
      "2022-09-28 14:56:00 strategy [INFO] SELL at $285.10 92.25 76.1 0\n",
      "2022-09-28 14:56:00 strategy [INFO] BUY at $285.10 92.25 76.1 10\n",
      "2022-09-28 15:00:00 strategy [INFO] SELL at $285.04 85.02 86.32 0\n",
      "2022-09-28 15:00:00 strategy [INFO] BUY at $285.04 85.02 86.32 -10\n",
      "2022-09-28 15:02:00 strategy [INFO] SELL at $285.74 99.39 88.7 0\n",
      "2022-09-28 15:02:00 strategy [INFO] BUY at $285.74 99.39 88.7 10\n",
      "2022-09-28 15:04:00 strategy [INFO] SELL at $286.23 88.39 90.93 0\n",
      "2022-09-28 15:04:00 strategy [INFO] BUY at $286.23 88.39 90.93 -10\n",
      "2022-09-28 15:08:00 strategy [INFO] SELL at $286.78 99.88 86.25 0\n",
      "2022-09-28 15:08:00 strategy [INFO] BUY at $286.78 99.88 86.25 10\n",
      "2022-09-28 15:10:00 strategy [INFO] SELL at $286.73 84.66 85.01 0\n",
      "2022-09-28 15:10:00 strategy [INFO] BUY at $286.73 84.66 85.01 -10\n",
      "2022-09-28 15:14:00 strategy [INFO] SELL at $286.85 85.88 84.62 0\n",
      "2022-09-28 15:14:00 strategy [INFO] BUY at $286.85 85.88 84.62 10\n",
      "2022-09-28 15:16:00 strategy [INFO] SELL at $286.74 83.09 84.09 0\n",
      "2022-09-28 15:16:00 strategy [INFO] BUY at $286.74 83.09 84.09 -10\n",
      "2022-09-28 15:18:00 strategy [INFO] SELL at $287.09 99.34 89.44 0\n",
      "2022-09-28 15:18:00 strategy [INFO] BUY at $287.09 99.34 89.44 10\n",
      "2022-09-28 15:20:00 strategy [INFO] SELL at $287.42 88.97 90.47 0\n",
      "2022-09-28 15:20:00 strategy [INFO] BUY at $287.42 88.97 90.47 -10\n",
      "2022-09-28 15:24:00 strategy [INFO] SELL at $287.39 88.53 87.93 0\n",
      "2022-09-28 15:24:00 strategy [INFO] BUY at $287.39 88.53 87.93 10\n",
      "2022-09-28 15:28:00 strategy [INFO] SELL at $287.42 78.9 88.03 0\n",
      "2022-09-28 15:28:00 strategy [INFO] BUY at $287.42 78.9 88.03 -10\n",
      "2022-09-28 15:32:00 strategy [INFO] SELL at $287.67 78.14 74.46 0\n",
      "2022-09-28 15:32:00 strategy [INFO] BUY at $287.67 78.14 74.46 10\n",
      "2022-09-28 15:44:00 strategy [INFO] SELL at $288.65 94.29 97.33 0\n",
      "2022-09-28 15:44:00 strategy [INFO] BUY at $288.65 94.29 97.33 -10\n",
      "2022-09-28 15:54:00 strategy [INFO] SELL at $288.88 88.16 71.76 0\n",
      "2022-09-28 15:54:00 strategy [INFO] BUY at $288.88 88.16 71.76 10\n",
      "2022-09-28 15:56:00 strategy [INFO] SELL at $288.27 24.49 55.35 0\n",
      "2022-09-28 15:56:00 strategy [INFO] BUY at $288.27 24.49 55.35 -10\n"
     ]
    },
    {
     "name": "stdout",
     "output_type": "stream",
     "text": [
      "Final portfolio value: $100317.91\n"
     ]
    }
   ],
   "source": [
    "# Interval = 2 min K\n",
    "\n",
    "from pyalgotrade import strategy\n",
    "from pyalgotrade.barfeed import csvfeed\n",
    "from pyalgotrade.technical import ma\n",
    "from pyalgotrade.technical import rsi\n",
    "from pyalgotrade.technical import stoch\n",
    "from pyalgotrade.bar import Frequency\n",
    "\n",
    "\n",
    "number_of_shares = 10\n",
    "kdj = []\n",
    "kdjd = []\n",
    "rsi1 = []\n",
    "\n",
    "def safe_round(value, digits):\n",
    "    if value is not None:\n",
    "        value = round(value, digits)\n",
    "    return value\n",
    "\n",
    "class MyStrategy(strategy.BacktestingStrategy):\n",
    "    def __init__(self, feed, instrument, smaPeriod):\n",
    "        super(MyStrategy, self).__init__(feed, 100000) # initial equity\n",
    "        \n",
    "        # We'll use adjusted close values instead of regular close values.\n",
    "        # self.setUseAdjustedValues(True)\n",
    "        self.__sma = ma.SMA(feed[instrument].getCloseDataSeries(), smaPeriod)\n",
    "        self.__rsi = rsi.RSI(feed[instrument].getCloseDataSeries(), 6)\n",
    "        self.__kdj = stoch.StochasticOscillator(feed[instrument], period=9, dSMAPeriod=3)\n",
    "        self.D = self.__kdj.getD()\n",
    "        self.__position = None\n",
    "        self.__instrument = instrument\n",
    "\n",
    "    def onEnterOk(self, position):\n",
    "        global execInfo\n",
    "        execInfo = position.getEntryOrder().getExecutionInfo()\n",
    "        self.info(\"BUY at $%.2f %s %s %s\" % (execInfo.getPrice(),safe_round(self.__kdj[-2], 2),safe_round(self.D[-2], 2),self.__position.getShares()))\n",
    "        global buy, total_buy\n",
    "        buy = execInfo.getPrice() * number_of_shares\n",
    "        total_buy += buy\n",
    "\n",
    "    def onEnterCanceled(self, position):\n",
    "        self.__position = None\n",
    "\n",
    "    def onExitOk(self, position):\n",
    "        execInfo = position.getExitOrder().getExecutionInfo()\n",
    "        self.info(\"SELL at $%.2f %s %s %s\" % (execInfo.getPrice(),safe_round(self.__kdj[-2], 2),safe_round(self.D[-2], 2),self.__position.getShares()))\n",
    "        # self.__position = None\n",
    "        sell = execInfo.getPrice() * number_of_shares\n",
    "        global return_per_share, total_sell\n",
    "        total_sell += sell\n",
    "        return_per_share = total_sell - total_buy\n",
    "\n",
    "    def onExitCanceled(self, position):\n",
    "        # If the exit was canceled, re-submit it.\n",
    "        self.__position.exitMarket()\n",
    "\n",
    "    def onBars(self, bars):\n",
    "        # Wait for enough bars to be available to calculate a SMA.\n",
    "        if self.__sma[-1] is None:\n",
    "            return\n",
    "        \n",
    "        kdj.append(self.__kdj[-1])\n",
    "        kdjd.append(self.D[-1])\n",
    "        rsi1.append(self.__rsi[-1])\n",
    "        # for i in enumerate(self.__rsi):\n",
    "        #     print(i)\n",
    "        # ALL 30 70 (20)(14)\n",
    "        # if self.__position is None:\n",
    "        #     if safe_round(self.__kdj[-2], 2) < 30 and safe_round(self.__rsi[-2], 2) < 30 and \\\n",
    "        #         safe_round(self.__kdj[-1], 2) > safe_round(self.__kdj[-2], 2) and safe_round(self.__rsi[-1], 2) > safe_round(self.__rsi[-2], 2):\n",
    "        #         self.__position = self.enterLongStop(self.__instrument, stopPrice=execInfo.getPrice() * 0.995, quantity=number_of_shares, goodTillCanceled=True)\n",
    "        #     if safe_round(self.__kdj[-2], 2) > 70 and safe_round(self.__rsi[-2], 2) > 70 and \\\n",
    "        #         safe_round(self.__kdj[-1], 2) < safe_round(self.__kdj[-2], 2) and safe_round(self.__rsi[-1], 2) < safe_round(self.__rsi[-2], 2):\n",
    "        #         self.__position = self.enterShortStop(self.__instrument, stopPrice=execInfo.getPrice() * 1.005, quantity=number_of_shares, goodTillCanceled=True)\n",
    "        # else:\n",
    "        #     if safe_round(self.__kdj[-2], 2) > 70 and safe_round(self.__rsi[-2], 2) > 70 and \\\n",
    "        #         safe_round(self.__kdj[-1], 2) < safe_round(self.__kdj[-2], 2) and safe_round(self.__rsi[-1], 2) < safe_round(self.__rsi[-2], 2) and not self.__position.exitActive() and str(type(self.__position)) == \"<class 'pyalgotrade.strategy.position.LongPosition'>\":\n",
    "        #         self.__position.exitMarket()\n",
    "        #         self.__position = self.enterShortStop(self.__instrument, stopPrice=execInfo.getPrice() * 1.005, quantity=number_of_shares, goodTillCanceled=True)\n",
    "        #     if safe_round(self.__kdj[-2], 2) < 30 and safe_round(self.__rsi[-2], 2) < 30 and \\\n",
    "        #         safe_round(self.__kdj[-1], 2) > safe_round(self.__kdj[-2], 2) and safe_round(self.__rsi[-1], 2) > safe_round(self.__rsi[-2], 2) and not self.__position.exitActive() and str(type(self.__position)) == \"<class 'pyalgotrade.strategy.position.ShortPosition'>\":\n",
    "        #         self.__position.exitMarket()\n",
    "        #         self.__position = self.enterLongStop(self.__instrument, stopPrice=execInfo.getPrice() * 0.995, quantity=number_of_shares, goodTillCanceled=True)\n",
    "\n",
    "\n",
    "        # ALL 30 70 (13)(15)\n",
    "        # if self.__position is None:\n",
    "        #     if safe_round(self.__kdj[-2], 2) < 30 and safe_round(self.__rsi[-2], 2) < 30 and \\\n",
    "        #         safe_round(self.__kdj[-1], 2) < safe_round(self.__kdj[-2], 2) and safe_round(self.__rsi[-1], 2) < safe_round(self.__rsi[-2], 2):\n",
    "        #         self.__position = self.enterLong(self.__instrument, number_of_shares, True)\n",
    "        #     if safe_round(self.__kdj[-2], 2) > 70 and safe_round(self.__rsi[-2], 2) > 70 and \\\n",
    "        #         safe_round(self.__kdj[-1], 2) > safe_round(self.__kdj[-2], 2) and safe_round(self.__rsi[-1], 2) > safe_round(self.__rsi[-2], 2):\n",
    "        #         self.__position = self.enterShort(self.__instrument, number_of_shares, True)\n",
    "        # else:\n",
    "        #     if safe_round(self.__kdj[-2], 2) > 70 and safe_round(self.__rsi[-2], 2) > 70 and \\\n",
    "        #         safe_round(self.__kdj[-1], 2) > safe_round(self.__kdj[-2], 2) and safe_round(self.__rsi[-1], 2) > safe_round(self.__rsi[-2], 2) and not self.__position.exitActive() and str(type(self.__position)) == \"<class 'pyalgotrade.strategy.position.LongPosition'>\":\n",
    "        #         self.__position.exitMarket()\n",
    "        #         self.__position = self.enterShort(self.__instrument, number_of_shares, True)\n",
    "        #     if safe_round(self.__kdj[-2], 2) < 30 and safe_round(self.__rsi[-2], 2) < 30 and \\\n",
    "        #         safe_round(self.__kdj[-1], 2) < safe_round(self.__kdj[-2], 2) and safe_round(self.__rsi[-1], 2) < safe_round(self.__rsi[-2], 2) and not self.__position.exitActive() and str(type(self.__position)) == \"<class 'pyalgotrade.strategy.position.ShortPosition'>\":\n",
    "        #         self.__position.exitMarket()\n",
    "        #         self.__position = self.enterLong(self.__instrument, number_of_shares, True)\n",
    "\n",
    "        # ALL 20 80 (8.6)\n",
    "        # if self.__position is None:\n",
    "        #     if safe_round(self.__kdj[-2], 2) < 20 and safe_round(self.__rsi[-2], 2) < 20 and \\\n",
    "        #         safe_round(self.__kdj[-1], 2) > safe_round(self.__kdj[-2], 2) and safe_round(self.__rsi[-1], 2) > safe_round(self.__rsi[-2], 2):\n",
    "        #         self.__position = self.enterLong(self.__instrument, number_of_shares, True)\n",
    "        #     if safe_round(self.__kdj[-2], 2) > 80 and safe_round(self.__rsi[-2], 2) > 80 and \\\n",
    "        #         safe_round(self.__kdj[-1], 2) < safe_round(self.__kdj[-2], 2) and safe_round(self.__rsi[-1], 2) < safe_round(self.__rsi[-2], 2):\n",
    "        #         self.__position = self.enterShort(self.__instrument, number_of_shares, True)\n",
    "        # else:\n",
    "        #     if safe_round(self.__kdj[-2], 2) > 80 and safe_round(self.__rsi[-2], 2) > 80 and \\\n",
    "        #         safe_round(self.__kdj[-1], 2) < safe_round(self.__kdj[-2], 2) and safe_round(self.__rsi[-1], 2) < safe_round(self.__rsi[-2], 2) and not self.__position.exitActive() and str(type(self.__position)) == \"<class 'pyalgotrade.strategy.position.LongPosition'>\":\n",
    "        #         self.__position.exitMarket()\n",
    "        #         self.__position = self.enterShort(self.__instrument, number_of_shares, True)\n",
    "        #     if safe_round(self.__kdj[-2], 2) < 20 and safe_round(self.__rsi[-2], 2) < 20 and \\\n",
    "        #         safe_round(self.__kdj[-1], 2) > safe_round(self.__kdj[-2], 2) and safe_round(self.__rsi[-1], 2) > safe_round(self.__rsi[-2], 2) and not self.__position.exitActive() and str(type(self.__position)) == \"<class 'pyalgotrade.strategy.position.ShortPosition'>\":\n",
    "        #         self.__position.exitMarket()\n",
    "        #         self.__position = self.enterLong(self.__instrument, number_of_shares, True)\n",
    "\n",
    "        # ALL 20 80 \n",
    "        # if self.__position is None:\n",
    "        #     if safe_round(self.__kdj[-2], 2) < 20 and safe_round(self.__rsi[-2], 2) < 20 and \\\n",
    "        #         safe_round(self.__kdj[-1], 2) < safe_round(self.__kdj[-2], 2) and safe_round(self.__rsi[-1], 2) < safe_round(self.__rsi[-2], 2):\n",
    "        #         self.__position = self.enterLong(self.__instrument, number_of_shares, True)\n",
    "        #     if safe_round(self.__kdj[-2], 2) > 80 and safe_round(self.__rsi[-2], 2) > 80 and \\\n",
    "        #         safe_round(self.__kdj[-1], 2) > safe_round(self.__kdj[-2], 2) and safe_round(self.__rsi[-1], 2) > safe_round(self.__rsi[-2], 2):\n",
    "        #         self.__position = self.enterShort(self.__instrument, number_of_shares, True)\n",
    "        # else:\n",
    "        #     if safe_round(self.__kdj[-2], 2) > 80 and safe_round(self.__rsi[-2], 2) > 80 and \\\n",
    "        #         safe_round(self.__kdj[-1], 2) > safe_round(self.__kdj[-2], 2) and safe_round(self.__rsi[-1], 2) > safe_round(self.__rsi[-2], 2) and not self.__position.exitActive() and str(type(self.__position)) == \"<class 'pyalgotrade.strategy.position.LongPosition'>\":\n",
    "        #         self.__position.exitMarket()\n",
    "        #         self.__position = self.enterShort(self.__instrument, number_of_shares, True)\n",
    "        #     if safe_round(self.__kdj[-2], 2) < 20 and safe_round(self.__rsi[-2], 2) < 20 and \\\n",
    "        #         safe_round(self.__kdj[-1], 2) < safe_round(self.__kdj[-2], 2) and safe_round(self.__rsi[-1], 2) < safe_round(self.__rsi[-2], 2) and not self.__position.exitActive() and str(type(self.__position)) == \"<class 'pyalgotrade.strategy.position.ShortPosition'>\":\n",
    "        #         self.__position.exitMarket()\n",
    "        #         self.__position = self.enterLong(self.__instrument, number_of_shares, True)\n",
    "\n",
    "        # Just < 30 and > 70 (17)(15)\n",
    "        # if self.__position is None:\n",
    "        #     if safe_round(self.__kdj[-1], 2) < 30 and safe_round(self.__rsi[-1], 2) < 30:\n",
    "        #         self.__position = self.enterLong(self.__instrument, number_of_shares, True)\n",
    "        #     if safe_round(self.__kdj[-1], 2) > 70 and safe_round(self.__rsi[-1], 2) > 70:\n",
    "        #         self.__position = self.enterShort(self.__instrument, number_of_shares, True)\n",
    "        # else:\n",
    "        #     if safe_round(self.__kdj[-1], 2) > 70 and safe_round(self.__rsi[-1], 2) > 70 and not self.__position.exitActive() and str(type(self.__position)) == \"<class 'pyalgotrade.strategy.position.LongPosition'>\":\n",
    "        #         self.__position.exitMarket()\n",
    "        #         self.__position = self.enterShort(self.__instrument, number_of_shares, True)\n",
    "        #     if safe_round(self.__kdj[-1], 2) < 30 and safe_round(self.__rsi[-1], 2) < 30 and not self.__position.exitActive() and str(type(self.__position)) == \"<class 'pyalgotrade.strategy.position.ShortPosition'>\":\n",
    "        #         self.__position.exitMarket()\n",
    "        #         self.__position = self.enterLong(self.__instrument, number_of_shares, True)\n",
    "\n",
    "        # Just < 20 and > 80 (10)\n",
    "        # if self.__position is None:\n",
    "        #     if safe_round(self.__kdj[-1], 2) < 20 and safe_round(self.__rsi[-1], 2) < 20:\n",
    "        #         self.__position = self.enterLong(self.__instrument, number_of_shares, True)\n",
    "        #     if safe_round(self.__kdj[-1], 2) > 80 and safe_round(self.__rsi[-1], 2) > 80:\n",
    "        #         self.__position = self.enterShort(self.__instrument, number_of_shares, True)\n",
    "        # else:\n",
    "        #     if safe_round(self.__kdj[-1], 2) > 80 and safe_round(self.__rsi[-1], 2) > 80 and not self.__position.exitActive() and str(type(self.__position)) == \"<class 'pyalgotrade.strategy.position.LongPosition'>\":\n",
    "        #         self.__position.exitMarket()\n",
    "        #         self.__position = self.enterShort(self.__instrument, number_of_shares, True)\n",
    "        #     if safe_round(self.__kdj[-1], 2) < 20 and safe_round(self.__rsi[-1], 2) < 20 and not self.__position.exitActive() and str(type(self.__position)) == \"<class 'pyalgotrade.strategy.position.ShortPosition'>\":\n",
    "        #         self.__position.exitMarket()\n",
    "        #         self.__position = self.enterLong(self.__instrument, number_of_shares, True)\n",
    "\n",
    "        # KDJ cross (15.4)\n",
    "        # if self.__position is None:\n",
    "        #     # print(self.__kdj[-1],self.D[-1])\n",
    "        #     if safe_round(self.__kdj[-1],2) > safe_round(self.D[-1],2):\n",
    "        #         self.__position = self.enterLong(self.__instrument, number_of_shares, True)\n",
    "        #     if safe_round(self.__kdj[-1],2) < safe_round(self.D[-1],2):\n",
    "        #         self.__position = self.enterShort(self.__instrument, number_of_shares, True)\n",
    "        # else:\n",
    "        #     if safe_round(self.__kdj[-1],2) < safe_round(self.D[-1],2) and str(type(self.__position)) == \"<class 'pyalgotrade.strategy.position.LongPosition'>\" and not self.__position.exitActive():\n",
    "        #         self.__position.exitMarket()\n",
    "        #         self.__position = self.enterShort(self.__instrument, number_of_shares, True)\n",
    "        #     if safe_round(self.__kdj[-1],2) > safe_round(self.D[-1],2) and str(type(self.__position)) == \"<class 'pyalgotrade.strategy.position.ShortPosition'>\" and not self.__position.exitActive():\n",
    "        #         self.__position.exitMarket()\n",
    "        #         self.__position = self.enterLong(self.__instrument, number_of_shares, True)\n",
    "\n",
    "        if self.__position is None:\n",
    "            if safe_round(self.__kdj[-1],2) > safe_round(self.D[-1],2):\n",
    "                self.__position = self.enterLong(self.__instrument, number_of_shares, True)\n",
    "            if safe_round(self.__kdj[-1],2) < safe_round(self.D[-1],2):\n",
    "                self.__position = self.enterShort(self.__instrument, number_of_shares, True)\n",
    "        else:\n",
    "            if safe_round(self.__kdj[-1],2) < safe_round(self.D[-1],2) and str(type(self.__position)) == \"<class 'pyalgotrade.strategy.position.LongPosition'>\" and not self.__position.exitActive():\n",
    "                self.__position.exitMarket()\n",
    "                self.__position = self.enterShort(self.__instrument, number_of_shares, True)\n",
    "            if safe_round(self.__kdj[-1],2) > safe_round(self.D[-1],2) and str(type(self.__position)) == \"<class 'pyalgotrade.strategy.position.ShortPosition'>\" and not self.__position.exitActive():\n",
    "                self.__position.exitMarket()\n",
    "                self.__position = self.enterLong(self.__instrument, number_of_shares, True)\n",
    "\n",
    "        # trial 2 (9)\n",
    "        # if self.__position is None:\n",
    "        #     if safe_round(self.__kdj[-1],2) > safe_round(self.D[-1],2) and safe_round(self.__kdj[-2], 2) < 50 and safe_round(self.__rsi[-2], 2) < 50:\n",
    "        #         self.__position = self.enterLong(self.__instrument, number_of_shares, True)\n",
    "        #     if safe_round(self.__kdj[-1],2) < safe_round(self.D[-1],2) and safe_round(self.__kdj[-2], 2) > 50 and safe_round(self.__rsi[-2], 2) > 50:\n",
    "        #         self.__position = self.enterShort(self.__instrument, number_of_shares, True)\n",
    "        # else:\n",
    "        #     if safe_round(self.__kdj[-2], 2) > 80 and safe_round(self.__rsi[-2], 2) > 80 and str(type(self.__position)) == \"<class 'pyalgotrade.strategy.position.LongPosition'>\" and not self.__position.exitActive():\n",
    "        #         self.__position.exitMarket()\n",
    "        #         self.__position = self.enterShort(self.__instrument, number_of_shares, True)\n",
    "        #     if safe_round(self.__kdj[-2], 2) < 20 and safe_round(self.__rsi[-2], 2) < 20 and str(type(self.__position)) == \"<class 'pyalgotrade.strategy.position.ShortPosition'>\" and not self.__position.exitActive():\n",
    "        #         self.__position.exitMarket()\n",
    "        #         self.__position = self.enterLong(self.__instrument, number_of_shares, True)\n",
    "\n",
    "        # trial 3 (17)\n",
    "        # if self.__position is None:\n",
    "        #     if safe_round(self.__kdj[-1],2) > safe_round(self.D[-1],2) and safe_round(self.__kdj[-2], 2) < 50 and safe_round(self.__rsi[-2], 2) < 50:\n",
    "        #         self.__position = self.enterLong(self.__instrument, number_of_shares, True)\n",
    "        #     if safe_round(self.__kdj[-1],2) < safe_round(self.D[-1],2) and safe_round(self.__kdj[-2], 2) > 50 and safe_round(self.__rsi[-2], 2) > 50:\n",
    "        #         self.__position = self.enterShort(self.__instrument, number_of_shares, True)\n",
    "        # else:\n",
    "        #     if safe_round(self.__kdj[-1],2) < safe_round(self.D[-1],2) and str(type(self.__position)) == \"<class 'pyalgotrade.strategy.position.LongPosition'>\" and not self.__position.exitActive():\n",
    "        #         self.__position.exitMarket()\n",
    "        #         self.__position = self.enterShort(self.__instrument, number_of_shares, True)\n",
    "        #     if safe_round(self.__kdj[-1],2) > safe_round(self.D[-1],2) and str(type(self.__position)) == \"<class 'pyalgotrade.strategy.position.ShortPosition'>\" and not self.__position.exitActive():\n",
    "        #         self.__position.exitMarket()\n",
    "        #         self.__position = self.enterLong(self.__instrument, number_of_shares, True)\n",
    "\n",
    "\n",
    "def run_strategy(smaPeriod):\n",
    "    global total_sell, total_buy\n",
    "    total_buy = 0\n",
    "    total_sell = 0\n",
    "    # Load the bar feed from the CSV file\n",
    "    # feed = quandlfeed.Feed()\n",
    "    feed = csvfeed.GenericBarFeed(Frequency.MINUTE)\n",
    "    feed.addBarsFromCSV(ticker,'data.csv')\n",
    "\n",
    "    # Evaluate the strategy with the feed.\n",
    "    myStrategy = MyStrategy(feed, ticker, smaPeriod)\n",
    "    myStrategy.run()\n",
    "    print(\"Final portfolio value: $%.2f\" % myStrategy.getBroker().getEquity())\n",
    "    # print('Return = ', return_per_share)\n",
    "\n",
    "run_strategy(15)\n"
   ]
  },
  {
   "cell_type": "code",
   "execution_count": 10,
   "metadata": {},
   "outputs": [
    {
     "data": {
      "application/vnd.plotly.v1+json": {
       "config": {
        "plotlyServerURL": "https://plot.ly"
       },
       "data": [
        {
         "mode": "lines",
         "name": "KDJ K Line",
         "type": "scatter",
         "x": [
          "2022-09-28 09:30:00",
          "2022-09-28 09:32:00",
          "2022-09-28 09:34:00",
          "2022-09-28 09:36:00",
          "2022-09-28 09:38:00",
          "2022-09-28 09:40:00",
          "2022-09-28 09:42:00",
          "2022-09-28 09:44:00",
          "2022-09-28 09:46:00",
          "2022-09-28 09:48:00",
          "2022-09-28 09:50:00",
          "2022-09-28 09:52:00",
          "2022-09-28 09:54:00",
          "2022-09-28 09:56:00",
          "2022-09-28 09:58:00",
          "2022-09-28 10:00:00",
          "2022-09-28 10:02:00",
          "2022-09-28 10:04:00",
          "2022-09-28 10:06:00",
          "2022-09-28 10:08:00",
          "2022-09-28 10:10:00",
          "2022-09-28 10:12:00",
          "2022-09-28 10:14:00",
          "2022-09-28 10:16:00",
          "2022-09-28 10:18:00",
          "2022-09-28 10:20:00",
          "2022-09-28 10:22:00",
          "2022-09-28 10:24:00",
          "2022-09-28 10:26:00",
          "2022-09-28 10:28:00",
          "2022-09-28 10:30:00",
          "2022-09-28 10:32:00",
          "2022-09-28 10:34:00",
          "2022-09-28 10:36:00",
          "2022-09-28 10:38:00",
          "2022-09-28 10:40:00",
          "2022-09-28 10:42:00",
          "2022-09-28 10:44:00",
          "2022-09-28 10:46:00",
          "2022-09-28 10:48:00",
          "2022-09-28 10:50:00",
          "2022-09-28 10:52:00",
          "2022-09-28 10:54:00",
          "2022-09-28 10:56:00",
          "2022-09-28 10:58:00",
          "2022-09-28 11:00:00",
          "2022-09-28 11:02:00",
          "2022-09-28 11:04:00",
          "2022-09-28 11:06:00",
          "2022-09-28 11:08:00",
          "2022-09-28 11:10:00",
          "2022-09-28 11:12:00",
          "2022-09-28 11:14:00",
          "2022-09-28 11:16:00",
          "2022-09-28 11:18:00",
          "2022-09-28 11:20:00",
          "2022-09-28 11:22:00",
          "2022-09-28 11:24:00",
          "2022-09-28 11:26:00",
          "2022-09-28 11:28:00",
          "2022-09-28 11:30:00",
          "2022-09-28 11:32:00",
          "2022-09-28 11:34:00",
          "2022-09-28 11:36:00",
          "2022-09-28 11:38:00",
          "2022-09-28 11:40:00",
          "2022-09-28 11:42:00",
          "2022-09-28 11:44:00",
          "2022-09-28 11:46:00",
          "2022-09-28 11:48:00",
          "2022-09-28 11:50:00",
          "2022-09-28 11:52:00",
          "2022-09-28 11:54:00",
          "2022-09-28 11:56:00",
          "2022-09-28 11:58:00",
          "2022-09-28 12:00:00",
          "2022-09-28 12:02:00",
          "2022-09-28 12:04:00",
          "2022-09-28 12:06:00",
          "2022-09-28 12:08:00",
          "2022-09-28 12:10:00",
          "2022-09-28 12:12:00",
          "2022-09-28 12:14:00",
          "2022-09-28 12:16:00",
          "2022-09-28 12:18:00",
          "2022-09-28 12:20:00",
          "2022-09-28 12:22:00",
          "2022-09-28 12:24:00",
          "2022-09-28 12:26:00",
          "2022-09-28 12:28:00",
          "2022-09-28 12:30:00",
          "2022-09-28 12:32:00",
          "2022-09-28 12:34:00",
          "2022-09-28 12:36:00",
          "2022-09-28 12:38:00",
          "2022-09-28 12:40:00",
          "2022-09-28 12:42:00",
          "2022-09-28 12:44:00",
          "2022-09-28 12:46:00",
          "2022-09-28 12:48:00",
          "2022-09-28 12:50:00",
          "2022-09-28 12:52:00",
          "2022-09-28 12:54:00",
          "2022-09-28 12:56:00",
          "2022-09-28 12:58:00",
          "2022-09-28 13:00:00",
          "2022-09-28 13:02:00",
          "2022-09-28 13:04:00",
          "2022-09-28 13:06:00",
          "2022-09-28 13:08:00",
          "2022-09-28 13:10:00",
          "2022-09-28 13:12:00",
          "2022-09-28 13:14:00",
          "2022-09-28 13:16:00",
          "2022-09-28 13:18:00",
          "2022-09-28 13:20:00",
          "2022-09-28 13:22:00",
          "2022-09-28 13:24:00",
          "2022-09-28 13:26:00",
          "2022-09-28 13:28:00",
          "2022-09-28 13:30:00",
          "2022-09-28 13:32:00",
          "2022-09-28 13:34:00",
          "2022-09-28 13:36:00",
          "2022-09-28 13:38:00",
          "2022-09-28 13:40:00",
          "2022-09-28 13:42:00",
          "2022-09-28 13:44:00",
          "2022-09-28 13:46:00",
          "2022-09-28 13:48:00",
          "2022-09-28 13:50:00",
          "2022-09-28 13:52:00",
          "2022-09-28 13:54:00",
          "2022-09-28 13:56:00",
          "2022-09-28 13:58:00",
          "2022-09-28 14:00:00",
          "2022-09-28 14:02:00",
          "2022-09-28 14:04:00",
          "2022-09-28 14:06:00",
          "2022-09-28 14:08:00",
          "2022-09-28 14:10:00",
          "2022-09-28 14:12:00",
          "2022-09-28 14:14:00",
          "2022-09-28 14:16:00",
          "2022-09-28 14:18:00",
          "2022-09-28 14:20:00",
          "2022-09-28 14:22:00",
          "2022-09-28 14:24:00",
          "2022-09-28 14:26:00",
          "2022-09-28 14:28:00",
          "2022-09-28 14:30:00",
          "2022-09-28 14:32:00",
          "2022-09-28 14:34:00",
          "2022-09-28 14:36:00",
          "2022-09-28 14:38:00",
          "2022-09-28 14:40:00",
          "2022-09-28 14:42:00",
          "2022-09-28 14:44:00",
          "2022-09-28 14:46:00",
          "2022-09-28 14:48:00",
          "2022-09-28 14:50:00",
          "2022-09-28 14:52:00",
          "2022-09-28 14:54:00",
          "2022-09-28 14:56:00",
          "2022-09-28 14:58:00",
          "2022-09-28 15:00:00",
          "2022-09-28 15:02:00",
          "2022-09-28 15:04:00",
          "2022-09-28 15:06:00",
          "2022-09-28 15:08:00",
          "2022-09-28 15:10:00",
          "2022-09-28 15:12:00",
          "2022-09-28 15:14:00",
          "2022-09-28 15:16:00",
          "2022-09-28 15:18:00",
          "2022-09-28 15:20:00",
          "2022-09-28 15:22:00",
          "2022-09-28 15:24:00",
          "2022-09-28 15:26:00",
          "2022-09-28 15:28:00",
          "2022-09-28 15:30:00",
          "2022-09-28 15:32:00",
          "2022-09-28 15:34:00",
          "2022-09-28 15:36:00",
          "2022-09-28 15:38:00",
          "2022-09-28 15:40:00",
          "2022-09-28 15:42:00",
          "2022-09-28 15:44:00",
          "2022-09-28 15:46:00",
          "2022-09-28 15:48:00",
          "2022-09-28 15:50:00",
          "2022-09-28 15:52:00",
          "2022-09-28 15:54:00",
          "2022-09-28 15:56:00",
          "2022-09-28 15:58:00",
          "2022-09-30 16:00:00"
         ],
         "y": [
          68.42078567624458,
          80.5900694701127,
          58.69892809416849,
          24.000244140625,
          9.600830078125,
          0.3060774375917107,
          34.117816014576654,
          42.32346895728429,
          35.000134636615776,
          65.88218398542334,
          75.99962219003841,
          76.34402721415836,
          91.21883989805629,
          81.30616389799007,
          98.90020874225004,
          97.98445679496345,
          76.4635389917305,
          81.68556777471649,
          71.71632829211543,
          79.87370683864033,
          56.472400817753545,
          64.49435227673844,
          62.77025238263325,
          59.444246647339064,
          31.110659003441672,
          32.34149105331457,
          12.420991801206343,
          15.866489514507325,
          34.104783108302215,
          10.144478844169246,
          16.99481865284974,
          32.08597198234504,
          54.25646480090407,
          78.47635181855898,
          72.80297630430626,
          72.95074842231533,
          76.07308635107178,
          83.9978588361245,
          82.15537949659073,
          83.25140185510907,
          90.54818025828591,
          93.09870536251569,
          81.9859704623214,
          98.57177734375,
          84.16805695502073,
          60.87739866554025,
          47.11100260416667,
          39.57067418981482,
          36.85149790388494,
          21.474910631537135,
          10.721256360210747,
          9.253919039049457,
          11.060378773673355,
          14.389373730720676,
          44.54954368609074,
          77.2730635496042,
          72.42361470740549,
          99.92842917600198,
          94.99898275774376,
          90.04005435948787,
          83.9854087690437,
          63.559716546837016,
          51.47644748368136,
          9.026663541798122,
          12.848228594810243,
          7.329115137570703,
          41.6227271274726,
          55.07301952513342,
          52.2159302838154,
          53.333463750537966,
          82.44187671807296,
          35.87802264361925,
          2.8577033743133664,
          6.701274185936762,
          1.4353508067460028,
          21.494780674234214,
          29.322343277622497,
          47.85917441771082,
          41.81412868014451,
          34.709816281036204,
          41.04625475415063,
          56.25068119891008,
          70.53678474114442,
          88.73224302078184,
          68.51935575021191,
          45.83215597626448,
          20.833121407863285,
          31.666751436854685,
          48.33426580540156,
          16.400488276282996,
          40.00050862112812,
          95.83184985504299,
          71.07374563322968,
          95.35403395257312,
          96.63429091229203,
          98.10387469084914,
          78.21263794275465,
          70.61656614743784,
          68.80740875030214,
          73.76499203220665,
          67.5741050224294,
          43.21176440604532,
          31.315310872044634,
          6.053544180885005,
          16.956393968849607,
          33.622067912281956,
          47.30713245997089,
          35.57878158780156,
          17.62322408575678,
          9.469644425949046,
          34.61430114089863,
          63.9990234375,
          63.97275204359673,
          3.4490016047986107,
          4.195654957531265,
          18.530453711212598,
          19.531268626469256,
          17.187611758815535,
          42.18820780583172,
          51.562835276446606,
          54.68850582933982,
          69.49078025189438,
          74.83468539096053,
          100,
          76.83043306077761,
          70.99192618223759,
          77.77620796835264,
          66.21669919995601,
          82.7563225648041,
          66.66666666666666,
          89.86775993341759,
          47.057767565432805,
          11.093297157304063,
          16.03616053434675,
          70.74336385098175,
          67.78084873610871,
          87.05073879728631,
          97.79617576636429,
          91.5927351292958,
          80.69513628477081,
          74.46017798175407,
          53.18520176862373,
          48.718553830178884,
          46.76393456874194,
          45.75261031933542,
          51.32725317910503,
          74.10558706855002,
          61.956400845289735,
          92.24764022615977,
          81.70430064629379,
          85.01755365834198,
          99.38965388909564,
          88.39237057220708,
          70.48101902287773,
          99.87957469306232,
          84.66302508078167,
          83.29871262245474,
          85.88450025553041,
          83.09155241043786,
          99.34314737040965,
          88.97097514259855,
          86.28627232142857,
          88.52516425974719,
          96.65080432421249,
          78.90470400305176,
          66.3458434813228,
          78.14324121394144,
          76.17242448084305,
          94.68907018207359,
          92.805392113814,
          100,
          97.69773812868785,
          94.28604639577556,
          78.87613955264776,
          84.4380719282544,
          73.72360331462176,
          53.41082488106992,
          88.15719027733162,
          24.491638900133903,
          32.65344253106219,
          18.95482198065224,
          0
         ]
        },
        {
         "mode": "lines",
         "name": "KDJ D Line",
         "type": "scatter",
         "x": [
          "2022-09-28 09:30:00",
          "2022-09-28 09:32:00",
          "2022-09-28 09:34:00",
          "2022-09-28 09:36:00",
          "2022-09-28 09:38:00",
          "2022-09-28 09:40:00",
          "2022-09-28 09:42:00",
          "2022-09-28 09:44:00",
          "2022-09-28 09:46:00",
          "2022-09-28 09:48:00",
          "2022-09-28 09:50:00",
          "2022-09-28 09:52:00",
          "2022-09-28 09:54:00",
          "2022-09-28 09:56:00",
          "2022-09-28 09:58:00",
          "2022-09-28 10:00:00",
          "2022-09-28 10:02:00",
          "2022-09-28 10:04:00",
          "2022-09-28 10:06:00",
          "2022-09-28 10:08:00",
          "2022-09-28 10:10:00",
          "2022-09-28 10:12:00",
          "2022-09-28 10:14:00",
          "2022-09-28 10:16:00",
          "2022-09-28 10:18:00",
          "2022-09-28 10:20:00",
          "2022-09-28 10:22:00",
          "2022-09-28 10:24:00",
          "2022-09-28 10:26:00",
          "2022-09-28 10:28:00",
          "2022-09-28 10:30:00",
          "2022-09-28 10:32:00",
          "2022-09-28 10:34:00",
          "2022-09-28 10:36:00",
          "2022-09-28 10:38:00",
          "2022-09-28 10:40:00",
          "2022-09-28 10:42:00",
          "2022-09-28 10:44:00",
          "2022-09-28 10:46:00",
          "2022-09-28 10:48:00",
          "2022-09-28 10:50:00",
          "2022-09-28 10:52:00",
          "2022-09-28 10:54:00",
          "2022-09-28 10:56:00",
          "2022-09-28 10:58:00",
          "2022-09-28 11:00:00",
          "2022-09-28 11:02:00",
          "2022-09-28 11:04:00",
          "2022-09-28 11:06:00",
          "2022-09-28 11:08:00",
          "2022-09-28 11:10:00",
          "2022-09-28 11:12:00",
          "2022-09-28 11:14:00",
          "2022-09-28 11:16:00",
          "2022-09-28 11:18:00",
          "2022-09-28 11:20:00",
          "2022-09-28 11:22:00",
          "2022-09-28 11:24:00",
          "2022-09-28 11:26:00",
          "2022-09-28 11:28:00",
          "2022-09-28 11:30:00",
          "2022-09-28 11:32:00",
          "2022-09-28 11:34:00",
          "2022-09-28 11:36:00",
          "2022-09-28 11:38:00",
          "2022-09-28 11:40:00",
          "2022-09-28 11:42:00",
          "2022-09-28 11:44:00",
          "2022-09-28 11:46:00",
          "2022-09-28 11:48:00",
          "2022-09-28 11:50:00",
          "2022-09-28 11:52:00",
          "2022-09-28 11:54:00",
          "2022-09-28 11:56:00",
          "2022-09-28 11:58:00",
          "2022-09-28 12:00:00",
          "2022-09-28 12:02:00",
          "2022-09-28 12:04:00",
          "2022-09-28 12:06:00",
          "2022-09-28 12:08:00",
          "2022-09-28 12:10:00",
          "2022-09-28 12:12:00",
          "2022-09-28 12:14:00",
          "2022-09-28 12:16:00",
          "2022-09-28 12:18:00",
          "2022-09-28 12:20:00",
          "2022-09-28 12:22:00",
          "2022-09-28 12:24:00",
          "2022-09-28 12:26:00",
          "2022-09-28 12:28:00",
          "2022-09-28 12:30:00",
          "2022-09-28 12:32:00",
          "2022-09-28 12:34:00",
          "2022-09-28 12:36:00",
          "2022-09-28 12:38:00",
          "2022-09-28 12:40:00",
          "2022-09-28 12:42:00",
          "2022-09-28 12:44:00",
          "2022-09-28 12:46:00",
          "2022-09-28 12:48:00",
          "2022-09-28 12:50:00",
          "2022-09-28 12:52:00",
          "2022-09-28 12:54:00",
          "2022-09-28 12:56:00",
          "2022-09-28 12:58:00",
          "2022-09-28 13:00:00",
          "2022-09-28 13:02:00",
          "2022-09-28 13:04:00",
          "2022-09-28 13:06:00",
          "2022-09-28 13:08:00",
          "2022-09-28 13:10:00",
          "2022-09-28 13:12:00",
          "2022-09-28 13:14:00",
          "2022-09-28 13:16:00",
          "2022-09-28 13:18:00",
          "2022-09-28 13:20:00",
          "2022-09-28 13:22:00",
          "2022-09-28 13:24:00",
          "2022-09-28 13:26:00",
          "2022-09-28 13:28:00",
          "2022-09-28 13:30:00",
          "2022-09-28 13:32:00",
          "2022-09-28 13:34:00",
          "2022-09-28 13:36:00",
          "2022-09-28 13:38:00",
          "2022-09-28 13:40:00",
          "2022-09-28 13:42:00",
          "2022-09-28 13:44:00",
          "2022-09-28 13:46:00",
          "2022-09-28 13:48:00",
          "2022-09-28 13:50:00",
          "2022-09-28 13:52:00",
          "2022-09-28 13:54:00",
          "2022-09-28 13:56:00",
          "2022-09-28 13:58:00",
          "2022-09-28 14:00:00",
          "2022-09-28 14:02:00",
          "2022-09-28 14:04:00",
          "2022-09-28 14:06:00",
          "2022-09-28 14:08:00",
          "2022-09-28 14:10:00",
          "2022-09-28 14:12:00",
          "2022-09-28 14:14:00",
          "2022-09-28 14:16:00",
          "2022-09-28 14:18:00",
          "2022-09-28 14:20:00",
          "2022-09-28 14:22:00",
          "2022-09-28 14:24:00",
          "2022-09-28 14:26:00",
          "2022-09-28 14:28:00",
          "2022-09-28 14:30:00",
          "2022-09-28 14:32:00",
          "2022-09-28 14:34:00",
          "2022-09-28 14:36:00",
          "2022-09-28 14:38:00",
          "2022-09-28 14:40:00",
          "2022-09-28 14:42:00",
          "2022-09-28 14:44:00",
          "2022-09-28 14:46:00",
          "2022-09-28 14:48:00",
          "2022-09-28 14:50:00",
          "2022-09-28 14:52:00",
          "2022-09-28 14:54:00",
          "2022-09-28 14:56:00",
          "2022-09-28 14:58:00",
          "2022-09-28 15:00:00",
          "2022-09-28 15:02:00",
          "2022-09-28 15:04:00",
          "2022-09-28 15:06:00",
          "2022-09-28 15:08:00",
          "2022-09-28 15:10:00",
          "2022-09-28 15:12:00",
          "2022-09-28 15:14:00",
          "2022-09-28 15:16:00",
          "2022-09-28 15:18:00",
          "2022-09-28 15:20:00",
          "2022-09-28 15:22:00",
          "2022-09-28 15:24:00",
          "2022-09-28 15:26:00",
          "2022-09-28 15:28:00",
          "2022-09-28 15:30:00",
          "2022-09-28 15:32:00",
          "2022-09-28 15:34:00",
          "2022-09-28 15:36:00",
          "2022-09-28 15:38:00",
          "2022-09-28 15:40:00",
          "2022-09-28 15:42:00",
          "2022-09-28 15:44:00",
          "2022-09-28 15:46:00",
          "2022-09-28 15:48:00",
          "2022-09-28 15:50:00",
          "2022-09-28 15:52:00",
          "2022-09-28 15:54:00",
          "2022-09-28 15:56:00",
          "2022-09-28 15:58:00",
          "2022-09-30 16:00:00"
         ],
         "y": [
          78.91336438299231,
          80.86017766315332,
          69.23659441350858,
          54.429747234968715,
          30.766667437639487,
          11.302383885447227,
          14.674907843431109,
          25.582454136484206,
          37.14713986949223,
          47.735262526441126,
          58.96064693735917,
          72.7419444632067,
          81.18749643408435,
          82.95634367006824,
          90.4750708460988,
          92.7302764784012,
          91.11606817631467,
          85.37785452047015,
          76.62181168618748,
          77.7585343018241,
          69.35414531616979,
          66.94681997771079,
          61.24566849237509,
          62.23628376890359,
          51.108386011137995,
          40.96546556803177,
          25.291047285987528,
          20.209657456342747,
          20.797421474671964,
          20.038583822326267,
          20.414693535107073,
          19.74175649312135,
          34.44575181203295,
          54.93959620060271,
          68.51193097458977,
          74.74335884839353,
          73.94227035923112,
          77.6738978698372,
          80.742108227929,
          83.13488006260809,
          85.31832053666189,
          88.96609582530354,
          88.54428536104099,
          91.21881772286235,
          88.24193492036405,
          81.205744321437,
          64.0521527415759,
          49.18635848650726,
          41.17772489928882,
          32.63236090841231,
          23.015888298544283,
          13.816695343599124,
          10.345184724311196,
          11.56789051448117,
          23.3330987301616,
          45.40399365547188,
          64.74874064770016,
          83.20836914433724,
          89.11700888038376,
          94.98915543107789,
          89.67481529542513,
          79.19505989178955,
          66.34052426652072,
          41.35427585743885,
          24.450446540096596,
          9.734669091393044,
          20.600023619951205,
          34.674953930058926,
          49.637225645473826,
          53.540804519828946,
          62.66375691747547,
          57.21778770407675,
          40.39253424533521,
          15.145666734623145,
          3.6647761223320625,
          9.877135222305679,
          17.41749158620092,
          32.89209945652253,
          39.66521545849263,
          41.46103979296387,
          39.19006657177714,
          44.00225074469899,
          55.94457356473506,
          71.83990298694546,
          75.92946117071273,
          67.69458491575274,
          45.061544378113226,
          32.777342940327486,
          33.61137955003984,
          32.13383517284641,
          34.91175423427089,
          50.74428225081803,
          68.96870136980026,
          87.41987648028191,
          87.68735683269827,
          96.69739985190476,
          90.98360118196528,
          82.31102626034723,
          72.54553761349824,
          71.0629889766489,
          70.04883526831274,
          61.51695382022713,
          47.367060100173134,
          26.860206486325,
          18.108416340593095,
          18.877335354005538,
          32.62853144703416,
          38.83599398668481,
          33.50304604450975,
          20.89055003316914,
          20.56905655086817,
          36.02765633478258,
          54.195358873998465,
          43.80692569529845,
          23.872469535308873,
          8.725036757847498,
          14.085792431737714,
          18.41644469883247,
          26.302362730372177,
          36.979551613697964,
          49.479849637206065,
          58.58070711922695,
          66.33799049073158,
          81.44182188095165,
          83.88837281724605,
          82.60745308100508,
          75.19952240378927,
          71.66161111684875,
          75.58307657770425,
          71.87989614380892,
          79.76358305496278,
          67.86406472183901,
          49.339608218718155,
          24.72907508569454,
          32.62427384754419,
          51.52012437381241,
          75.19165046145892,
          84.2092544332531,
          92.14654989764878,
          90.02801572681028,
          82.24934979860689,
          69.44683867838286,
          58.78797786018555,
          49.55589672251483,
          47.07836623941873,
          47.94793268906077,
          57.06181685566346,
          62.4630803643149,
          76.10320937999981,
          78.6361139059144,
          86.32316484359849,
          88.7038360645771,
          90.9331927065482,
          86.08768116139345,
          86.25098809604901,
          85.00787293224055,
          89.28043746543288,
          84.61541265292223,
          84.0915884294743,
          89.43973334545927,
          90.46855830781533,
          91.53346494481222,
          87.92747057459141,
          90.48741363512939,
          88.02689086233713,
          80.63378393619566,
          74.46459623277197,
          73.55383639203572,
          83.00157862561932,
          87.88896225891017,
          95.8314874319625,
          96.83437674750058,
          97.32792817482112,
          90.28664135903705,
          85.86675262555923,
          79.0126049318413,
          70.52416670798202,
          71.76387282434109,
          55.353218019511814,
          48.43409056950924,
          25.36663447061611,
          17.20275483723814
         ]
        }
       ],
       "layout": {
        "template": {
         "data": {
          "bar": [
           {
            "error_x": {
             "color": "#2a3f5f"
            },
            "error_y": {
             "color": "#2a3f5f"
            },
            "marker": {
             "line": {
              "color": "#E5ECF6",
              "width": 0.5
             },
             "pattern": {
              "fillmode": "overlay",
              "size": 10,
              "solidity": 0.2
             }
            },
            "type": "bar"
           }
          ],
          "barpolar": [
           {
            "marker": {
             "line": {
              "color": "#E5ECF6",
              "width": 0.5
             },
             "pattern": {
              "fillmode": "overlay",
              "size": 10,
              "solidity": 0.2
             }
            },
            "type": "barpolar"
           }
          ],
          "carpet": [
           {
            "aaxis": {
             "endlinecolor": "#2a3f5f",
             "gridcolor": "white",
             "linecolor": "white",
             "minorgridcolor": "white",
             "startlinecolor": "#2a3f5f"
            },
            "baxis": {
             "endlinecolor": "#2a3f5f",
             "gridcolor": "white",
             "linecolor": "white",
             "minorgridcolor": "white",
             "startlinecolor": "#2a3f5f"
            },
            "type": "carpet"
           }
          ],
          "choropleth": [
           {
            "colorbar": {
             "outlinewidth": 0,
             "ticks": ""
            },
            "type": "choropleth"
           }
          ],
          "contour": [
           {
            "colorbar": {
             "outlinewidth": 0,
             "ticks": ""
            },
            "colorscale": [
             [
              0,
              "#0d0887"
             ],
             [
              0.1111111111111111,
              "#46039f"
             ],
             [
              0.2222222222222222,
              "#7201a8"
             ],
             [
              0.3333333333333333,
              "#9c179e"
             ],
             [
              0.4444444444444444,
              "#bd3786"
             ],
             [
              0.5555555555555556,
              "#d8576b"
             ],
             [
              0.6666666666666666,
              "#ed7953"
             ],
             [
              0.7777777777777778,
              "#fb9f3a"
             ],
             [
              0.8888888888888888,
              "#fdca26"
             ],
             [
              1,
              "#f0f921"
             ]
            ],
            "type": "contour"
           }
          ],
          "contourcarpet": [
           {
            "colorbar": {
             "outlinewidth": 0,
             "ticks": ""
            },
            "type": "contourcarpet"
           }
          ],
          "heatmap": [
           {
            "colorbar": {
             "outlinewidth": 0,
             "ticks": ""
            },
            "colorscale": [
             [
              0,
              "#0d0887"
             ],
             [
              0.1111111111111111,
              "#46039f"
             ],
             [
              0.2222222222222222,
              "#7201a8"
             ],
             [
              0.3333333333333333,
              "#9c179e"
             ],
             [
              0.4444444444444444,
              "#bd3786"
             ],
             [
              0.5555555555555556,
              "#d8576b"
             ],
             [
              0.6666666666666666,
              "#ed7953"
             ],
             [
              0.7777777777777778,
              "#fb9f3a"
             ],
             [
              0.8888888888888888,
              "#fdca26"
             ],
             [
              1,
              "#f0f921"
             ]
            ],
            "type": "heatmap"
           }
          ],
          "heatmapgl": [
           {
            "colorbar": {
             "outlinewidth": 0,
             "ticks": ""
            },
            "colorscale": [
             [
              0,
              "#0d0887"
             ],
             [
              0.1111111111111111,
              "#46039f"
             ],
             [
              0.2222222222222222,
              "#7201a8"
             ],
             [
              0.3333333333333333,
              "#9c179e"
             ],
             [
              0.4444444444444444,
              "#bd3786"
             ],
             [
              0.5555555555555556,
              "#d8576b"
             ],
             [
              0.6666666666666666,
              "#ed7953"
             ],
             [
              0.7777777777777778,
              "#fb9f3a"
             ],
             [
              0.8888888888888888,
              "#fdca26"
             ],
             [
              1,
              "#f0f921"
             ]
            ],
            "type": "heatmapgl"
           }
          ],
          "histogram": [
           {
            "marker": {
             "pattern": {
              "fillmode": "overlay",
              "size": 10,
              "solidity": 0.2
             }
            },
            "type": "histogram"
           }
          ],
          "histogram2d": [
           {
            "colorbar": {
             "outlinewidth": 0,
             "ticks": ""
            },
            "colorscale": [
             [
              0,
              "#0d0887"
             ],
             [
              0.1111111111111111,
              "#46039f"
             ],
             [
              0.2222222222222222,
              "#7201a8"
             ],
             [
              0.3333333333333333,
              "#9c179e"
             ],
             [
              0.4444444444444444,
              "#bd3786"
             ],
             [
              0.5555555555555556,
              "#d8576b"
             ],
             [
              0.6666666666666666,
              "#ed7953"
             ],
             [
              0.7777777777777778,
              "#fb9f3a"
             ],
             [
              0.8888888888888888,
              "#fdca26"
             ],
             [
              1,
              "#f0f921"
             ]
            ],
            "type": "histogram2d"
           }
          ],
          "histogram2dcontour": [
           {
            "colorbar": {
             "outlinewidth": 0,
             "ticks": ""
            },
            "colorscale": [
             [
              0,
              "#0d0887"
             ],
             [
              0.1111111111111111,
              "#46039f"
             ],
             [
              0.2222222222222222,
              "#7201a8"
             ],
             [
              0.3333333333333333,
              "#9c179e"
             ],
             [
              0.4444444444444444,
              "#bd3786"
             ],
             [
              0.5555555555555556,
              "#d8576b"
             ],
             [
              0.6666666666666666,
              "#ed7953"
             ],
             [
              0.7777777777777778,
              "#fb9f3a"
             ],
             [
              0.8888888888888888,
              "#fdca26"
             ],
             [
              1,
              "#f0f921"
             ]
            ],
            "type": "histogram2dcontour"
           }
          ],
          "mesh3d": [
           {
            "colorbar": {
             "outlinewidth": 0,
             "ticks": ""
            },
            "type": "mesh3d"
           }
          ],
          "parcoords": [
           {
            "line": {
             "colorbar": {
              "outlinewidth": 0,
              "ticks": ""
             }
            },
            "type": "parcoords"
           }
          ],
          "pie": [
           {
            "automargin": true,
            "type": "pie"
           }
          ],
          "scatter": [
           {
            "marker": {
             "colorbar": {
              "outlinewidth": 0,
              "ticks": ""
             }
            },
            "type": "scatter"
           }
          ],
          "scatter3d": [
           {
            "line": {
             "colorbar": {
              "outlinewidth": 0,
              "ticks": ""
             }
            },
            "marker": {
             "colorbar": {
              "outlinewidth": 0,
              "ticks": ""
             }
            },
            "type": "scatter3d"
           }
          ],
          "scattercarpet": [
           {
            "marker": {
             "colorbar": {
              "outlinewidth": 0,
              "ticks": ""
             }
            },
            "type": "scattercarpet"
           }
          ],
          "scattergeo": [
           {
            "marker": {
             "colorbar": {
              "outlinewidth": 0,
              "ticks": ""
             }
            },
            "type": "scattergeo"
           }
          ],
          "scattergl": [
           {
            "marker": {
             "colorbar": {
              "outlinewidth": 0,
              "ticks": ""
             }
            },
            "type": "scattergl"
           }
          ],
          "scattermapbox": [
           {
            "marker": {
             "colorbar": {
              "outlinewidth": 0,
              "ticks": ""
             }
            },
            "type": "scattermapbox"
           }
          ],
          "scatterpolar": [
           {
            "marker": {
             "colorbar": {
              "outlinewidth": 0,
              "ticks": ""
             }
            },
            "type": "scatterpolar"
           }
          ],
          "scatterpolargl": [
           {
            "marker": {
             "colorbar": {
              "outlinewidth": 0,
              "ticks": ""
             }
            },
            "type": "scatterpolargl"
           }
          ],
          "scatterternary": [
           {
            "marker": {
             "colorbar": {
              "outlinewidth": 0,
              "ticks": ""
             }
            },
            "type": "scatterternary"
           }
          ],
          "surface": [
           {
            "colorbar": {
             "outlinewidth": 0,
             "ticks": ""
            },
            "colorscale": [
             [
              0,
              "#0d0887"
             ],
             [
              0.1111111111111111,
              "#46039f"
             ],
             [
              0.2222222222222222,
              "#7201a8"
             ],
             [
              0.3333333333333333,
              "#9c179e"
             ],
             [
              0.4444444444444444,
              "#bd3786"
             ],
             [
              0.5555555555555556,
              "#d8576b"
             ],
             [
              0.6666666666666666,
              "#ed7953"
             ],
             [
              0.7777777777777778,
              "#fb9f3a"
             ],
             [
              0.8888888888888888,
              "#fdca26"
             ],
             [
              1,
              "#f0f921"
             ]
            ],
            "type": "surface"
           }
          ],
          "table": [
           {
            "cells": {
             "fill": {
              "color": "#EBF0F8"
             },
             "line": {
              "color": "white"
             }
            },
            "header": {
             "fill": {
              "color": "#C8D4E3"
             },
             "line": {
              "color": "white"
             }
            },
            "type": "table"
           }
          ]
         },
         "layout": {
          "annotationdefaults": {
           "arrowcolor": "#2a3f5f",
           "arrowhead": 0,
           "arrowwidth": 1
          },
          "autotypenumbers": "strict",
          "coloraxis": {
           "colorbar": {
            "outlinewidth": 0,
            "ticks": ""
           }
          },
          "colorscale": {
           "diverging": [
            [
             0,
             "#8e0152"
            ],
            [
             0.1,
             "#c51b7d"
            ],
            [
             0.2,
             "#de77ae"
            ],
            [
             0.3,
             "#f1b6da"
            ],
            [
             0.4,
             "#fde0ef"
            ],
            [
             0.5,
             "#f7f7f7"
            ],
            [
             0.6,
             "#e6f5d0"
            ],
            [
             0.7,
             "#b8e186"
            ],
            [
             0.8,
             "#7fbc41"
            ],
            [
             0.9,
             "#4d9221"
            ],
            [
             1,
             "#276419"
            ]
           ],
           "sequential": [
            [
             0,
             "#0d0887"
            ],
            [
             0.1111111111111111,
             "#46039f"
            ],
            [
             0.2222222222222222,
             "#7201a8"
            ],
            [
             0.3333333333333333,
             "#9c179e"
            ],
            [
             0.4444444444444444,
             "#bd3786"
            ],
            [
             0.5555555555555556,
             "#d8576b"
            ],
            [
             0.6666666666666666,
             "#ed7953"
            ],
            [
             0.7777777777777778,
             "#fb9f3a"
            ],
            [
             0.8888888888888888,
             "#fdca26"
            ],
            [
             1,
             "#f0f921"
            ]
           ],
           "sequentialminus": [
            [
             0,
             "#0d0887"
            ],
            [
             0.1111111111111111,
             "#46039f"
            ],
            [
             0.2222222222222222,
             "#7201a8"
            ],
            [
             0.3333333333333333,
             "#9c179e"
            ],
            [
             0.4444444444444444,
             "#bd3786"
            ],
            [
             0.5555555555555556,
             "#d8576b"
            ],
            [
             0.6666666666666666,
             "#ed7953"
            ],
            [
             0.7777777777777778,
             "#fb9f3a"
            ],
            [
             0.8888888888888888,
             "#fdca26"
            ],
            [
             1,
             "#f0f921"
            ]
           ]
          },
          "colorway": [
           "#636efa",
           "#EF553B",
           "#00cc96",
           "#ab63fa",
           "#FFA15A",
           "#19d3f3",
           "#FF6692",
           "#B6E880",
           "#FF97FF",
           "#FECB52"
          ],
          "font": {
           "color": "#2a3f5f"
          },
          "geo": {
           "bgcolor": "white",
           "lakecolor": "white",
           "landcolor": "#E5ECF6",
           "showlakes": true,
           "showland": true,
           "subunitcolor": "white"
          },
          "hoverlabel": {
           "align": "left"
          },
          "hovermode": "closest",
          "mapbox": {
           "style": "light"
          },
          "paper_bgcolor": "white",
          "plot_bgcolor": "#E5ECF6",
          "polar": {
           "angularaxis": {
            "gridcolor": "white",
            "linecolor": "white",
            "ticks": ""
           },
           "bgcolor": "#E5ECF6",
           "radialaxis": {
            "gridcolor": "white",
            "linecolor": "white",
            "ticks": ""
           }
          },
          "scene": {
           "xaxis": {
            "backgroundcolor": "#E5ECF6",
            "gridcolor": "white",
            "gridwidth": 2,
            "linecolor": "white",
            "showbackground": true,
            "ticks": "",
            "zerolinecolor": "white"
           },
           "yaxis": {
            "backgroundcolor": "#E5ECF6",
            "gridcolor": "white",
            "gridwidth": 2,
            "linecolor": "white",
            "showbackground": true,
            "ticks": "",
            "zerolinecolor": "white"
           },
           "zaxis": {
            "backgroundcolor": "#E5ECF6",
            "gridcolor": "white",
            "gridwidth": 2,
            "linecolor": "white",
            "showbackground": true,
            "ticks": "",
            "zerolinecolor": "white"
           }
          },
          "shapedefaults": {
           "line": {
            "color": "#2a3f5f"
           }
          },
          "ternary": {
           "aaxis": {
            "gridcolor": "white",
            "linecolor": "white",
            "ticks": ""
           },
           "baxis": {
            "gridcolor": "white",
            "linecolor": "white",
            "ticks": ""
           },
           "bgcolor": "#E5ECF6",
           "caxis": {
            "gridcolor": "white",
            "linecolor": "white",
            "ticks": ""
           }
          },
          "title": {
           "x": 0.05
          },
          "xaxis": {
           "automargin": true,
           "gridcolor": "white",
           "linecolor": "white",
           "ticks": "",
           "title": {
            "standoff": 15
           },
           "zerolinecolor": "white",
           "zerolinewidth": 2
          },
          "yaxis": {
           "automargin": true,
           "gridcolor": "white",
           "linecolor": "white",
           "ticks": "",
           "title": {
            "standoff": 15
           },
           "zerolinecolor": "white",
           "zerolinewidth": 2
          }
         }
        },
        "title": {
         "text": "indicators"
        },
        "xaxis": {
         "title": {
          "text": "Time"
         }
        },
        "yaxis": {
         "title": {
          "text": "kdj/rsi"
         }
        }
       }
      }
     },
     "metadata": {},
     "output_type": "display_data"
    }
   ],
   "source": [
    "import plotly.graph_objs as go\n",
    "\n",
    "\n",
    "trace1 = go.Scatter(\n",
    "    x=data.index,\n",
    "    y=kdj,\n",
    "    mode='lines',\n",
    "    name='KDJ K Line'\n",
    ")\n",
    "\n",
    "trace2 = go.Scatter(\n",
    "    x=data.index,\n",
    "    y=kdjd,\n",
    "    mode='lines',\n",
    "    name='KDJ D Line'\n",
    ")\n",
    "\n",
    "trace3 = go.Scatter(\n",
    "    x=data.index,\n",
    "    y=rsi1,\n",
    "    mode='lines',\n",
    "    name='RSI1 Line'\n",
    ")\n",
    "\n",
    "layout = go.Layout(\n",
    "    title='indicators',\n",
    "    xaxis={'title': \"Time\"},\n",
    "    yaxis={'title': \"kdj/rsi\"}\n",
    ")\n",
    "\n",
    "fig = go.Figure(data=[trace1, trace2], layout=layout)\n",
    "fig.show()"
   ]
  }
 ],
 "metadata": {
  "kernelspec": {
   "display_name": "Python 3.9.6 64-bit",
   "language": "python",
   "name": "python3"
  },
  "language_info": {
   "codemirror_mode": {
    "name": "ipython",
    "version": 3
   },
   "file_extension": ".py",
   "mimetype": "text/x-python",
   "name": "python",
   "nbconvert_exporter": "python",
   "pygments_lexer": "ipython3",
   "version": "3.9.6"
  },
  "orig_nbformat": 4,
  "vscode": {
   "interpreter": {
    "hash": "aee8b7b246df8f9039afb4144a1f6fd8d2ca17a180786b69acc140d282b71a49"
   }
  }
 },
 "nbformat": 4,
 "nbformat_minor": 2
}
