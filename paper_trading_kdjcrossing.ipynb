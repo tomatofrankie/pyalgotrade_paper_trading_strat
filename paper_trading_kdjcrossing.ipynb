{
 "cells": [
  {
   "cell_type": "code",
   "execution_count": 14,
   "metadata": {},
   "outputs": [
    {
     "name": "stdout",
     "output_type": "stream",
     "text": [
      "[*********************100%***********************]  1 of 1 completed\n",
      "                           Open        High         Low       Close  \\\n",
      "Date Time                                                             \n",
      "2022-10-20 09:30:00  208.279999  208.500000  205.550003  207.375000   \n",
      "2022-10-20 09:32:00  207.380005  209.669998  205.800003  208.970001   \n",
      "2022-10-20 09:34:00  208.960007  209.000000  205.750000  206.570007   \n",
      "2022-10-20 09:36:00  206.615097  206.880005  204.509995  204.619995   \n",
      "2022-10-20 09:38:00  204.619995  205.869995  203.270493  203.270493   \n",
      "...                         ...         ...         ...         ...   \n",
      "2022-10-20 15:52:00  208.009995  208.479996  207.792603  208.440002   \n",
      "2022-10-20 15:54:00  208.479996  208.630005  207.669998  207.869995   \n",
      "2022-10-20 15:56:00  207.850006  208.000000  207.630005  207.649994   \n",
      "2022-10-20 15:58:00  207.639999  207.720001  207.169998  207.205002   \n",
      "2022-10-28 16:00:00  228.520004  228.520004  228.520004  228.520004   \n",
      "\n",
      "                      Adj Close   Volume  \n",
      "Date Time                                 \n",
      "2022-10-20 09:30:00  207.375000  7592682  \n",
      "2022-10-20 09:32:00  208.970001  1945382  \n",
      "2022-10-20 09:34:00  206.570007  1609376  \n",
      "2022-10-20 09:36:00  204.619995  1991103  \n",
      "2022-10-20 09:38:00  203.270493  1929844  \n",
      "...                         ...      ...  \n",
      "2022-10-20 15:52:00  208.440002   598250  \n",
      "2022-10-20 15:54:00  207.869995   749782  \n",
      "2022-10-20 15:56:00  207.649994   547657  \n",
      "2022-10-20 15:58:00  207.205002  1063538  \n",
      "2022-10-28 16:00:00  228.520004        0  \n",
      "\n",
      "[196 rows x 6 columns]\n"
     ]
    }
   ],
   "source": [
    "# Interval = min K\n",
    "\n",
    "import yfinance as yf\n",
    "from datetime import datetime\n",
    "import pandas as pd\n",
    "\n",
    "# ticker = '^gspc'\n",
    "ticker = 'tsla'\n",
    "\n",
    "start_date = datetime(2022, 10, 20, 21)\n",
    "end_date = datetime(2022, 10, 21, 16)\n",
    "data = yf.download(ticker, interval = '2m', start = start_date ,end = end_date, auto_adjust = False)\n",
    "data.index.name = 'Date Time'\n",
    "data.index = pd.to_datetime(data.index, format = '%m/%d/%Y').strftime('%Y-%m-%d %H:%M:%S')\n",
    "data.to_csv('data.csv')\n",
    "print(data)"
   ]
  },
  {
   "cell_type": "code",
   "execution_count": 15,
   "metadata": {},
   "outputs": [
    {
     "name": "stderr",
     "output_type": "stream",
     "text": [
      "2022-10-20 10:00:00 strategy [INFO] BUY at $204.16 45.07 45.5 -10\n",
      "2022-10-20 10:02:00 strategy [INFO] SELL at $205.05 58.19 51.62 0\n",
      "2022-10-20 10:02:00 strategy [INFO] BUY at $205.05 58.19 51.62 10\n",
      "2022-10-20 10:12:00 strategy [INFO] SELL at $209.45 91.06 91.47 0\n",
      "2022-10-20 10:12:00 strategy [INFO] BUY at $209.45 91.06 91.47 -10\n",
      "2022-10-20 10:16:00 strategy [INFO] SELL at $210.88 98.48 91.16 0\n",
      "2022-10-20 10:16:00 strategy [INFO] BUY at $210.88 98.48 91.16 10\n",
      "2022-10-20 10:20:00 strategy [INFO] SELL at $211.03 88.98 95.49 0\n",
      "2022-10-20 10:20:00 strategy [INFO] BUY at $211.03 88.98 95.49 -10\n",
      "2022-10-20 10:36:00 strategy [INFO] SELL at $208.53 23.69 13.34 0\n",
      "2022-10-20 10:36:00 strategy [INFO] BUY at $208.53 23.69 13.34 10\n",
      "2022-10-20 10:50:00 strategy [INFO] SELL at $212.27 93.46 94.56 0\n",
      "2022-10-20 10:50:00 strategy [INFO] BUY at $212.27 93.46 94.56 -10\n",
      "2022-10-20 10:58:00 strategy [INFO] SELL at $213.28 97.22 88.58 0\n",
      "2022-10-20 10:58:00 strategy [INFO] BUY at $213.28 97.22 88.58 10\n",
      "2022-10-20 11:00:00 strategy [INFO] SELL at $213.13 87.63 89.13 0\n",
      "2022-10-20 11:00:00 strategy [INFO] BUY at $213.13 87.63 89.13 -10\n",
      "2022-10-20 11:06:00 strategy [INFO] SELL at $213.30 86.39 79.56 0\n",
      "2022-10-20 11:06:00 strategy [INFO] BUY at $213.30 86.39 79.56 10\n",
      "2022-10-20 11:16:00 strategy [INFO] SELL at $214.78 74.91 90.34 0\n",
      "2022-10-20 11:16:00 strategy [INFO] BUY at $214.78 74.91 90.34 -10\n",
      "2022-10-20 11:24:00 strategy [INFO] SELL at $214.95 76.89 52.23 0\n",
      "2022-10-20 11:24:00 strategy [INFO] BUY at $214.95 76.89 52.23 10\n",
      "2022-10-20 11:28:00 strategy [INFO] SELL at $214.86 68.89 73.33 0\n",
      "2022-10-20 11:28:00 strategy [INFO] BUY at $214.86 68.89 73.33 -10\n",
      "2022-10-20 11:38:00 strategy [INFO] SELL at $213.58 19.94 10.59 0\n",
      "2022-10-20 11:38:00 strategy [INFO] BUY at $213.58 19.94 10.59 10\n",
      "2022-10-20 11:44:00 strategy [INFO] SELL at $213.85 32.56 38.03 0\n",
      "2022-10-20 11:44:00 strategy [INFO] BUY at $213.85 32.56 38.03 -10\n",
      "2022-10-20 11:50:00 strategy [INFO] SELL at $213.81 65.62 32.04 0\n",
      "2022-10-20 11:50:00 strategy [INFO] BUY at $213.81 65.62 32.04 10\n",
      "2022-10-20 11:54:00 strategy [INFO] SELL at $213.43 39.59 54.03 0\n",
      "2022-10-20 11:54:00 strategy [INFO] BUY at $213.43 39.59 54.03 -10\n",
      "2022-10-20 12:02:00 strategy [INFO] SELL at $210.63 8.7 6.63 0\n",
      "2022-10-20 12:02:00 strategy [INFO] BUY at $210.63 8.7 6.63 10\n",
      "2022-10-20 12:08:00 strategy [INFO] SELL at $210.59 10.16 19.55 0\n",
      "2022-10-20 12:08:00 strategy [INFO] BUY at $210.59 10.16 19.55 -10\n",
      "2022-10-20 12:12:00 strategy [INFO] SELL at $211.04 36.46 18.82 0\n",
      "2022-10-20 12:12:00 strategy [INFO] BUY at $211.04 36.46 18.82 10\n",
      "2022-10-20 12:22:00 strategy [INFO] SELL at $210.00 28.78 56.84 0\n",
      "2022-10-20 12:22:00 strategy [INFO] BUY at $210.00 28.78 56.84 -10\n",
      "2022-10-20 12:30:00 strategy [INFO] SELL at $209.95 23.82 16.29 0\n",
      "2022-10-20 12:30:00 strategy [INFO] BUY at $209.95 23.82 16.29 10\n",
      "2022-10-20 12:38:00 strategy [INFO] SELL at $209.65 14.98 22.31 0\n",
      "2022-10-20 12:38:00 strategy [INFO] BUY at $209.65 14.98 22.31 -10\n",
      "2022-10-20 12:42:00 strategy [INFO] SELL at $209.47 32.56 19.54 0\n",
      "2022-10-20 12:42:00 strategy [INFO] BUY at $209.47 32.56 19.54 10\n",
      "2022-10-20 12:46:00 strategy [INFO] SELL at $207.77 0.81 19.33 0\n",
      "2022-10-20 12:46:00 strategy [INFO] BUY at $207.77 0.81 19.33 -10\n",
      "2022-10-20 12:50:00 strategy [INFO] SELL at $208.43 21.61 8.46 0\n",
      "2022-10-20 12:50:00 strategy [INFO] BUY at $208.43 21.61 8.46 10\n",
      "2022-10-20 12:54:00 strategy [INFO] SELL at $207.86 15.35 22.82 0\n",
      "2022-10-20 12:54:00 strategy [INFO] BUY at $207.86 15.35 22.82 -10\n",
      "2022-10-20 12:58:00 strategy [INFO] SELL at $208.13 28.1 17.47 0\n",
      "2022-10-20 12:58:00 strategy [INFO] BUY at $208.13 28.1 17.47 10\n",
      "2022-10-20 13:02:00 strategy [INFO] SELL at $208.09 27.76 27.89 0\n",
      "2022-10-20 13:02:00 strategy [INFO] BUY at $208.09 27.76 27.89 -10\n",
      "2022-10-20 13:04:00 strategy [INFO] SELL at $208.77 100.0 51.85 0\n",
      "2022-10-20 13:04:00 strategy [INFO] BUY at $208.77 100.0 51.85 10\n",
      "2022-10-20 13:08:00 strategy [INFO] SELL at $208.06 29.35 73.06 0\n",
      "2022-10-20 13:08:00 strategy [INFO] BUY at $208.06 29.35 73.06 -10\n",
      "2022-10-20 13:12:00 strategy [INFO] SELL at $208.70 65.96 43.65 0\n",
      "2022-10-20 13:12:00 strategy [INFO] BUY at $208.70 65.96 43.65 10\n",
      "2022-10-20 13:14:00 strategy [INFO] SELL at $208.14 29.75 43.79 0\n",
      "2022-10-20 13:14:00 strategy [INFO] BUY at $208.14 29.75 43.79 -10\n",
      "2022-10-20 13:22:00 strategy [INFO] SELL at $207.94 39.04 22.6 0\n",
      "2022-10-20 13:22:00 strategy [INFO] BUY at $207.94 39.04 22.6 10\n",
      "2022-10-20 13:32:00 strategy [INFO] SELL at $207.95 61.07 64.63 0\n",
      "2022-10-20 13:32:00 strategy [INFO] BUY at $207.95 61.07 64.63 -10\n",
      "2022-10-20 13:34:00 strategy [INFO] SELL at $208.10 71.81 67.82 0\n",
      "2022-10-20 13:34:00 strategy [INFO] BUY at $208.10 71.81 67.82 10\n",
      "2022-10-20 13:36:00 strategy [INFO] SELL at $207.68 44.3 59.06 0\n",
      "2022-10-20 13:36:00 strategy [INFO] BUY at $207.68 44.3 59.06 -10\n",
      "2022-10-20 13:44:00 strategy [INFO] SELL at $207.54 31.25 23.74 0\n",
      "2022-10-20 13:44:00 strategy [INFO] BUY at $207.54 31.25 23.74 10\n",
      "2022-10-20 13:46:00 strategy [INFO] SELL at $207.24 14.58 18.64 0\n",
      "2022-10-20 13:46:00 strategy [INFO] BUY at $207.24 14.58 18.64 -10\n",
      "2022-10-20 13:52:00 strategy [INFO] SELL at $206.31 24.0 12.95 0\n",
      "2022-10-20 13:52:00 strategy [INFO] BUY at $206.31 24.0 12.95 10\n",
      "2022-10-20 13:56:00 strategy [INFO] SELL at $206.05 10.97 20.71 0\n",
      "2022-10-20 13:56:00 strategy [INFO] BUY at $206.05 10.97 20.71 -10\n",
      "2022-10-20 14:00:00 strategy [INFO] SELL at $206.18 18.79 13.69 0\n",
      "2022-10-20 14:00:00 strategy [INFO] BUY at $206.18 18.79 13.69 10\n",
      "2022-10-20 14:08:00 strategy [INFO] SELL at $206.10 34.72 37.11 0\n",
      "2022-10-20 14:08:00 strategy [INFO] BUY at $206.10 34.72 37.11 -10\n",
      "2022-10-20 14:10:00 strategy [INFO] SELL at $206.17 44.32 40.34 0\n",
      "2022-10-20 14:10:00 strategy [INFO] BUY at $206.17 44.32 40.34 10\n",
      "2022-10-20 14:12:00 strategy [INFO] SELL at $205.99 22.06 33.7 0\n",
      "2022-10-20 14:12:00 strategy [INFO] BUY at $205.99 22.06 33.7 -10\n",
      "2022-10-20 14:16:00 strategy [INFO] SELL at $206.01 42.71 26.8 0\n",
      "2022-10-20 14:16:00 strategy [INFO] BUY at $206.01 42.71 26.8 10\n",
      "2022-10-20 14:20:00 strategy [INFO] SELL at $205.75 19.66 31.41 0\n",
      "2022-10-20 14:20:00 strategy [INFO] BUY at $205.75 19.66 31.41 -10\n",
      "2022-10-20 14:24:00 strategy [INFO] SELL at $205.55 21.18 14.83 0\n",
      "2022-10-20 14:24:00 strategy [INFO] BUY at $205.55 21.18 14.83 10\n",
      "2022-10-20 14:26:00 strategy [INFO] SELL at $205.15 2.32 9.06 0\n",
      "2022-10-20 14:26:00 strategy [INFO] BUY at $205.15 2.32 9.06 -10\n",
      "2022-10-20 14:30:00 strategy [INFO] SELL at $205.21 18.63 7.79 0\n",
      "2022-10-20 14:30:00 strategy [INFO] BUY at $205.21 18.63 7.79 10\n",
      "2022-10-20 14:40:00 strategy [INFO] SELL at $206.38 67.88 80.9 0\n",
      "2022-10-20 14:40:00 strategy [INFO] BUY at $206.38 67.88 80.9 -10\n",
      "2022-10-20 14:48:00 strategy [INFO] SELL at $206.34 69.95 52.25 0\n",
      "2022-10-20 14:48:00 strategy [INFO] BUY at $206.34 69.95 52.25 10\n",
      "2022-10-20 14:50:00 strategy [INFO] SELL at $206.03 51.36 51.75 0\n",
      "2022-10-20 14:50:00 strategy [INFO] BUY at $206.03 51.36 51.75 -10\n",
      "2022-10-20 14:54:00 strategy [INFO] SELL at $206.57 73.55 55.89 0\n",
      "2022-10-20 14:54:00 strategy [INFO] BUY at $206.57 73.55 55.89 10\n",
      "2022-10-20 15:00:00 strategy [INFO] SELL at $206.93 68.32 79.34 0\n",
      "2022-10-20 15:00:00 strategy [INFO] BUY at $206.93 68.32 79.34 -10\n",
      "2022-10-20 15:02:00 strategy [INFO] SELL at $207.04 83.66 82.94 0\n",
      "2022-10-20 15:02:00 strategy [INFO] BUY at $207.04 83.66 82.94 10\n",
      "2022-10-20 15:08:00 strategy [INFO] SELL at $207.90 86.13 87.55 0\n",
      "2022-10-20 15:08:00 strategy [INFO] BUY at $207.90 86.13 87.55 -10\n",
      "2022-10-20 15:26:00 strategy [INFO] SELL at $206.68 23.01 9.37 0\n",
      "2022-10-20 15:26:00 strategy [INFO] BUY at $206.68 23.01 9.37 10\n",
      "2022-10-20 15:28:00 strategy [INFO] SELL at $206.11 1.2 8.23 0\n",
      "2022-10-20 15:28:00 strategy [INFO] BUY at $206.11 1.2 8.23 -10\n",
      "2022-10-20 15:32:00 strategy [INFO] SELL at $206.18 9.94 7.37 0\n",
      "2022-10-20 15:32:00 strategy [INFO] BUY at $206.18 9.94 7.37 10\n",
      "2022-10-20 15:46:00 strategy [INFO] SELL at $206.71 82.81 88.72 0\n",
      "2022-10-20 15:46:00 strategy [INFO] BUY at $206.71 82.81 88.72 -10\n",
      "2022-10-20 15:48:00 strategy [INFO] SELL at $207.83 100.0 94.27 0\n",
      "2022-10-20 15:48:00 strategy [INFO] BUY at $207.83 100.0 94.27 10\n",
      "2022-10-20 15:52:00 strategy [INFO] SELL at $208.01 93.89 95.96 0\n",
      "2022-10-20 15:52:00 strategy [INFO] BUY at $208.01 93.89 95.96 -10\n",
      "2022-10-20 15:54:00 strategy [INFO] SELL at $208.48 98.14 95.34 0\n",
      "2022-10-20 15:54:00 strategy [INFO] BUY at $208.48 98.14 95.34 10\n",
      "2022-10-20 15:56:00 strategy [INFO] SELL at $207.85 64.32 85.45 0\n",
      "2022-10-20 15:56:00 strategy [INFO] BUY at $207.85 64.32 85.45 -10\n"
     ]
    },
    {
     "name": "stdout",
     "output_type": "stream",
     "text": [
      "Final portfolio value: $99839.80\n"
     ]
    }
   ],
   "source": [
    "# Interval = 2 min K\n",
    "\n",
    "from pyalgotrade import strategy\n",
    "from pyalgotrade.barfeed import csvfeed\n",
    "from pyalgotrade.technical import ma\n",
    "from pyalgotrade.technical import rsi\n",
    "from pyalgotrade.technical import stoch\n",
    "from pyalgotrade.bar import Frequency\n",
    "\n",
    "\n",
    "number_of_shares = 10\n",
    "kdj = []\n",
    "kdjd = []\n",
    "rsi1 = []\n",
    "\n",
    "def safe_round(value, digits):\n",
    "    if value is not None:\n",
    "        value = round(value, digits)\n",
    "    return value\n",
    "\n",
    "class MyStrategy(strategy.BacktestingStrategy):\n",
    "    def __init__(self, feed, instrument, smaPeriod):\n",
    "        super(MyStrategy, self).__init__(feed, 100000) # initial equity\n",
    "        \n",
    "        # We'll use adjusted close values instead of regular close values.\n",
    "        # self.setUseAdjustedValues(True)\n",
    "        self.__sma = ma.SMA(feed[instrument].getCloseDataSeries(), smaPeriod)\n",
    "        self.__rsi = rsi.RSI(feed[instrument].getCloseDataSeries(), 6)\n",
    "        self.__kdj = stoch.StochasticOscillator(feed[instrument], period=9, dSMAPeriod=3)\n",
    "        self.D = self.__kdj.getD()\n",
    "        self.__position = None\n",
    "        self.__instrument = instrument\n",
    "\n",
    "    def onEnterOk(self, position):\n",
    "        global execInfo\n",
    "        execInfo = position.getEntryOrder().getExecutionInfo()\n",
    "        self.info(\"BUY at $%.2f %s %s %s\" % (execInfo.getPrice(),safe_round(self.__kdj[-2], 2),safe_round(self.D[-2], 2),self.__position.getShares()))\n",
    "        global buy, total_buy\n",
    "        buy = execInfo.getPrice() * number_of_shares\n",
    "        total_buy += buy\n",
    "\n",
    "    def onEnterCanceled(self, position):\n",
    "        self.__position = None\n",
    "\n",
    "    def onExitOk(self, position):\n",
    "        execInfo = position.getExitOrder().getExecutionInfo()\n",
    "        self.info(\"SELL at $%.2f %s %s %s\" % (execInfo.getPrice(),safe_round(self.__kdj[-2], 2),safe_round(self.D[-2], 2),self.__position.getShares()))\n",
    "        # self.__position = None\n",
    "        sell = execInfo.getPrice() * number_of_shares\n",
    "        global return_per_share, total_sell\n",
    "        total_sell += sell\n",
    "        return_per_share = total_sell - total_buy\n",
    "\n",
    "    def onExitCanceled(self, position):\n",
    "        # If the exit was canceled, re-submit it.\n",
    "        self.__position.exitMarket()\n",
    "\n",
    "    def onBars(self, bars):\n",
    "        # Wait for enough bars to be available to calculate a SMA.\n",
    "        if self.__sma[-1] is None:\n",
    "            return\n",
    "        \n",
    "        kdj.append(self.__kdj[-1])\n",
    "        kdjd.append(self.D[-1])\n",
    "        rsi1.append(self.__rsi[-1])\n",
    "        # for i in enumerate(self.__rsi):\n",
    "        #     print(i)\n",
    "        # ALL 30 70 (20)(14)\n",
    "        # if self.__position is None:\n",
    "        #     if safe_round(self.__kdj[-2], 2) < 30 and safe_round(self.__rsi[-2], 2) < 30 and \\\n",
    "        #         safe_round(self.__kdj[-1], 2) > safe_round(self.__kdj[-2], 2) and safe_round(self.__rsi[-1], 2) > safe_round(self.__rsi[-2], 2):\n",
    "        #         self.__position = self.enterLongStop(self.__instrument, stopPrice=execInfo.getPrice() * 0.995, quantity=number_of_shares, goodTillCanceled=True)\n",
    "        #     if safe_round(self.__kdj[-2], 2) > 70 and safe_round(self.__rsi[-2], 2) > 70 and \\\n",
    "        #         safe_round(self.__kdj[-1], 2) < safe_round(self.__kdj[-2], 2) and safe_round(self.__rsi[-1], 2) < safe_round(self.__rsi[-2], 2):\n",
    "        #         self.__position = self.enterShortStop(self.__instrument, stopPrice=execInfo.getPrice() * 1.005, quantity=number_of_shares, goodTillCanceled=True)\n",
    "        # else:\n",
    "        #     if safe_round(self.__kdj[-2], 2) > 70 and safe_round(self.__rsi[-2], 2) > 70 and \\\n",
    "        #         safe_round(self.__kdj[-1], 2) < safe_round(self.__kdj[-2], 2) and safe_round(self.__rsi[-1], 2) < safe_round(self.__rsi[-2], 2) and not self.__position.exitActive() and str(type(self.__position)) == \"<class 'pyalgotrade.strategy.position.LongPosition'>\":\n",
    "        #         self.__position.exitMarket()\n",
    "        #         self.__position = self.enterShortStop(self.__instrument, stopPrice=execInfo.getPrice() * 1.005, quantity=number_of_shares, goodTillCanceled=True)\n",
    "        #     if safe_round(self.__kdj[-2], 2) < 30 and safe_round(self.__rsi[-2], 2) < 30 and \\\n",
    "        #         safe_round(self.__kdj[-1], 2) > safe_round(self.__kdj[-2], 2) and safe_round(self.__rsi[-1], 2) > safe_round(self.__rsi[-2], 2) and not self.__position.exitActive() and str(type(self.__position)) == \"<class 'pyalgotrade.strategy.position.ShortPosition'>\":\n",
    "        #         self.__position.exitMarket()\n",
    "        #         self.__position = self.enterLongStop(self.__instrument, stopPrice=execInfo.getPrice() * 0.995, quantity=number_of_shares, goodTillCanceled=True)\n",
    "\n",
    "\n",
    "        # ALL 30 70 (13)(15)\n",
    "        # if self.__position is None:\n",
    "        #     if safe_round(self.__kdj[-2], 2) < 30 and safe_round(self.__rsi[-2], 2) < 30 and \\\n",
    "        #         safe_round(self.__kdj[-1], 2) < safe_round(self.__kdj[-2], 2) and safe_round(self.__rsi[-1], 2) < safe_round(self.__rsi[-2], 2):\n",
    "        #         self.__position = self.enterLong(self.__instrument, number_of_shares, True)\n",
    "        #     if safe_round(self.__kdj[-2], 2) > 70 and safe_round(self.__rsi[-2], 2) > 70 and \\\n",
    "        #         safe_round(self.__kdj[-1], 2) > safe_round(self.__kdj[-2], 2) and safe_round(self.__rsi[-1], 2) > safe_round(self.__rsi[-2], 2):\n",
    "        #         self.__position = self.enterShort(self.__instrument, number_of_shares, True)\n",
    "        # else:\n",
    "        #     if safe_round(self.__kdj[-2], 2) > 70 and safe_round(self.__rsi[-2], 2) > 70 and \\\n",
    "        #         safe_round(self.__kdj[-1], 2) > safe_round(self.__kdj[-2], 2) and safe_round(self.__rsi[-1], 2) > safe_round(self.__rsi[-2], 2) and not self.__position.exitActive() and str(type(self.__position)) == \"<class 'pyalgotrade.strategy.position.LongPosition'>\":\n",
    "        #         self.__position.exitMarket()\n",
    "        #         self.__position = self.enterShort(self.__instrument, number_of_shares, True)\n",
    "        #     if safe_round(self.__kdj[-2], 2) < 30 and safe_round(self.__rsi[-2], 2) < 30 and \\\n",
    "        #         safe_round(self.__kdj[-1], 2) < safe_round(self.__kdj[-2], 2) and safe_round(self.__rsi[-1], 2) < safe_round(self.__rsi[-2], 2) and not self.__position.exitActive() and str(type(self.__position)) == \"<class 'pyalgotrade.strategy.position.ShortPosition'>\":\n",
    "        #         self.__position.exitMarket()\n",
    "        #         self.__position = self.enterLong(self.__instrument, number_of_shares, True)\n",
    "\n",
    "        # ALL 20 80 (8.6)\n",
    "        # if self.__position is None:\n",
    "        #     if safe_round(self.__kdj[-2], 2) < 20 and safe_round(self.__rsi[-2], 2) < 20 and \\\n",
    "        #         safe_round(self.__kdj[-1], 2) > safe_round(self.__kdj[-2], 2) and safe_round(self.__rsi[-1], 2) > safe_round(self.__rsi[-2], 2):\n",
    "        #         self.__position = self.enterLong(self.__instrument, number_of_shares, True)\n",
    "        #     if safe_round(self.__kdj[-2], 2) > 80 and safe_round(self.__rsi[-2], 2) > 80 and \\\n",
    "        #         safe_round(self.__kdj[-1], 2) < safe_round(self.__kdj[-2], 2) and safe_round(self.__rsi[-1], 2) < safe_round(self.__rsi[-2], 2):\n",
    "        #         self.__position = self.enterShort(self.__instrument, number_of_shares, True)\n",
    "        # else:\n",
    "        #     if safe_round(self.__kdj[-2], 2) > 80 and safe_round(self.__rsi[-2], 2) > 80 and \\\n",
    "        #         safe_round(self.__kdj[-1], 2) < safe_round(self.__kdj[-2], 2) and safe_round(self.__rsi[-1], 2) < safe_round(self.__rsi[-2], 2) and not self.__position.exitActive() and str(type(self.__position)) == \"<class 'pyalgotrade.strategy.position.LongPosition'>\":\n",
    "        #         self.__position.exitMarket()\n",
    "        #         self.__position = self.enterShort(self.__instrument, number_of_shares, True)\n",
    "        #     if safe_round(self.__kdj[-2], 2) < 20 and safe_round(self.__rsi[-2], 2) < 20 and \\\n",
    "        #         safe_round(self.__kdj[-1], 2) > safe_round(self.__kdj[-2], 2) and safe_round(self.__rsi[-1], 2) > safe_round(self.__rsi[-2], 2) and not self.__position.exitActive() and str(type(self.__position)) == \"<class 'pyalgotrade.strategy.position.ShortPosition'>\":\n",
    "        #         self.__position.exitMarket()\n",
    "        #         self.__position = self.enterLong(self.__instrument, number_of_shares, True)\n",
    "\n",
    "        # ALL 20 80 \n",
    "        # if self.__position is None:\n",
    "        #     if safe_round(self.__kdj[-2], 2) < 20 and safe_round(self.__rsi[-2], 2) < 20 and \\\n",
    "        #         safe_round(self.__kdj[-1], 2) < safe_round(self.__kdj[-2], 2) and safe_round(self.__rsi[-1], 2) < safe_round(self.__rsi[-2], 2):\n",
    "        #         self.__position = self.enterLong(self.__instrument, number_of_shares, True)\n",
    "        #     if safe_round(self.__kdj[-2], 2) > 80 and safe_round(self.__rsi[-2], 2) > 80 and \\\n",
    "        #         safe_round(self.__kdj[-1], 2) > safe_round(self.__kdj[-2], 2) and safe_round(self.__rsi[-1], 2) > safe_round(self.__rsi[-2], 2):\n",
    "        #         self.__position = self.enterShort(self.__instrument, number_of_shares, True)\n",
    "        # else:\n",
    "        #     if safe_round(self.__kdj[-2], 2) > 80 and safe_round(self.__rsi[-2], 2) > 80 and \\\n",
    "        #         safe_round(self.__kdj[-1], 2) > safe_round(self.__kdj[-2], 2) and safe_round(self.__rsi[-1], 2) > safe_round(self.__rsi[-2], 2) and not self.__position.exitActive() and str(type(self.__position)) == \"<class 'pyalgotrade.strategy.position.LongPosition'>\":\n",
    "        #         self.__position.exitMarket()\n",
    "        #         self.__position = self.enterShort(self.__instrument, number_of_shares, True)\n",
    "        #     if safe_round(self.__kdj[-2], 2) < 20 and safe_round(self.__rsi[-2], 2) < 20 and \\\n",
    "        #         safe_round(self.__kdj[-1], 2) < safe_round(self.__kdj[-2], 2) and safe_round(self.__rsi[-1], 2) < safe_round(self.__rsi[-2], 2) and not self.__position.exitActive() and str(type(self.__position)) == \"<class 'pyalgotrade.strategy.position.ShortPosition'>\":\n",
    "        #         self.__position.exitMarket()\n",
    "        #         self.__position = self.enterLong(self.__instrument, number_of_shares, True)\n",
    "\n",
    "        # Just < 30 and > 70 (17)(15)\n",
    "        # if self.__position is None:\n",
    "        #     if safe_round(self.__kdj[-1], 2) < 30 and safe_round(self.__rsi[-1], 2) < 30:\n",
    "        #         self.__position = self.enterLong(self.__instrument, number_of_shares, True)\n",
    "        #     if safe_round(self.__kdj[-1], 2) > 70 and safe_round(self.__rsi[-1], 2) > 70:\n",
    "        #         self.__position = self.enterShort(self.__instrument, number_of_shares, True)\n",
    "        # else:\n",
    "        #     if safe_round(self.__kdj[-1], 2) > 70 and safe_round(self.__rsi[-1], 2) > 70 and not self.__position.exitActive() and str(type(self.__position)) == \"<class 'pyalgotrade.strategy.position.LongPosition'>\":\n",
    "        #         self.__position.exitMarket()\n",
    "        #         self.__position = self.enterShort(self.__instrument, number_of_shares, True)\n",
    "        #     if safe_round(self.__kdj[-1], 2) < 30 and safe_round(self.__rsi[-1], 2) < 30 and not self.__position.exitActive() and str(type(self.__position)) == \"<class 'pyalgotrade.strategy.position.ShortPosition'>\":\n",
    "        #         self.__position.exitMarket()\n",
    "        #         self.__position = self.enterLong(self.__instrument, number_of_shares, True)\n",
    "\n",
    "        # Just < 20 and > 80 (10)\n",
    "        # if self.__position is None:\n",
    "        #     if safe_round(self.__kdj[-1], 2) < 20 and safe_round(self.__rsi[-1], 2) < 20:\n",
    "        #         self.__position = self.enterLong(self.__instrument, number_of_shares, True)\n",
    "        #     if safe_round(self.__kdj[-1], 2) > 80 and safe_round(self.__rsi[-1], 2) > 80:\n",
    "        #         self.__position = self.enterShort(self.__instrument, number_of_shares, True)\n",
    "        # else:\n",
    "        #     if safe_round(self.__kdj[-1], 2) > 80 and safe_round(self.__rsi[-1], 2) > 80 and not self.__position.exitActive() and str(type(self.__position)) == \"<class 'pyalgotrade.strategy.position.LongPosition'>\":\n",
    "        #         self.__position.exitMarket()\n",
    "        #         self.__position = self.enterShort(self.__instrument, number_of_shares, True)\n",
    "        #     if safe_round(self.__kdj[-1], 2) < 20 and safe_round(self.__rsi[-1], 2) < 20 and not self.__position.exitActive() and str(type(self.__position)) == \"<class 'pyalgotrade.strategy.position.ShortPosition'>\":\n",
    "        #         self.__position.exitMarket()\n",
    "        #         self.__position = self.enterLong(self.__instrument, number_of_shares, True)\n",
    "\n",
    "        # KDJ cross (15.4)\n",
    "        # if self.__position is None:\n",
    "        #     # print(self.__kdj[-1],self.D[-1])\n",
    "        #     if safe_round(self.__kdj[-1],2) > safe_round(self.D[-1],2):\n",
    "        #         self.__position = self.enterLong(self.__instrument, number_of_shares, True)\n",
    "        #     if safe_round(self.__kdj[-1],2) < safe_round(self.D[-1],2):\n",
    "        #         self.__position = self.enterShort(self.__instrument, number_of_shares, True)\n",
    "        # else:\n",
    "        #     if safe_round(self.__kdj[-1],2) < safe_round(self.D[-1],2) and str(type(self.__position)) == \"<class 'pyalgotrade.strategy.position.LongPosition'>\" and not self.__position.exitActive():\n",
    "        #         self.__position.exitMarket()\n",
    "        #         self.__position = self.enterShort(self.__instrument, number_of_shares, True)\n",
    "        #     if safe_round(self.__kdj[-1],2) > safe_round(self.D[-1],2) and str(type(self.__position)) == \"<class 'pyalgotrade.strategy.position.ShortPosition'>\" and not self.__position.exitActive():\n",
    "        #         self.__position.exitMarket()\n",
    "        #         self.__position = self.enterLong(self.__instrument, number_of_shares, True)\n",
    "\n",
    "        if self.__position is None:\n",
    "            if safe_round(self.__kdj[-1],2) > safe_round(self.D[-1],2):\n",
    "                self.__position = self.enterLong(self.__instrument, number_of_shares, True)\n",
    "            if safe_round(self.__kdj[-1],2) < safe_round(self.D[-1],2):\n",
    "                self.__position = self.enterShort(self.__instrument, number_of_shares, True)\n",
    "        else:\n",
    "            if safe_round(self.__kdj[-1],2) < safe_round(self.D[-1],2) and str(type(self.__position)) == \"<class 'pyalgotrade.strategy.position.LongPosition'>\" and not self.__position.exitActive():\n",
    "                self.__position.exitMarket()\n",
    "                self.__position = self.enterShort(self.__instrument, number_of_shares, True)\n",
    "            if safe_round(self.__kdj[-1],2) > safe_round(self.D[-1],2) and str(type(self.__position)) == \"<class 'pyalgotrade.strategy.position.ShortPosition'>\" and not self.__position.exitActive():\n",
    "                self.__position.exitMarket()\n",
    "                self.__position = self.enterLong(self.__instrument, number_of_shares, True)\n",
    "\n",
    "        # trial 2 (9)\n",
    "        # if self.__position is None:\n",
    "        #     if safe_round(self.__kdj[-1],2) > safe_round(self.D[-1],2) and safe_round(self.__kdj[-2], 2) < 50 and safe_round(self.__rsi[-2], 2) < 50:\n",
    "        #         self.__position = self.enterLong(self.__instrument, number_of_shares, True)\n",
    "        #     if safe_round(self.__kdj[-1],2) < safe_round(self.D[-1],2) and safe_round(self.__kdj[-2], 2) > 50 and safe_round(self.__rsi[-2], 2) > 50:\n",
    "        #         self.__position = self.enterShort(self.__instrument, number_of_shares, True)\n",
    "        # else:\n",
    "        #     if safe_round(self.__kdj[-2], 2) > 80 and safe_round(self.__rsi[-2], 2) > 80 and str(type(self.__position)) == \"<class 'pyalgotrade.strategy.position.LongPosition'>\" and not self.__position.exitActive():\n",
    "        #         self.__position.exitMarket()\n",
    "        #         self.__position = self.enterShort(self.__instrument, number_of_shares, True)\n",
    "        #     if safe_round(self.__kdj[-2], 2) < 20 and safe_round(self.__rsi[-2], 2) < 20 and str(type(self.__position)) == \"<class 'pyalgotrade.strategy.position.ShortPosition'>\" and not self.__position.exitActive():\n",
    "        #         self.__position.exitMarket()\n",
    "        #         self.__position = self.enterLong(self.__instrument, number_of_shares, True)\n",
    "\n",
    "        # trial 3 (17)\n",
    "        # if self.__position is None:\n",
    "        #     if safe_round(self.__kdj[-1],2) > safe_round(self.D[-1],2) and safe_round(self.__kdj[-2], 2) < 50 and safe_round(self.__rsi[-2], 2) < 50:\n",
    "        #         self.__position = self.enterLong(self.__instrument, number_of_shares, True)\n",
    "        #     if safe_round(self.__kdj[-1],2) < safe_round(self.D[-1],2) and safe_round(self.__kdj[-2], 2) > 50 and safe_round(self.__rsi[-2], 2) > 50:\n",
    "        #         self.__position = self.enterShort(self.__instrument, number_of_shares, True)\n",
    "        # else:\n",
    "        #     if safe_round(self.__kdj[-1],2) < safe_round(self.D[-1],2) and str(type(self.__position)) == \"<class 'pyalgotrade.strategy.position.LongPosition'>\" and not self.__position.exitActive():\n",
    "        #         self.__position.exitMarket()\n",
    "        #         self.__position = self.enterShort(self.__instrument, number_of_shares, True)\n",
    "        #     if safe_round(self.__kdj[-1],2) > safe_round(self.D[-1],2) and str(type(self.__position)) == \"<class 'pyalgotrade.strategy.position.ShortPosition'>\" and not self.__position.exitActive():\n",
    "        #         self.__position.exitMarket()\n",
    "        #         self.__position = self.enterLong(self.__instrument, number_of_shares, True)\n",
    "\n",
    "\n",
    "def run_strategy(smaPeriod):\n",
    "    global total_sell, total_buy\n",
    "    total_buy = 0\n",
    "    total_sell = 0\n",
    "    # Load the bar feed from the CSV file\n",
    "    # feed = quandlfeed.Feed()\n",
    "    feed = csvfeed.GenericBarFeed(Frequency.MINUTE)\n",
    "    feed.addBarsFromCSV(ticker,'data.csv')\n",
    "\n",
    "    # Evaluate the strategy with the feed.\n",
    "    myStrategy = MyStrategy(feed, ticker, smaPeriod)\n",
    "    myStrategy.run()\n",
    "    print(\"Final portfolio value: $%.2f\" % myStrategy.getBroker().getEquity())\n",
    "    # print('Return = ', return_per_share)\n",
    "\n",
    "run_strategy(15)\n"
   ]
  },
  {
   "cell_type": "code",
   "execution_count": 16,
   "metadata": {},
   "outputs": [
    {
     "data": {
      "application/vnd.plotly.v1+json": {
       "config": {
        "plotlyServerURL": "https://plot.ly"
       },
       "data": [
        {
         "mode": "lines",
         "name": "KDJ K Line",
         "type": "scatter",
         "x": [
          "2022-10-20 09:30:00",
          "2022-10-20 09:32:00",
          "2022-10-20 09:34:00",
          "2022-10-20 09:36:00",
          "2022-10-20 09:38:00",
          "2022-10-20 09:40:00",
          "2022-10-20 09:42:00",
          "2022-10-20 09:44:00",
          "2022-10-20 09:46:00",
          "2022-10-20 09:48:00",
          "2022-10-20 09:50:00",
          "2022-10-20 09:52:00",
          "2022-10-20 09:54:00",
          "2022-10-20 09:56:00",
          "2022-10-20 09:58:00",
          "2022-10-20 10:00:00",
          "2022-10-20 10:02:00",
          "2022-10-20 10:04:00",
          "2022-10-20 10:06:00",
          "2022-10-20 10:08:00",
          "2022-10-20 10:10:00",
          "2022-10-20 10:12:00",
          "2022-10-20 10:14:00",
          "2022-10-20 10:16:00",
          "2022-10-20 10:18:00",
          "2022-10-20 10:20:00",
          "2022-10-20 10:22:00",
          "2022-10-20 10:24:00",
          "2022-10-20 10:26:00",
          "2022-10-20 10:28:00",
          "2022-10-20 10:30:00",
          "2022-10-20 10:32:00",
          "2022-10-20 10:34:00",
          "2022-10-20 10:36:00",
          "2022-10-20 10:38:00",
          "2022-10-20 10:40:00",
          "2022-10-20 10:42:00",
          "2022-10-20 10:44:00",
          "2022-10-20 10:46:00",
          "2022-10-20 10:48:00",
          "2022-10-20 10:50:00",
          "2022-10-20 10:52:00",
          "2022-10-20 10:54:00",
          "2022-10-20 10:56:00",
          "2022-10-20 10:58:00",
          "2022-10-20 11:00:00",
          "2022-10-20 11:02:00",
          "2022-10-20 11:04:00",
          "2022-10-20 11:06:00",
          "2022-10-20 11:08:00",
          "2022-10-20 11:10:00",
          "2022-10-20 11:12:00",
          "2022-10-20 11:14:00",
          "2022-10-20 11:16:00",
          "2022-10-20 11:18:00",
          "2022-10-20 11:20:00",
          "2022-10-20 11:22:00",
          "2022-10-20 11:24:00",
          "2022-10-20 11:26:00",
          "2022-10-20 11:28:00",
          "2022-10-20 11:30:00",
          "2022-10-20 11:32:00",
          "2022-10-20 11:34:00",
          "2022-10-20 11:36:00",
          "2022-10-20 11:38:00",
          "2022-10-20 11:40:00",
          "2022-10-20 11:42:00",
          "2022-10-20 11:44:00",
          "2022-10-20 11:46:00",
          "2022-10-20 11:48:00",
          "2022-10-20 11:50:00",
          "2022-10-20 11:52:00",
          "2022-10-20 11:54:00",
          "2022-10-20 11:56:00",
          "2022-10-20 11:58:00",
          "2022-10-20 12:00:00",
          "2022-10-20 12:02:00",
          "2022-10-20 12:04:00",
          "2022-10-20 12:06:00",
          "2022-10-20 12:08:00",
          "2022-10-20 12:10:00",
          "2022-10-20 12:12:00",
          "2022-10-20 12:14:00",
          "2022-10-20 12:16:00",
          "2022-10-20 12:18:00",
          "2022-10-20 12:20:00",
          "2022-10-20 12:22:00",
          "2022-10-20 12:24:00",
          "2022-10-20 12:26:00",
          "2022-10-20 12:28:00",
          "2022-10-20 12:30:00",
          "2022-10-20 12:32:00",
          "2022-10-20 12:34:00",
          "2022-10-20 12:36:00",
          "2022-10-20 12:38:00",
          "2022-10-20 12:40:00",
          "2022-10-20 12:42:00",
          "2022-10-20 12:44:00",
          "2022-10-20 12:46:00",
          "2022-10-20 12:48:00",
          "2022-10-20 12:50:00",
          "2022-10-20 12:52:00",
          "2022-10-20 12:54:00",
          "2022-10-20 12:56:00",
          "2022-10-20 12:58:00",
          "2022-10-20 13:00:00",
          "2022-10-20 13:02:00",
          "2022-10-20 13:04:00",
          "2022-10-20 13:06:00",
          "2022-10-20 13:08:00",
          "2022-10-20 13:10:00",
          "2022-10-20 13:12:00",
          "2022-10-20 13:14:00",
          "2022-10-20 13:16:00",
          "2022-10-20 13:18:00",
          "2022-10-20 13:20:00",
          "2022-10-20 13:22:00",
          "2022-10-20 13:24:00",
          "2022-10-20 13:26:00",
          "2022-10-20 13:28:00",
          "2022-10-20 13:30:00",
          "2022-10-20 13:32:00",
          "2022-10-20 13:34:00",
          "2022-10-20 13:36:00",
          "2022-10-20 13:38:00",
          "2022-10-20 13:40:00",
          "2022-10-20 13:42:00",
          "2022-10-20 13:44:00",
          "2022-10-20 13:46:00",
          "2022-10-20 13:48:00",
          "2022-10-20 13:50:00",
          "2022-10-20 13:52:00",
          "2022-10-20 13:54:00",
          "2022-10-20 13:56:00",
          "2022-10-20 13:58:00",
          "2022-10-20 14:00:00",
          "2022-10-20 14:02:00",
          "2022-10-20 14:04:00",
          "2022-10-20 14:06:00",
          "2022-10-20 14:08:00",
          "2022-10-20 14:10:00",
          "2022-10-20 14:12:00",
          "2022-10-20 14:14:00",
          "2022-10-20 14:16:00",
          "2022-10-20 14:18:00",
          "2022-10-20 14:20:00",
          "2022-10-20 14:22:00",
          "2022-10-20 14:24:00",
          "2022-10-20 14:26:00",
          "2022-10-20 14:28:00",
          "2022-10-20 14:30:00",
          "2022-10-20 14:32:00",
          "2022-10-20 14:34:00",
          "2022-10-20 14:36:00",
          "2022-10-20 14:38:00",
          "2022-10-20 14:40:00",
          "2022-10-20 14:42:00",
          "2022-10-20 14:44:00",
          "2022-10-20 14:46:00",
          "2022-10-20 14:48:00",
          "2022-10-20 14:50:00",
          "2022-10-20 14:52:00",
          "2022-10-20 14:54:00",
          "2022-10-20 14:56:00",
          "2022-10-20 14:58:00",
          "2022-10-20 15:00:00",
          "2022-10-20 15:02:00",
          "2022-10-20 15:04:00",
          "2022-10-20 15:06:00",
          "2022-10-20 15:08:00",
          "2022-10-20 15:10:00",
          "2022-10-20 15:12:00",
          "2022-10-20 15:14:00",
          "2022-10-20 15:16:00",
          "2022-10-20 15:18:00",
          "2022-10-20 15:20:00",
          "2022-10-20 15:22:00",
          "2022-10-20 15:24:00",
          "2022-10-20 15:26:00",
          "2022-10-20 15:28:00",
          "2022-10-20 15:30:00",
          "2022-10-20 15:32:00",
          "2022-10-20 15:34:00",
          "2022-10-20 15:36:00",
          "2022-10-20 15:38:00",
          "2022-10-20 15:40:00",
          "2022-10-20 15:42:00",
          "2022-10-20 15:44:00",
          "2022-10-20 15:46:00",
          "2022-10-20 15:48:00",
          "2022-10-20 15:50:00",
          "2022-10-20 15:52:00",
          "2022-10-20 15:54:00",
          "2022-10-20 15:56:00",
          "2022-10-20 15:58:00",
          "2022-10-28 16:00:00"
         ],
         "y": [
          45.07320693394582,
          58.190663438328926,
          73.30983674080731,
          91.38271217220921,
          88.14559679941013,
          95.20550987508197,
          91.06315346472965,
          83.9486246261839,
          98.47644609759706,
          99.03171001952198,
          88.976436607602,
          89.85726934858545,
          63.25172638790713,
          50.948255677827206,
          20.992522014629827,
          25.57657363835438,
          7.8981256955142065,
          8.430068797877956,
          23.691576141197555,
          51.1628216444955,
          91.21063206320126,
          82.20052739178098,
          92.26346624693949,
          90.64183280867437,
          99.57926591798558,
          93.4618999874671,
          89.50663699838871,
          86.00464996125032,
          82.52705152710895,
          97.22221151882492,
          87.62737703602664,
          74.04843742575198,
          78.2407211178457,
          86.38774825442982,
          91.01159554465913,
          91.19538334707336,
          97.90802323354822,
          98.20938428805769,
          74.91065227640257,
          57.30927746206841,
          41.644449862458984,
          38.17067805863116,
          76.88937717013889,
          74.20840410400874,
          68.88902452256944,
          22.666422526041664,
          26.666259765625,
          1.3597276475694444,
          10.47839691900349,
          19.94343482970273,
          35.1696955108918,
          46.36598868696594,
          32.5628836201709,
          21.86529548540129,
          8.635129610800725,
          65.61889048895162,
          56.875554326368295,
          39.58724739407002,
          18.75029802492919,
          5.618324275207023,
          5.577677133043558,
          8.702370432607573,
          20.43597749847204,
          28.065375836219474,
          10.159123604729475,
          9.839660325707422,
          36.45578617591273,
          32.06508218201118,
          45.73172433684719,
          66.91144296469163,
          74.821990731358,
          28.777376947293043,
          30.105522002891384,
          23.46479672489968,
          1.5872709118433341,
          23.815938358747776,
          18.048146751201873,
          23.148996294101096,
          28.808021765216047,
          14.975784872363796,
          11.082271511719364,
          32.55728593151906,
          24.62706962126216,
          0.8125643538562691,
          2.963034128863445,
          21.611621290794965,
          31.501903159636246,
          15.354347264524423,
          8.968490198090937,
          28.09880598036197,
          27.802524889664376,
          27.755723966478207,
          100,
          89.83692074364808,
          29.348432955842767,
          35.650775397281734,
          65.96001766622501,
          29.74993168736613,
          18.97506925207756,
          16.522235531930825,
          12.228606723066557,
          39.03751366424256,
          44.915637453014156,
          57.14552645510884,
          62.24813926691788,
          70.57146344866071,
          61.073846122336114,
          71.81230734569735,
          44.29538448934449,
          53.026656698993335,
          29.875218328586488,
          10.10157056765463,
          31.249735090916797,
          14.582715212139194,
          12.087193460490463,
          2.765569954926765,
          24.001376043609998,
          27.162306990036917,
          10.966687422166874,
          11.302913217680711,
          18.792003828106587,
          30.13750702409678,
          34.61663978218911,
          41.99661950836472,
          34.71675777305804,
          44.317866555694266,
          22.057497572478844,
          15.634400409841447,
          42.70902617473297,
          31.871356469345436,
          19.657785255030845,
          3.6663417115246046,
          21.18001102021786,
          2.3242923656788115,
          2.427859472097459,
          18.62761230870495,
          18.80730734233919,
          91.74214320711135,
          85.1813356921716,
          89.6375064236866,
          67.87603273115388,
          61.668181997865354,
          52.84974502905483,
          33.93762106178598,
          69.9482152033838,
          51.3633634635269,
          42.75320654577621,
          73.55042016806723,
          72.88091759016203,
          96.83404478394368,
          68.31692891081181,
          83.66331024376241,
          87.62378855291088,
          88.88853006951229,
          86.12870857997828,
          70.1392371977366,
          55.83770027826886,
          55.10516343340971,
          36.67589211487262,
          17.563800371696658,
          1.9107599304117948,
          4.597832187456153,
          0.50048828125,
          23.005878146203624,
          1.1969482388414272,
          10.97671042959627,
          9.94199535962877,
          35.86138676376188,
          29.26844397027627,
          64.58734483802604,
          60.31728731456252,
          83.33272782319105,
          100,
          82.81238824118446,
          100,
          93.99488038955734,
          93.88569153964805,
          98.13984187591376,
          64.31887214167001,
          53.99020001146197,
          26.546326883750197,
          100
         ]
        },
        {
         "mode": "lines",
         "name": "KDJ D Line",
         "type": "scatter",
         "x": [
          "2022-10-20 09:30:00",
          "2022-10-20 09:32:00",
          "2022-10-20 09:34:00",
          "2022-10-20 09:36:00",
          "2022-10-20 09:38:00",
          "2022-10-20 09:40:00",
          "2022-10-20 09:42:00",
          "2022-10-20 09:44:00",
          "2022-10-20 09:46:00",
          "2022-10-20 09:48:00",
          "2022-10-20 09:50:00",
          "2022-10-20 09:52:00",
          "2022-10-20 09:54:00",
          "2022-10-20 09:56:00",
          "2022-10-20 09:58:00",
          "2022-10-20 10:00:00",
          "2022-10-20 10:02:00",
          "2022-10-20 10:04:00",
          "2022-10-20 10:06:00",
          "2022-10-20 10:08:00",
          "2022-10-20 10:10:00",
          "2022-10-20 10:12:00",
          "2022-10-20 10:14:00",
          "2022-10-20 10:16:00",
          "2022-10-20 10:18:00",
          "2022-10-20 10:20:00",
          "2022-10-20 10:22:00",
          "2022-10-20 10:24:00",
          "2022-10-20 10:26:00",
          "2022-10-20 10:28:00",
          "2022-10-20 10:30:00",
          "2022-10-20 10:32:00",
          "2022-10-20 10:34:00",
          "2022-10-20 10:36:00",
          "2022-10-20 10:38:00",
          "2022-10-20 10:40:00",
          "2022-10-20 10:42:00",
          "2022-10-20 10:44:00",
          "2022-10-20 10:46:00",
          "2022-10-20 10:48:00",
          "2022-10-20 10:50:00",
          "2022-10-20 10:52:00",
          "2022-10-20 10:54:00",
          "2022-10-20 10:56:00",
          "2022-10-20 10:58:00",
          "2022-10-20 11:00:00",
          "2022-10-20 11:02:00",
          "2022-10-20 11:04:00",
          "2022-10-20 11:06:00",
          "2022-10-20 11:08:00",
          "2022-10-20 11:10:00",
          "2022-10-20 11:12:00",
          "2022-10-20 11:14:00",
          "2022-10-20 11:16:00",
          "2022-10-20 11:18:00",
          "2022-10-20 11:20:00",
          "2022-10-20 11:22:00",
          "2022-10-20 11:24:00",
          "2022-10-20 11:26:00",
          "2022-10-20 11:28:00",
          "2022-10-20 11:30:00",
          "2022-10-20 11:32:00",
          "2022-10-20 11:34:00",
          "2022-10-20 11:36:00",
          "2022-10-20 11:38:00",
          "2022-10-20 11:40:00",
          "2022-10-20 11:42:00",
          "2022-10-20 11:44:00",
          "2022-10-20 11:46:00",
          "2022-10-20 11:48:00",
          "2022-10-20 11:50:00",
          "2022-10-20 11:52:00",
          "2022-10-20 11:54:00",
          "2022-10-20 11:56:00",
          "2022-10-20 11:58:00",
          "2022-10-20 12:00:00",
          "2022-10-20 12:02:00",
          "2022-10-20 12:04:00",
          "2022-10-20 12:06:00",
          "2022-10-20 12:08:00",
          "2022-10-20 12:10:00",
          "2022-10-20 12:12:00",
          "2022-10-20 12:14:00",
          "2022-10-20 12:16:00",
          "2022-10-20 12:18:00",
          "2022-10-20 12:20:00",
          "2022-10-20 12:22:00",
          "2022-10-20 12:24:00",
          "2022-10-20 12:26:00",
          "2022-10-20 12:28:00",
          "2022-10-20 12:30:00",
          "2022-10-20 12:32:00",
          "2022-10-20 12:34:00",
          "2022-10-20 12:36:00",
          "2022-10-20 12:38:00",
          "2022-10-20 12:40:00",
          "2022-10-20 12:42:00",
          "2022-10-20 12:44:00",
          "2022-10-20 12:46:00",
          "2022-10-20 12:48:00",
          "2022-10-20 12:50:00",
          "2022-10-20 12:52:00",
          "2022-10-20 12:54:00",
          "2022-10-20 12:56:00",
          "2022-10-20 12:58:00",
          "2022-10-20 13:00:00",
          "2022-10-20 13:02:00",
          "2022-10-20 13:04:00",
          "2022-10-20 13:06:00",
          "2022-10-20 13:08:00",
          "2022-10-20 13:10:00",
          "2022-10-20 13:12:00",
          "2022-10-20 13:14:00",
          "2022-10-20 13:16:00",
          "2022-10-20 13:18:00",
          "2022-10-20 13:20:00",
          "2022-10-20 13:22:00",
          "2022-10-20 13:24:00",
          "2022-10-20 13:26:00",
          "2022-10-20 13:28:00",
          "2022-10-20 13:30:00",
          "2022-10-20 13:32:00",
          "2022-10-20 13:34:00",
          "2022-10-20 13:36:00",
          "2022-10-20 13:38:00",
          "2022-10-20 13:40:00",
          "2022-10-20 13:42:00",
          "2022-10-20 13:44:00",
          "2022-10-20 13:46:00",
          "2022-10-20 13:48:00",
          "2022-10-20 13:50:00",
          "2022-10-20 13:52:00",
          "2022-10-20 13:54:00",
          "2022-10-20 13:56:00",
          "2022-10-20 13:58:00",
          "2022-10-20 14:00:00",
          "2022-10-20 14:02:00",
          "2022-10-20 14:04:00",
          "2022-10-20 14:06:00",
          "2022-10-20 14:08:00",
          "2022-10-20 14:10:00",
          "2022-10-20 14:12:00",
          "2022-10-20 14:14:00",
          "2022-10-20 14:16:00",
          "2022-10-20 14:18:00",
          "2022-10-20 14:20:00",
          "2022-10-20 14:22:00",
          "2022-10-20 14:24:00",
          "2022-10-20 14:26:00",
          "2022-10-20 14:28:00",
          "2022-10-20 14:30:00",
          "2022-10-20 14:32:00",
          "2022-10-20 14:34:00",
          "2022-10-20 14:36:00",
          "2022-10-20 14:38:00",
          "2022-10-20 14:40:00",
          "2022-10-20 14:42:00",
          "2022-10-20 14:44:00",
          "2022-10-20 14:46:00",
          "2022-10-20 14:48:00",
          "2022-10-20 14:50:00",
          "2022-10-20 14:52:00",
          "2022-10-20 14:54:00",
          "2022-10-20 14:56:00",
          "2022-10-20 14:58:00",
          "2022-10-20 15:00:00",
          "2022-10-20 15:02:00",
          "2022-10-20 15:04:00",
          "2022-10-20 15:06:00",
          "2022-10-20 15:08:00",
          "2022-10-20 15:10:00",
          "2022-10-20 15:12:00",
          "2022-10-20 15:14:00",
          "2022-10-20 15:16:00",
          "2022-10-20 15:18:00",
          "2022-10-20 15:20:00",
          "2022-10-20 15:22:00",
          "2022-10-20 15:24:00",
          "2022-10-20 15:26:00",
          "2022-10-20 15:28:00",
          "2022-10-20 15:30:00",
          "2022-10-20 15:32:00",
          "2022-10-20 15:34:00",
          "2022-10-20 15:36:00",
          "2022-10-20 15:38:00",
          "2022-10-20 15:40:00",
          "2022-10-20 15:42:00",
          "2022-10-20 15:44:00",
          "2022-10-20 15:46:00",
          "2022-10-20 15:48:00",
          "2022-10-20 15:50:00",
          "2022-10-20 15:52:00",
          "2022-10-20 15:54:00",
          "2022-10-20 15:56:00",
          "2022-10-20 15:58:00",
          "2022-10-28 16:00:00"
         ],
         "y": [
          45.4959955044726,
          51.61550949004735,
          58.857902371027365,
          74.29440411711516,
          84.27938190414223,
          91.57793961556712,
          91.47142004640726,
          90.07242932199851,
          91.1627413961702,
          93.81892691443433,
          95.4948642415737,
          92.6218053252365,
          80.6951441146982,
          68.01908380477327,
          45.06416802678807,
          32.50578377693715,
          18.15574044949948,
          13.968256043915524,
          13.339923544863248,
          27.761488861190347,
          55.35500994963145,
          74.85799369982593,
          88.55820856730725,
          88.36860881579828,
          94.16152165786649,
          94.5609995713757,
          94.18260096794715,
          89.65772898236872,
          86.01277949558266,
          88.5846376690614,
          89.12554669398683,
          86.29934199353451,
          79.97217852654144,
          79.55896893267584,
          85.21335497231156,
          89.53157571538745,
          93.37166737509357,
          95.77093028955974,
          90.34268659933615,
          76.80977134217622,
          57.954793200309986,
          45.708135127719515,
          52.23483503040967,
          63.089486444259585,
          73.32893526557234,
          55.25461705087328,
          39.40723560474537,
          16.89746997974537,
          12.834794777399313,
          10.593853132091889,
          21.863842419866007,
          33.826373009186824,
          38.03285593934288,
          33.598055930846044,
          21.02110290545764,
          32.03977186171788,
          43.70985814204022,
          54.027230736463316,
          38.404366581789176,
          21.31862323140209,
          9.982099811059937,
          6.632790613619398,
          11.572008354707737,
          19.06790792243304,
          19.55349231314034,
          16.021386588885466,
          18.81819003544988,
          26.120176227877117,
          38.084197564923706,
          48.23608316118334,
          62.488386010965606,
          56.83693688111423,
          44.56829656051414,
          27.449231891694698,
          18.385863213211465,
          16.289335331830266,
          14.483785340597663,
          21.671027134683584,
          23.335054936839676,
          22.310934310560317,
          18.288692716433072,
          19.538447438534078,
          22.75554235483353,
          19.33230663554583,
          9.467556034660625,
          8.46240659117156,
          18.69218619309822,
          22.82262390498521,
          18.608246874083868,
          17.473881147659107,
          21.623273689372425,
          27.885684945501517,
          51.8527496187142,
          72.5308815700421,
          73.06178456649695,
          51.612043032257525,
          43.65307533978317,
          43.786908250290956,
          38.228339535222894,
          21.749078823791496,
          15.90863716902497,
          22.59611863974664,
          32.06058594677442,
          47.03289252412185,
          54.76976772501362,
          63.32170972356247,
          64.63114961263823,
          67.81920563889804,
          59.06051265245931,
          56.37811617801171,
          42.39908650564142,
          31.001148531744796,
          23.742174662385953,
          18.644673623570185,
          19.30654792118213,
          9.811826209185453,
          12.95137981967572,
          17.976417662857873,
          20.710123485271243,
          16.47730254329481,
          13.687201489318035,
          20.07747468996134,
          27.848716878130805,
          35.58358877155018,
          37.110005687870604,
          40.34374794570565,
          33.69737396707703,
          27.336588179338158,
          26.800308052351063,
          30.07159435130659,
          31.412722633036385,
          18.398494478633594,
          14.834712662257738,
          9.056881699140394,
          8.644054285998012,
          7.793254715493707,
          13.287593041047165,
          43.05902095271846,
          65.243595413874,
          88.85366177432314,
          80.89829161567066,
          73.06057371756857,
          60.79798658602465,
          49.48518269623534,
          52.24519376474149,
          51.74973324289884,
          54.68826173756225,
          55.888996725790065,
          63.06151476800177,
          81.08846084739093,
          79.34396376163912,
          82.93809464617257,
          79.86800923582831,
          86.72520962206181,
          87.5470090674671,
          81.71882528240901,
          70.70188201866121,
          60.36070030313836,
          49.2062519421837,
          36.44828530665963,
          18.71681747232699,
          8.024130829854835,
          2.3363601330392827,
          9.368066204969892,
          8.234438222098317,
          11.726512271547074,
          7.371884676022123,
          18.926697517662276,
          25.023942031222276,
          43.23905852402136,
          51.39102537428825,
          69.41245332525985,
          81.2166717125845,
          88.71503868812515,
          94.27079608039479,
          92.26908954358058,
          95.96019064306843,
          95.34013793503968,
          85.4481351857439,
          72.14963800968187,
          48.28513301229402,
          60.17884229840402
         ]
        }
       ],
       "layout": {
        "template": {
         "data": {
          "bar": [
           {
            "error_x": {
             "color": "#2a3f5f"
            },
            "error_y": {
             "color": "#2a3f5f"
            },
            "marker": {
             "line": {
              "color": "#E5ECF6",
              "width": 0.5
             },
             "pattern": {
              "fillmode": "overlay",
              "size": 10,
              "solidity": 0.2
             }
            },
            "type": "bar"
           }
          ],
          "barpolar": [
           {
            "marker": {
             "line": {
              "color": "#E5ECF6",
              "width": 0.5
             },
             "pattern": {
              "fillmode": "overlay",
              "size": 10,
              "solidity": 0.2
             }
            },
            "type": "barpolar"
           }
          ],
          "carpet": [
           {
            "aaxis": {
             "endlinecolor": "#2a3f5f",
             "gridcolor": "white",
             "linecolor": "white",
             "minorgridcolor": "white",
             "startlinecolor": "#2a3f5f"
            },
            "baxis": {
             "endlinecolor": "#2a3f5f",
             "gridcolor": "white",
             "linecolor": "white",
             "minorgridcolor": "white",
             "startlinecolor": "#2a3f5f"
            },
            "type": "carpet"
           }
          ],
          "choropleth": [
           {
            "colorbar": {
             "outlinewidth": 0,
             "ticks": ""
            },
            "type": "choropleth"
           }
          ],
          "contour": [
           {
            "colorbar": {
             "outlinewidth": 0,
             "ticks": ""
            },
            "colorscale": [
             [
              0,
              "#0d0887"
             ],
             [
              0.1111111111111111,
              "#46039f"
             ],
             [
              0.2222222222222222,
              "#7201a8"
             ],
             [
              0.3333333333333333,
              "#9c179e"
             ],
             [
              0.4444444444444444,
              "#bd3786"
             ],
             [
              0.5555555555555556,
              "#d8576b"
             ],
             [
              0.6666666666666666,
              "#ed7953"
             ],
             [
              0.7777777777777778,
              "#fb9f3a"
             ],
             [
              0.8888888888888888,
              "#fdca26"
             ],
             [
              1,
              "#f0f921"
             ]
            ],
            "type": "contour"
           }
          ],
          "contourcarpet": [
           {
            "colorbar": {
             "outlinewidth": 0,
             "ticks": ""
            },
            "type": "contourcarpet"
           }
          ],
          "heatmap": [
           {
            "colorbar": {
             "outlinewidth": 0,
             "ticks": ""
            },
            "colorscale": [
             [
              0,
              "#0d0887"
             ],
             [
              0.1111111111111111,
              "#46039f"
             ],
             [
              0.2222222222222222,
              "#7201a8"
             ],
             [
              0.3333333333333333,
              "#9c179e"
             ],
             [
              0.4444444444444444,
              "#bd3786"
             ],
             [
              0.5555555555555556,
              "#d8576b"
             ],
             [
              0.6666666666666666,
              "#ed7953"
             ],
             [
              0.7777777777777778,
              "#fb9f3a"
             ],
             [
              0.8888888888888888,
              "#fdca26"
             ],
             [
              1,
              "#f0f921"
             ]
            ],
            "type": "heatmap"
           }
          ],
          "heatmapgl": [
           {
            "colorbar": {
             "outlinewidth": 0,
             "ticks": ""
            },
            "colorscale": [
             [
              0,
              "#0d0887"
             ],
             [
              0.1111111111111111,
              "#46039f"
             ],
             [
              0.2222222222222222,
              "#7201a8"
             ],
             [
              0.3333333333333333,
              "#9c179e"
             ],
             [
              0.4444444444444444,
              "#bd3786"
             ],
             [
              0.5555555555555556,
              "#d8576b"
             ],
             [
              0.6666666666666666,
              "#ed7953"
             ],
             [
              0.7777777777777778,
              "#fb9f3a"
             ],
             [
              0.8888888888888888,
              "#fdca26"
             ],
             [
              1,
              "#f0f921"
             ]
            ],
            "type": "heatmapgl"
           }
          ],
          "histogram": [
           {
            "marker": {
             "pattern": {
              "fillmode": "overlay",
              "size": 10,
              "solidity": 0.2
             }
            },
            "type": "histogram"
           }
          ],
          "histogram2d": [
           {
            "colorbar": {
             "outlinewidth": 0,
             "ticks": ""
            },
            "colorscale": [
             [
              0,
              "#0d0887"
             ],
             [
              0.1111111111111111,
              "#46039f"
             ],
             [
              0.2222222222222222,
              "#7201a8"
             ],
             [
              0.3333333333333333,
              "#9c179e"
             ],
             [
              0.4444444444444444,
              "#bd3786"
             ],
             [
              0.5555555555555556,
              "#d8576b"
             ],
             [
              0.6666666666666666,
              "#ed7953"
             ],
             [
              0.7777777777777778,
              "#fb9f3a"
             ],
             [
              0.8888888888888888,
              "#fdca26"
             ],
             [
              1,
              "#f0f921"
             ]
            ],
            "type": "histogram2d"
           }
          ],
          "histogram2dcontour": [
           {
            "colorbar": {
             "outlinewidth": 0,
             "ticks": ""
            },
            "colorscale": [
             [
              0,
              "#0d0887"
             ],
             [
              0.1111111111111111,
              "#46039f"
             ],
             [
              0.2222222222222222,
              "#7201a8"
             ],
             [
              0.3333333333333333,
              "#9c179e"
             ],
             [
              0.4444444444444444,
              "#bd3786"
             ],
             [
              0.5555555555555556,
              "#d8576b"
             ],
             [
              0.6666666666666666,
              "#ed7953"
             ],
             [
              0.7777777777777778,
              "#fb9f3a"
             ],
             [
              0.8888888888888888,
              "#fdca26"
             ],
             [
              1,
              "#f0f921"
             ]
            ],
            "type": "histogram2dcontour"
           }
          ],
          "mesh3d": [
           {
            "colorbar": {
             "outlinewidth": 0,
             "ticks": ""
            },
            "type": "mesh3d"
           }
          ],
          "parcoords": [
           {
            "line": {
             "colorbar": {
              "outlinewidth": 0,
              "ticks": ""
             }
            },
            "type": "parcoords"
           }
          ],
          "pie": [
           {
            "automargin": true,
            "type": "pie"
           }
          ],
          "scatter": [
           {
            "marker": {
             "colorbar": {
              "outlinewidth": 0,
              "ticks": ""
             }
            },
            "type": "scatter"
           }
          ],
          "scatter3d": [
           {
            "line": {
             "colorbar": {
              "outlinewidth": 0,
              "ticks": ""
             }
            },
            "marker": {
             "colorbar": {
              "outlinewidth": 0,
              "ticks": ""
             }
            },
            "type": "scatter3d"
           }
          ],
          "scattercarpet": [
           {
            "marker": {
             "colorbar": {
              "outlinewidth": 0,
              "ticks": ""
             }
            },
            "type": "scattercarpet"
           }
          ],
          "scattergeo": [
           {
            "marker": {
             "colorbar": {
              "outlinewidth": 0,
              "ticks": ""
             }
            },
            "type": "scattergeo"
           }
          ],
          "scattergl": [
           {
            "marker": {
             "colorbar": {
              "outlinewidth": 0,
              "ticks": ""
             }
            },
            "type": "scattergl"
           }
          ],
          "scattermapbox": [
           {
            "marker": {
             "colorbar": {
              "outlinewidth": 0,
              "ticks": ""
             }
            },
            "type": "scattermapbox"
           }
          ],
          "scatterpolar": [
           {
            "marker": {
             "colorbar": {
              "outlinewidth": 0,
              "ticks": ""
             }
            },
            "type": "scatterpolar"
           }
          ],
          "scatterpolargl": [
           {
            "marker": {
             "colorbar": {
              "outlinewidth": 0,
              "ticks": ""
             }
            },
            "type": "scatterpolargl"
           }
          ],
          "scatterternary": [
           {
            "marker": {
             "colorbar": {
              "outlinewidth": 0,
              "ticks": ""
             }
            },
            "type": "scatterternary"
           }
          ],
          "surface": [
           {
            "colorbar": {
             "outlinewidth": 0,
             "ticks": ""
            },
            "colorscale": [
             [
              0,
              "#0d0887"
             ],
             [
              0.1111111111111111,
              "#46039f"
             ],
             [
              0.2222222222222222,
              "#7201a8"
             ],
             [
              0.3333333333333333,
              "#9c179e"
             ],
             [
              0.4444444444444444,
              "#bd3786"
             ],
             [
              0.5555555555555556,
              "#d8576b"
             ],
             [
              0.6666666666666666,
              "#ed7953"
             ],
             [
              0.7777777777777778,
              "#fb9f3a"
             ],
             [
              0.8888888888888888,
              "#fdca26"
             ],
             [
              1,
              "#f0f921"
             ]
            ],
            "type": "surface"
           }
          ],
          "table": [
           {
            "cells": {
             "fill": {
              "color": "#EBF0F8"
             },
             "line": {
              "color": "white"
             }
            },
            "header": {
             "fill": {
              "color": "#C8D4E3"
             },
             "line": {
              "color": "white"
             }
            },
            "type": "table"
           }
          ]
         },
         "layout": {
          "annotationdefaults": {
           "arrowcolor": "#2a3f5f",
           "arrowhead": 0,
           "arrowwidth": 1
          },
          "autotypenumbers": "strict",
          "coloraxis": {
           "colorbar": {
            "outlinewidth": 0,
            "ticks": ""
           }
          },
          "colorscale": {
           "diverging": [
            [
             0,
             "#8e0152"
            ],
            [
             0.1,
             "#c51b7d"
            ],
            [
             0.2,
             "#de77ae"
            ],
            [
             0.3,
             "#f1b6da"
            ],
            [
             0.4,
             "#fde0ef"
            ],
            [
             0.5,
             "#f7f7f7"
            ],
            [
             0.6,
             "#e6f5d0"
            ],
            [
             0.7,
             "#b8e186"
            ],
            [
             0.8,
             "#7fbc41"
            ],
            [
             0.9,
             "#4d9221"
            ],
            [
             1,
             "#276419"
            ]
           ],
           "sequential": [
            [
             0,
             "#0d0887"
            ],
            [
             0.1111111111111111,
             "#46039f"
            ],
            [
             0.2222222222222222,
             "#7201a8"
            ],
            [
             0.3333333333333333,
             "#9c179e"
            ],
            [
             0.4444444444444444,
             "#bd3786"
            ],
            [
             0.5555555555555556,
             "#d8576b"
            ],
            [
             0.6666666666666666,
             "#ed7953"
            ],
            [
             0.7777777777777778,
             "#fb9f3a"
            ],
            [
             0.8888888888888888,
             "#fdca26"
            ],
            [
             1,
             "#f0f921"
            ]
           ],
           "sequentialminus": [
            [
             0,
             "#0d0887"
            ],
            [
             0.1111111111111111,
             "#46039f"
            ],
            [
             0.2222222222222222,
             "#7201a8"
            ],
            [
             0.3333333333333333,
             "#9c179e"
            ],
            [
             0.4444444444444444,
             "#bd3786"
            ],
            [
             0.5555555555555556,
             "#d8576b"
            ],
            [
             0.6666666666666666,
             "#ed7953"
            ],
            [
             0.7777777777777778,
             "#fb9f3a"
            ],
            [
             0.8888888888888888,
             "#fdca26"
            ],
            [
             1,
             "#f0f921"
            ]
           ]
          },
          "colorway": [
           "#636efa",
           "#EF553B",
           "#00cc96",
           "#ab63fa",
           "#FFA15A",
           "#19d3f3",
           "#FF6692",
           "#B6E880",
           "#FF97FF",
           "#FECB52"
          ],
          "font": {
           "color": "#2a3f5f"
          },
          "geo": {
           "bgcolor": "white",
           "lakecolor": "white",
           "landcolor": "#E5ECF6",
           "showlakes": true,
           "showland": true,
           "subunitcolor": "white"
          },
          "hoverlabel": {
           "align": "left"
          },
          "hovermode": "closest",
          "mapbox": {
           "style": "light"
          },
          "paper_bgcolor": "white",
          "plot_bgcolor": "#E5ECF6",
          "polar": {
           "angularaxis": {
            "gridcolor": "white",
            "linecolor": "white",
            "ticks": ""
           },
           "bgcolor": "#E5ECF6",
           "radialaxis": {
            "gridcolor": "white",
            "linecolor": "white",
            "ticks": ""
           }
          },
          "scene": {
           "xaxis": {
            "backgroundcolor": "#E5ECF6",
            "gridcolor": "white",
            "gridwidth": 2,
            "linecolor": "white",
            "showbackground": true,
            "ticks": "",
            "zerolinecolor": "white"
           },
           "yaxis": {
            "backgroundcolor": "#E5ECF6",
            "gridcolor": "white",
            "gridwidth": 2,
            "linecolor": "white",
            "showbackground": true,
            "ticks": "",
            "zerolinecolor": "white"
           },
           "zaxis": {
            "backgroundcolor": "#E5ECF6",
            "gridcolor": "white",
            "gridwidth": 2,
            "linecolor": "white",
            "showbackground": true,
            "ticks": "",
            "zerolinecolor": "white"
           }
          },
          "shapedefaults": {
           "line": {
            "color": "#2a3f5f"
           }
          },
          "ternary": {
           "aaxis": {
            "gridcolor": "white",
            "linecolor": "white",
            "ticks": ""
           },
           "baxis": {
            "gridcolor": "white",
            "linecolor": "white",
            "ticks": ""
           },
           "bgcolor": "#E5ECF6",
           "caxis": {
            "gridcolor": "white",
            "linecolor": "white",
            "ticks": ""
           }
          },
          "title": {
           "x": 0.05
          },
          "xaxis": {
           "automargin": true,
           "gridcolor": "white",
           "linecolor": "white",
           "ticks": "",
           "title": {
            "standoff": 15
           },
           "zerolinecolor": "white",
           "zerolinewidth": 2
          },
          "yaxis": {
           "automargin": true,
           "gridcolor": "white",
           "linecolor": "white",
           "ticks": "",
           "title": {
            "standoff": 15
           },
           "zerolinecolor": "white",
           "zerolinewidth": 2
          }
         }
        },
        "title": {
         "text": "indicators"
        },
        "xaxis": {
         "title": {
          "text": "Time"
         }
        },
        "yaxis": {
         "title": {
          "text": "kdj/rsi"
         }
        }
       }
      }
     },
     "metadata": {},
     "output_type": "display_data"
    }
   ],
   "source": [
    "import plotly.graph_objs as go\n",
    "\n",
    "\n",
    "trace1 = go.Scatter(\n",
    "    x=data.index,\n",
    "    y=kdj,\n",
    "    mode='lines',\n",
    "    name='KDJ K Line'\n",
    ")\n",
    "\n",
    "trace2 = go.Scatter(\n",
    "    x=data.index,\n",
    "    y=kdjd,\n",
    "    mode='lines',\n",
    "    name='KDJ D Line'\n",
    ")\n",
    "\n",
    "trace3 = go.Scatter(\n",
    "    x=data.index,\n",
    "    y=rsi1,\n",
    "    mode='lines',\n",
    "    name='RSI1 Line'\n",
    ")\n",
    "\n",
    "layout = go.Layout(\n",
    "    title='indicators',\n",
    "    xaxis={'title': \"Time\"},\n",
    "    yaxis={'title': \"kdj/rsi\"}\n",
    ")\n",
    "\n",
    "fig = go.Figure(data=[trace1, trace2], layout=layout)\n",
    "fig.show()"
   ]
  }
 ],
 "metadata": {
  "kernelspec": {
   "display_name": "Python 3.9.6 64-bit",
   "language": "python",
   "name": "python3"
  },
  "language_info": {
   "codemirror_mode": {
    "name": "ipython",
    "version": 3
   },
   "file_extension": ".py",
   "mimetype": "text/x-python",
   "name": "python",
   "nbconvert_exporter": "python",
   "pygments_lexer": "ipython3",
   "version": "3.9.6"
  },
  "orig_nbformat": 4,
  "vscode": {
   "interpreter": {
    "hash": "aee8b7b246df8f9039afb4144a1f6fd8d2ca17a180786b69acc140d282b71a49"
   }
  }
 },
 "nbformat": 4,
 "nbformat_minor": 2
}
