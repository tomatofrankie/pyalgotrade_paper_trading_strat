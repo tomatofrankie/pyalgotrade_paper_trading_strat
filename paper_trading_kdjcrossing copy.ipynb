{
 "cells": [
  {
   "cell_type": "code",
   "execution_count": 2,
   "metadata": {},
   "outputs": [
    {
     "name": "stdout",
     "output_type": "stream",
     "text": [
      "[*********************100%***********************]  1 of 1 completed\n",
      "                           Open        High         Low       Close  \\\n",
      "Date Time                                                             \n",
      "2022-09-30 09:30:00  266.144989  266.191986  263.630005  265.500000   \n",
      "2022-09-30 09:32:00  265.440796  267.799988  264.890991  267.725006   \n",
      "2022-09-30 09:34:00  267.790009  268.859985  267.649506  268.160004   \n",
      "2022-09-30 09:36:00  268.000000  268.070099  263.329987  263.433014   \n",
      "2022-09-30 09:38:00  262.750000  264.570007  262.470001  264.570007   \n",
      "...                         ...         ...         ...         ...   \n",
      "2022-09-30 15:52:00  266.170013  266.239990  265.589996  265.859985   \n",
      "2022-09-30 15:54:00  265.813995  266.000000  265.570007  265.600006   \n",
      "2022-09-30 15:56:00  265.600006  265.640015  265.130005  265.299988   \n",
      "2022-09-30 15:58:00  265.286285  265.649994  265.000000  265.200012   \n",
      "2022-09-30 16:00:00  265.250000  265.250000  265.250000  265.250000   \n",
      "\n",
      "                      Adj Close   Volume  \n",
      "Date Time                                 \n",
      "2022-09-30 09:30:00  265.500000  3284288  \n",
      "2022-09-30 09:32:00  267.725006   762484  \n",
      "2022-09-30 09:34:00  268.160004  1053205  \n",
      "2022-09-30 09:36:00  263.433014   917870  \n",
      "2022-09-30 09:38:00  264.570007  1140007  \n",
      "...                         ...      ...  \n",
      "2022-09-30 15:52:00  265.859985   507135  \n",
      "2022-09-30 15:54:00  265.600006   495114  \n",
      "2022-09-30 15:56:00  265.299988   672880  \n",
      "2022-09-30 15:58:00  265.200012  1421924  \n",
      "2022-09-30 16:00:00  265.250000        0  \n",
      "\n",
      "[196 rows x 6 columns]\n",
      "[*********************100%***********************]  1 of 1 completed\n",
      "                           Open        High         Low       Close  \\\n",
      "Date Time                                                             \n",
      "2022-09-30 09:30:00  266.144989  266.191986  263.630005  265.299988   \n",
      "2022-09-30 09:31:00  265.345001  265.570007  264.720001  265.500000   \n",
      "2022-09-30 09:32:00  265.440796  266.429993  264.890991  265.100006   \n",
      "2022-09-30 09:33:00  266.369995  267.799988  266.000092  267.725006   \n",
      "2022-09-30 09:34:00  267.790009  268.859985  267.649506  268.829987   \n",
      "...                         ...         ...         ...         ...   \n",
      "2022-09-30 15:56:00  265.600006  265.640015  265.309998  265.339996   \n",
      "2022-09-30 15:57:00  265.339996  265.500000  265.130005  265.299988   \n",
      "2022-09-30 15:58:00  265.286285  265.380005  265.040009  265.100006   \n",
      "2022-09-30 15:59:00  265.089996  265.649994  265.000000  265.200012   \n",
      "2022-09-30 16:00:00  265.250000  265.250000  265.250000  265.250000   \n",
      "\n",
      "                      Adj Close   Volume  \n",
      "Date Time                                 \n",
      "2022-09-30 09:30:00  265.299988  2884368  \n",
      "2022-09-30 09:31:00  265.500000   399920  \n",
      "2022-09-30 09:32:00  265.100006   365529  \n",
      "2022-09-30 09:33:00  267.725006   396955  \n",
      "2022-09-30 09:34:00  268.829987   578106  \n",
      "...                         ...      ...  \n",
      "2022-09-30 15:56:00  265.339996   316136  \n",
      "2022-09-30 15:57:00  265.299988   356744  \n",
      "2022-09-30 15:58:00  265.100006   480314  \n",
      "2022-09-30 15:59:00  265.200012   941610  \n",
      "2022-09-30 16:00:00  265.250000        0  \n",
      "\n",
      "[391 rows x 6 columns]\n",
      "[*********************100%***********************]  1 of 1 completed\n",
      "                           Open        High         Low       Close  \\\n",
      "Date Time                                                             \n",
      "2022-09-30 09:30:00  266.144989  266.191986  263.630005  265.500000   \n",
      "2022-09-30 09:32:00  265.440796  267.799988  264.890991  267.725006   \n",
      "2022-09-30 09:34:00  267.790009  268.859985  267.649506  268.160004   \n",
      "2022-09-30 09:36:00  268.000000  268.070099  263.329987  263.433014   \n",
      "2022-09-30 09:38:00  262.750000  264.570007  262.470001  264.570007   \n",
      "...                         ...         ...         ...         ...   \n",
      "2022-09-30 15:52:00  266.170013  266.239990  265.589996  265.859985   \n",
      "2022-09-30 15:54:00  265.813995  266.000000  265.570007  265.600006   \n",
      "2022-09-30 15:56:00  265.600006  265.640015  265.130005  265.299988   \n",
      "2022-09-30 15:58:00  265.286285  265.649994  265.000000  265.200012   \n",
      "2022-09-30 16:00:00  265.250000  265.250000  265.250000  265.250000   \n",
      "\n",
      "                      Adj Close   Volume  \n",
      "Date Time                                 \n",
      "2022-09-30 09:30:00  265.500000  3284288  \n",
      "2022-09-30 09:32:00  267.725006   762484  \n",
      "2022-09-30 09:34:00  268.160004  1053205  \n",
      "2022-09-30 09:36:00  263.433014   917870  \n",
      "2022-09-30 09:38:00  264.570007  1140007  \n",
      "...                         ...      ...  \n",
      "2022-09-30 15:52:00  265.859985   507135  \n",
      "2022-09-30 15:54:00  265.600006   495114  \n",
      "2022-09-30 15:56:00  265.299988   672880  \n",
      "2022-09-30 15:58:00  265.200012  1421924  \n",
      "2022-09-30 16:00:00  265.250000        0  \n",
      "\n",
      "[196 rows x 6 columns]\n"
     ]
    }
   ],
   "source": [
    "# Interval = min K\n",
    "\n",
    " # !python -m \"pyalgotrade.tools.quandl\" --source-code=\"WIKI\" --table-code=\"aapl\" --from-year=2000 --to-year=2000 --storage=. --force-download --frequency=daily\n",
    "import yfinance as yf\n",
    "from datetime import datetime\n",
    "import pandas as pd\n",
    "\n",
    "# ticker = '^gspc'\n",
    "ticker = 'tsla'\n",
    "\n",
    "start_date = datetime(2022, 9, 30,21)\n",
    "end_date = datetime(2022, 10, 1,16)\n",
    "data = yf.download(ticker, interval = '2m', start = start_date ,end = end_date, auto_adjust = False)\n",
    "data.index.name = 'Date Time'\n",
    "data.index = pd.to_datetime(data.index, format = '%m/%d/%Y').strftime('%Y-%m-%d %H:%M:%S')\n",
    "data.to_csv('data.csv')\n",
    "print(data)\n",
    "\n",
    "# start_date = datetime(2022, 9, 26)\n",
    "# end_date = datetime(2022, 9, 27)\n",
    "interval1 = '1m'\n",
    "interval2 = '2m'\n",
    "data1 = yf.download(ticker, interval = interval1, start = start_date ,end = end_date, auto_adjust = False)\n",
    "data1.index.name = 'Date Time'\n",
    "data1.index = pd.to_datetime(data1.index, format = '%m/%d/%Y').strftime('%Y-%m-%d %H:%M:%S')\n",
    "data1.to_csv('data' + interval1 + '.csv')\n",
    "print(data1)\n",
    "\n",
    "data2 = yf.download(ticker, interval = interval2, start = start_date ,end = end_date, auto_adjust = False)\n",
    "data2.index.name = 'Date Time'\n",
    "data2.index = pd.to_datetime(data2.index, format = '%m/%d/%Y').strftime('%Y-%m-%d %H:%M:%S')\n",
    "data2.to_csv('data' + interval2 + '.csv')\n",
    "print(data2)"
   ]
  },
  {
   "cell_type": "code",
   "execution_count": 4,
   "metadata": {},
   "outputs": [
    {
     "name": "stderr",
     "output_type": "stream",
     "text": [
      "2022-09-30 10:00:00 strategy [INFO] BUY at $268.96 64.49 83.16 -10\n",
      "2022-09-30 10:04:00 strategy [INFO] SELL at $269.28 55.83 54.9 0\n",
      "2022-09-30 10:04:00 strategy [INFO] BUY at $269.28 55.83 54.9 10\n",
      "2022-09-30 10:08:00 strategy [INFO] SELL at $268.63 27.15 47.0 0\n",
      "2022-09-30 10:08:00 strategy [INFO] BUY at $268.63 27.15 47.0 -10\n",
      "2022-09-30 10:10:00 strategy [INFO] SELL at $269.92 58.54 47.9 0\n",
      "2022-09-30 10:10:00 strategy [INFO] BUY at $269.92 58.54 47.9 10\n",
      "2022-09-30 10:14:00 strategy [INFO] SELL at $270.07 60.29 69.73 0\n",
      "2022-09-30 10:14:00 strategy [INFO] BUY at $270.07 60.29 69.73 -10\n",
      "2022-09-30 10:20:00 strategy [INFO] SELL at $270.22 64.97 54.7 0\n",
      "2022-09-30 10:20:00 strategy [INFO] BUY at $270.22 64.97 54.7 10\n",
      "2022-09-30 10:22:00 strategy [INFO] SELL at $269.65 40.94 49.16 0\n",
      "2022-09-30 10:22:00 strategy [INFO] BUY at $269.65 40.94 49.16 -10\n",
      "2022-09-30 10:24:00 strategy [INFO] SELL at $270.20 56.82 54.24 0\n",
      "2022-09-30 10:24:00 strategy [INFO] BUY at $270.20 56.82 54.24 10\n",
      "2022-09-30 10:28:00 strategy [INFO] SELL at $270.75 42.31 60.82 0\n",
      "2022-09-30 10:28:00 strategy [INFO] BUY at $270.75 42.31 60.82 -10\n",
      "2022-09-30 10:30:00 strategy [INFO] SELL at $271.39 80.4 68.68 0\n",
      "2022-09-30 10:30:00 strategy [INFO] BUY at $271.39 80.4 68.68 10\n",
      "2022-09-30 10:36:00 strategy [INFO] SELL at $272.79 89.06 91.44 0\n",
      "2022-09-30 10:36:00 strategy [INFO] BUY at $272.79 89.06 91.44 -10\n",
      "2022-09-30 10:38:00 strategy [INFO] SELL at $273.51 94.79 94.31 0\n",
      "2022-09-30 10:38:00 strategy [INFO] BUY at $273.51 94.79 94.31 10\n",
      "2022-09-30 10:40:00 strategy [INFO] SELL at $273.10 84.91 89.58 0\n",
      "2022-09-30 10:40:00 strategy [INFO] BUY at $273.10 84.91 89.58 -10\n",
      "2022-09-30 10:54:00 strategy [INFO] SELL at $272.52 45.04 31.06 0\n",
      "2022-09-30 10:54:00 strategy [INFO] BUY at $272.52 45.04 31.06 10\n",
      "2022-09-30 10:58:00 strategy [INFO] SELL at $272.02 34.34 37.85 0\n",
      "2022-09-30 10:58:00 strategy [INFO] BUY at $272.02 34.34 37.85 -10\n",
      "2022-09-30 11:00:00 strategy [INFO] SELL at $272.57 79.3 49.27 0\n",
      "2022-09-30 11:00:00 strategy [INFO] BUY at $272.57 79.3 49.27 10\n",
      "2022-09-30 11:12:00 strategy [INFO] SELL at $274.55 85.8 92.83 0\n",
      "2022-09-30 11:12:00 strategy [INFO] BUY at $274.55 85.8 92.83 -10\n",
      "2022-09-30 11:16:00 strategy [INFO] SELL at $275.25 91.06 85.16 0\n",
      "2022-09-30 11:16:00 strategy [INFO] BUY at $275.25 91.06 85.16 10\n",
      "2022-09-30 11:18:00 strategy [INFO] SELL at $274.54 70.99 80.23 0\n",
      "2022-09-30 11:18:00 strategy [INFO] BUY at $274.54 70.99 80.23 -10\n",
      "2022-09-30 11:28:00 strategy [INFO] SELL at $274.81 57.67 37.39 0\n",
      "2022-09-30 11:28:00 strategy [INFO] BUY at $274.81 57.67 37.39 10\n",
      "2022-09-30 11:30:00 strategy [INFO] SELL at $274.43 38.1 41.09 0\n",
      "2022-09-30 11:30:00 strategy [INFO] BUY at $274.43 38.1 41.09 -10\n",
      "2022-09-30 11:40:00 strategy [INFO] SELL at $272.33 9.17 4.62 0\n",
      "2022-09-30 11:40:00 strategy [INFO] BUY at $272.33 9.17 4.62 10\n",
      "2022-09-30 11:42:00 strategy [INFO] SELL at $271.36 1.11 4.26 0\n",
      "2022-09-30 11:42:00 strategy [INFO] BUY at $271.36 1.11 4.26 -10\n",
      "2022-09-30 11:46:00 strategy [INFO] SELL at $271.46 4.49 2.95 0\n",
      "2022-09-30 11:46:00 strategy [INFO] BUY at $271.46 4.49 2.95 10\n",
      "2022-09-30 11:50:00 strategy [INFO] SELL at $271.12 2.56 6.11 0\n",
      "2022-09-30 11:50:00 strategy [INFO] BUY at $271.12 2.56 6.11 -10\n",
      "2022-09-30 11:56:00 strategy [INFO] SELL at $270.31 4.73 1.92 0\n",
      "2022-09-30 11:56:00 strategy [INFO] BUY at $270.31 4.73 1.92 10\n",
      "2022-09-30 12:02:00 strategy [INFO] SELL at $269.13 0.2 14.45 0\n",
      "2022-09-30 12:02:00 strategy [INFO] BUY at $269.13 0.2 14.45 -10\n",
      "2022-09-30 12:04:00 strategy [INFO] SELL at $269.79 22.71 16.63 0\n",
      "2022-09-30 12:04:00 strategy [INFO] BUY at $269.79 22.71 16.63 10\n",
      "2022-09-30 12:18:00 strategy [INFO] SELL at $271.30 87.64 94.85 0\n",
      "2022-09-30 12:18:00 strategy [INFO] BUY at $271.30 87.64 94.85 -10\n",
      "2022-09-30 12:26:00 strategy [INFO] SELL at $271.11 77.91 38.84 0\n",
      "2022-09-30 12:26:00 strategy [INFO] BUY at $271.11 77.91 38.84 10\n",
      "2022-09-30 12:30:00 strategy [INFO] SELL at $270.83 67.91 71.63 0\n",
      "2022-09-30 12:30:00 strategy [INFO] BUY at $270.83 67.91 71.63 -10\n",
      "2022-09-30 12:36:00 strategy [INFO] SELL at $271.10 80.97 64.66 0\n",
      "2022-09-30 12:36:00 strategy [INFO] BUY at $271.10 80.97 64.66 10\n",
      "2022-09-30 12:42:00 strategy [INFO] SELL at $272.13 86.1 87.52 0\n",
      "2022-09-30 12:42:00 strategy [INFO] BUY at $272.13 86.1 87.52 -10\n",
      "2022-09-30 12:44:00 strategy [INFO] SELL at $272.13 91.48 89.61 0\n",
      "2022-09-30 12:44:00 strategy [INFO] BUY at $272.13 91.48 89.61 10\n",
      "2022-09-30 12:46:00 strategy [INFO] SELL at $271.79 66.92 81.5 0\n",
      "2022-09-30 12:46:00 strategy [INFO] BUY at $271.79 66.92 81.5 -10\n",
      "2022-09-30 12:50:00 strategy [INFO] SELL at $271.97 72.06 71.44 0\n",
      "2022-09-30 12:50:00 strategy [INFO] BUY at $271.97 72.06 71.44 10\n",
      "2022-09-30 12:52:00 strategy [INFO] SELL at $271.88 67.73 71.71 0\n",
      "2022-09-30 12:52:00 strategy [INFO] BUY at $271.88 67.73 71.71 -10\n",
      "2022-09-30 13:00:00 strategy [INFO] SELL at $270.92 36.12 16.35 0\n",
      "2022-09-30 13:00:00 strategy [INFO] BUY at $270.92 36.12 16.35 10\n",
      "2022-09-30 13:02:00 strategy [INFO] SELL at $270.52 4.11 16.04 0\n",
      "2022-09-30 13:02:00 strategy [INFO] BUY at $270.52 4.11 16.04 -10\n",
      "2022-09-30 13:06:00 strategy [INFO] SELL at $270.79 18.91 8.97 0\n",
      "2022-09-30 13:06:00 strategy [INFO] BUY at $270.79 18.91 8.97 10\n",
      "2022-09-30 13:14:00 strategy [INFO] SELL at $270.50 12.21 42.53 0\n",
      "2022-09-30 13:14:00 strategy [INFO] BUY at $270.50 12.21 42.53 -10\n",
      "2022-09-30 13:16:00 strategy [INFO] SELL at $270.88 50.38 44.06 0\n",
      "2022-09-30 13:16:00 strategy [INFO] BUY at $270.88 50.38 44.06 10\n",
      "2022-09-30 13:18:00 strategy [INFO] SELL at $269.98 20.91 27.83 0\n",
      "2022-09-30 13:18:00 strategy [INFO] BUY at $269.98 20.91 27.83 -10\n",
      "2022-09-30 13:22:00 strategy [INFO] SELL at $270.39 44.08 29.14 0\n",
      "2022-09-30 13:22:00 strategy [INFO] BUY at $270.39 44.08 29.14 10\n",
      "2022-09-30 13:24:00 strategy [INFO] SELL at $270.18 30.98 32.49 0\n",
      "2022-09-30 13:24:00 strategy [INFO] BUY at $270.18 30.98 32.49 -10\n",
      "2022-09-30 13:28:00 strategy [INFO] SELL at $270.60 52.19 30.79 0\n",
      "2022-09-30 13:28:00 strategy [INFO] BUY at $270.60 52.19 30.79 10\n",
      "2022-09-30 13:34:00 strategy [INFO] SELL at $269.72 24.53 48.34 0\n",
      "2022-09-30 13:34:00 strategy [INFO] BUY at $269.72 24.53 48.34 -10\n",
      "2022-09-30 13:40:00 strategy [INFO] SELL at $268.53 11.23 6.76 0\n",
      "2022-09-30 13:40:00 strategy [INFO] BUY at $268.53 11.23 6.76 10\n",
      "2022-09-30 13:42:00 strategy [INFO] SELL at $267.95 2.36 5.56 0\n",
      "2022-09-30 13:42:00 strategy [INFO] BUY at $267.95 2.36 5.56 -10\n",
      "2022-09-30 13:52:00 strategy [INFO] SELL at $267.79 31.25 11.12 0\n",
      "2022-09-30 13:52:00 strategy [INFO] BUY at $267.79 31.25 11.12 10\n",
      "2022-09-30 13:58:00 strategy [INFO] SELL at $267.82 55.2 60.8 0\n",
      "2022-09-30 13:58:00 strategy [INFO] BUY at $267.82 55.2 60.8 -10\n",
      "2022-09-30 14:00:00 strategy [INFO] SELL at $267.55 72.58 63.22 0\n",
      "2022-09-30 14:00:00 strategy [INFO] BUY at $267.55 72.58 63.22 10\n",
      "2022-09-30 14:04:00 strategy [INFO] SELL at $267.49 37.63 58.46 0\n",
      "2022-09-30 14:04:00 strategy [INFO] BUY at $267.49 37.63 58.46 -10\n",
      "2022-09-30 14:08:00 strategy [INFO] SELL at $267.86 54.53 41.05 0\n",
      "2022-09-30 14:08:00 strategy [INFO] BUY at $267.86 54.53 41.05 10\n",
      "2022-09-30 14:16:00 strategy [INFO] SELL at $268.46 71.16 81.28 0\n",
      "2022-09-30 14:16:00 strategy [INFO] BUY at $268.46 71.16 81.28 -10\n",
      "2022-09-30 14:18:00 strategy [INFO] SELL at $268.60 79.56 77.14 0\n",
      "2022-09-30 14:18:00 strategy [INFO] BUY at $268.60 79.56 77.14 10\n",
      "2022-09-30 14:20:00 strategy [INFO] SELL at $268.10 54.1 68.27 0\n",
      "2022-09-30 14:20:00 strategy [INFO] BUY at $268.10 54.1 68.27 -10\n",
      "2022-09-30 14:24:00 strategy [INFO] SELL at $268.08 50.71 48.2 0\n",
      "2022-09-30 14:24:00 strategy [INFO] BUY at $268.08 50.71 48.2 10\n",
      "2022-09-30 14:26:00 strategy [INFO] SELL at $267.77 15.5 35.33 0\n",
      "2022-09-30 14:26:00 strategy [INFO] BUY at $267.77 15.5 35.33 -10\n",
      "2022-09-30 14:30:00 strategy [INFO] SELL at $267.89 34.16 20.03 0\n",
      "2022-09-30 14:30:00 strategy [INFO] BUY at $267.89 34.16 20.03 10\n",
      "2022-09-30 14:34:00 strategy [INFO] SELL at $268.05 35.46 44.72 0\n",
      "2022-09-30 14:34:00 strategy [INFO] BUY at $268.05 35.46 44.72 -10\n",
      "2022-09-30 14:40:00 strategy [INFO] SELL at $267.72 31.92 28.81 0\n",
      "2022-09-30 14:40:00 strategy [INFO] BUY at $267.72 31.92 28.81 10\n",
      "2022-09-30 14:42:00 strategy [INFO] SELL at $267.32 4.6 15.31 0\n",
      "2022-09-30 14:42:00 strategy [INFO] BUY at $267.32 4.6 15.31 -10\n",
      "2022-09-30 14:46:00 strategy [INFO] SELL at $266.71 6.3 3.8 0\n",
      "2022-09-30 14:46:00 strategy [INFO] BUY at $266.71 6.3 3.8 10\n",
      "2022-09-30 14:48:00 strategy [INFO] SELL at $266.24 0.41 2.4 0\n",
      "2022-09-30 14:48:00 strategy [INFO] BUY at $266.24 0.41 2.4 -10\n",
      "2022-09-30 14:50:00 strategy [INFO] SELL at $266.68 28.37 11.69 0\n",
      "2022-09-30 14:50:00 strategy [INFO] BUY at $266.68 28.37 11.69 10\n",
      "2022-09-30 14:56:00 strategy [INFO] SELL at $266.20 11.32 31.58 0\n",
      "2022-09-30 14:56:00 strategy [INFO] BUY at $266.20 11.32 31.58 -10\n",
      "2022-09-30 15:00:00 strategy [INFO] SELL at $266.56 37.06 19.61 0\n",
      "2022-09-30 15:00:00 strategy [INFO] BUY at $266.56 37.06 19.61 10\n",
      "2022-09-30 15:06:00 strategy [INFO] SELL at $268.53 81.59 87.52 0\n",
      "2022-09-30 15:06:00 strategy [INFO] BUY at $268.53 81.59 87.52 -10\n",
      "2022-09-30 15:18:00 strategy [INFO] SELL at $266.91 20.71 16.52 0\n",
      "2022-09-30 15:18:00 strategy [INFO] BUY at $266.91 20.71 16.52 10\n",
      "2022-09-30 15:22:00 strategy [INFO] SELL at $266.66 13.69 19.44 0\n",
      "2022-09-30 15:22:00 strategy [INFO] BUY at $266.66 13.69 19.44 -10\n",
      "2022-09-30 15:24:00 strategy [INFO] SELL at $267.22 37.34 24.99 0\n",
      "2022-09-30 15:24:00 strategy [INFO] BUY at $267.22 37.34 24.99 10\n",
      "2022-09-30 15:26:00 strategy [INFO] SELL at $266.69 22.04 24.36 0\n",
      "2022-09-30 15:26:00 strategy [INFO] BUY at $266.69 22.04 24.36 -10\n",
      "2022-09-30 15:30:00 strategy [INFO] SELL at $267.46 89.05 41.35 0\n",
      "2022-09-30 15:30:00 strategy [INFO] BUY at $267.46 89.05 41.35 10\n",
      "2022-09-30 15:34:00 strategy [INFO] SELL at $266.79 34.59 63.33 0\n",
      "2022-09-30 15:34:00 strategy [INFO] BUY at $266.79 34.59 63.33 -10\n",
      "2022-09-30 15:38:00 strategy [INFO] SELL at $266.92 42.14 35.85 0\n",
      "2022-09-30 15:38:00 strategy [INFO] BUY at $266.92 42.14 35.85 10\n",
      "2022-09-30 15:40:00 strategy [INFO] SELL at $266.56 21.07 31.34 0\n",
      "2022-09-30 15:40:00 strategy [INFO] BUY at $266.56 21.07 31.34 -10\n",
      "2022-09-30 15:42:00 strategy [INFO] SELL at $266.91 42.14 35.11 0\n",
      "2022-09-30 15:42:00 strategy [INFO] BUY at $266.91 42.14 35.11 10\n",
      "2022-09-30 15:46:00 strategy [INFO] SELL at $266.65 27.04 35.85 0\n",
      "2022-09-30 15:46:00 strategy [INFO] BUY at $266.65 27.04 35.85 -10\n",
      "2022-09-30 16:00:00 broker.backtesting [DEBUG] Not enough volume to fill tsla market order [158] for 10 share/s\n",
      "2022-09-30 16:00:00 broker.backtesting [DEBUG] Not enough volume to fill tsla market order [159] for 10 share/s\n"
     ]
    },
    {
     "name": "stdout",
     "output_type": "stream",
     "text": [
      "Final portfolio value: $99945.13\n"
     ]
    }
   ],
   "source": [
    "# Interval = 2 min K\n",
    "\n",
    "# from __future__ import print_function\n",
    "\n",
    "from pyalgotrade import strategy\n",
    "from pyalgotrade.barfeed import csvfeed\n",
    "from pyalgotrade.technical import ma\n",
    "from pyalgotrade.technical import rsi\n",
    "from pyalgotrade.technical import stoch\n",
    "from pyalgotrade.bar import Frequency\n",
    "\n",
    "\n",
    "number_of_shares = 10\n",
    "kdj = []\n",
    "kdjd = []\n",
    "rsi1 = []\n",
    "\n",
    "def safe_round(value, digits):\n",
    "    if value is not None:\n",
    "        value = round(value, digits)\n",
    "    return value\n",
    "\n",
    "class MyStrategy(strategy.BacktestingStrategy):\n",
    "    def __init__(self, feed, instrument, smaPeriod):\n",
    "        super(MyStrategy, self).__init__(feed, 100000) # initial equity\n",
    "        \n",
    "        # We'll use adjusted close values instead of regular close values.\n",
    "        # self.setUseAdjustedValues(True)\n",
    "        self.__sma = ma.SMA(feed[instrument].getCloseDataSeries(), smaPeriod)\n",
    "        self.__rsi = rsi.RSI(feed[instrument].getCloseDataSeries(), 6)\n",
    "        self.__kdj = stoch.StochasticOscillator(feed[instrument], period=9, dSMAPeriod=3)\n",
    "        self.D = self.__kdj.getD()\n",
    "        self.__position = None\n",
    "        self.__instrument = instrument\n",
    "\n",
    "    def onEnterOk(self, position):\n",
    "        global execInfo\n",
    "        execInfo = position.getEntryOrder().getExecutionInfo()\n",
    "        self.info(\"BUY at $%.2f %s %s %s\" % (execInfo.getPrice(),safe_round(self.__kdj[-2], 2),safe_round(self.D[-2], 2),self.__position.getShares()))\n",
    "        global buy, total_buy\n",
    "        buy = execInfo.getPrice() * number_of_shares\n",
    "        total_buy += buy\n",
    "\n",
    "    def onEnterCanceled(self, position):\n",
    "        self.__position = None\n",
    "\n",
    "    def onExitOk(self, position):\n",
    "        execInfo = position.getExitOrder().getExecutionInfo()\n",
    "        self.info(\"SELL at $%.2f %s %s %s\" % (execInfo.getPrice(),safe_round(self.__kdj[-2], 2),safe_round(self.D[-2], 2),self.__position.getShares()))\n",
    "        # self.__position = None\n",
    "        sell = execInfo.getPrice() * number_of_shares\n",
    "        global return_per_share, total_sell\n",
    "        total_sell += sell\n",
    "        return_per_share = total_sell - total_buy\n",
    "\n",
    "    def onExitCanceled(self, position):\n",
    "        # If the exit was canceled, re-submit it.\n",
    "        self.__position.exitMarket()\n",
    "\n",
    "    def onBars(self, bars):\n",
    "        # Wait for enough bars to be available to calculate a SMA.\n",
    "        if self.__sma[-1] is None:\n",
    "            return\n",
    "        \n",
    "        kdj.append(self.__kdj[-1])\n",
    "        kdjd.append(self.D[-1])\n",
    "        rsi1.append(self.__rsi[-1])\n",
    "        # for i in enumerate(self.__rsi):\n",
    "        #     print(i)\n",
    "        # ALL 30 70 (20)(14)\n",
    "        # if self.__position is None:\n",
    "        #     if safe_round(self.__kdj[-2], 2) < 30 and safe_round(self.__rsi[-2], 2) < 30 and \\\n",
    "        #         safe_round(self.__kdj[-1], 2) > safe_round(self.__kdj[-2], 2) and safe_round(self.__rsi[-1], 2) > safe_round(self.__rsi[-2], 2):\n",
    "        #         self.__position = self.enterLongStop(self.__instrument, stopPrice=execInfo.getPrice() * 0.995, quantity=number_of_shares, goodTillCanceled=True)\n",
    "        #     if safe_round(self.__kdj[-2], 2) > 70 and safe_round(self.__rsi[-2], 2) > 70 and \\\n",
    "        #         safe_round(self.__kdj[-1], 2) < safe_round(self.__kdj[-2], 2) and safe_round(self.__rsi[-1], 2) < safe_round(self.__rsi[-2], 2):\n",
    "        #         self.__position = self.enterShortStop(self.__instrument, stopPrice=execInfo.getPrice() * 1.005, quantity=number_of_shares, goodTillCanceled=True)\n",
    "        # else:\n",
    "        #     if safe_round(self.__kdj[-2], 2) > 70 and safe_round(self.__rsi[-2], 2) > 70 and \\\n",
    "        #         safe_round(self.__kdj[-1], 2) < safe_round(self.__kdj[-2], 2) and safe_round(self.__rsi[-1], 2) < safe_round(self.__rsi[-2], 2) and not self.__position.exitActive() and str(type(self.__position)) == \"<class 'pyalgotrade.strategy.position.LongPosition'>\":\n",
    "        #         self.__position.exitMarket()\n",
    "        #         self.__position = self.enterShortStop(self.__instrument, stopPrice=execInfo.getPrice() * 1.005, quantity=number_of_shares, goodTillCanceled=True)\n",
    "        #     if safe_round(self.__kdj[-2], 2) < 30 and safe_round(self.__rsi[-2], 2) < 30 and \\\n",
    "        #         safe_round(self.__kdj[-1], 2) > safe_round(self.__kdj[-2], 2) and safe_round(self.__rsi[-1], 2) > safe_round(self.__rsi[-2], 2) and not self.__position.exitActive() and str(type(self.__position)) == \"<class 'pyalgotrade.strategy.position.ShortPosition'>\":\n",
    "        #         self.__position.exitMarket()\n",
    "        #         self.__position = self.enterLongStop(self.__instrument, stopPrice=execInfo.getPrice() * 0.995, quantity=number_of_shares, goodTillCanceled=True)\n",
    "\n",
    "\n",
    "        # ALL 30 70 (13)(15)\n",
    "        # if self.__position is None:\n",
    "        #     if safe_round(self.__kdj[-2], 2) < 30 and safe_round(self.__rsi[-2], 2) < 30 and \\\n",
    "        #         safe_round(self.__kdj[-1], 2) < safe_round(self.__kdj[-2], 2) and safe_round(self.__rsi[-1], 2) < safe_round(self.__rsi[-2], 2):\n",
    "        #         self.__position = self.enterLong(self.__instrument, number_of_shares, True)\n",
    "        #     if safe_round(self.__kdj[-2], 2) > 70 and safe_round(self.__rsi[-2], 2) > 70 and \\\n",
    "        #         safe_round(self.__kdj[-1], 2) > safe_round(self.__kdj[-2], 2) and safe_round(self.__rsi[-1], 2) > safe_round(self.__rsi[-2], 2):\n",
    "        #         self.__position = self.enterShort(self.__instrument, number_of_shares, True)\n",
    "        # else:\n",
    "        #     if safe_round(self.__kdj[-2], 2) > 70 and safe_round(self.__rsi[-2], 2) > 70 and \\\n",
    "        #         safe_round(self.__kdj[-1], 2) > safe_round(self.__kdj[-2], 2) and safe_round(self.__rsi[-1], 2) > safe_round(self.__rsi[-2], 2) and not self.__position.exitActive() and str(type(self.__position)) == \"<class 'pyalgotrade.strategy.position.LongPosition'>\":\n",
    "        #         self.__position.exitMarket()\n",
    "        #         self.__position = self.enterShort(self.__instrument, number_of_shares, True)\n",
    "        #     if safe_round(self.__kdj[-2], 2) < 30 and safe_round(self.__rsi[-2], 2) < 30 and \\\n",
    "        #         safe_round(self.__kdj[-1], 2) < safe_round(self.__kdj[-2], 2) and safe_round(self.__rsi[-1], 2) < safe_round(self.__rsi[-2], 2) and not self.__position.exitActive() and str(type(self.__position)) == \"<class 'pyalgotrade.strategy.position.ShortPosition'>\":\n",
    "        #         self.__position.exitMarket()\n",
    "        #         self.__position = self.enterLong(self.__instrument, number_of_shares, True)\n",
    "\n",
    "        # ALL 20 80 (8.6)\n",
    "        # if self.__position is None:\n",
    "        #     if safe_round(self.__kdj[-2], 2) < 20 and safe_round(self.__rsi[-2], 2) < 20 and \\\n",
    "        #         safe_round(self.__kdj[-1], 2) > safe_round(self.__kdj[-2], 2) and safe_round(self.__rsi[-1], 2) > safe_round(self.__rsi[-2], 2):\n",
    "        #         self.__position = self.enterLong(self.__instrument, number_of_shares, True)\n",
    "        #     if safe_round(self.__kdj[-2], 2) > 80 and safe_round(self.__rsi[-2], 2) > 80 and \\\n",
    "        #         safe_round(self.__kdj[-1], 2) < safe_round(self.__kdj[-2], 2) and safe_round(self.__rsi[-1], 2) < safe_round(self.__rsi[-2], 2):\n",
    "        #         self.__position = self.enterShort(self.__instrument, number_of_shares, True)\n",
    "        # else:\n",
    "        #     if safe_round(self.__kdj[-2], 2) > 80 and safe_round(self.__rsi[-2], 2) > 80 and \\\n",
    "        #         safe_round(self.__kdj[-1], 2) < safe_round(self.__kdj[-2], 2) and safe_round(self.__rsi[-1], 2) < safe_round(self.__rsi[-2], 2) and not self.__position.exitActive() and str(type(self.__position)) == \"<class 'pyalgotrade.strategy.position.LongPosition'>\":\n",
    "        #         self.__position.exitMarket()\n",
    "        #         self.__position = self.enterShort(self.__instrument, number_of_shares, True)\n",
    "        #     if safe_round(self.__kdj[-2], 2) < 20 and safe_round(self.__rsi[-2], 2) < 20 and \\\n",
    "        #         safe_round(self.__kdj[-1], 2) > safe_round(self.__kdj[-2], 2) and safe_round(self.__rsi[-1], 2) > safe_round(self.__rsi[-2], 2) and not self.__position.exitActive() and str(type(self.__position)) == \"<class 'pyalgotrade.strategy.position.ShortPosition'>\":\n",
    "        #         self.__position.exitMarket()\n",
    "        #         self.__position = self.enterLong(self.__instrument, number_of_shares, True)\n",
    "\n",
    "        # ALL 20 80 \n",
    "        # if self.__position is None:\n",
    "        #     if safe_round(self.__kdj[-2], 2) < 20 and safe_round(self.__rsi[-2], 2) < 20 and \\\n",
    "        #         safe_round(self.__kdj[-1], 2) < safe_round(self.__kdj[-2], 2) and safe_round(self.__rsi[-1], 2) < safe_round(self.__rsi[-2], 2):\n",
    "        #         self.__position = self.enterLong(self.__instrument, number_of_shares, True)\n",
    "        #     if safe_round(self.__kdj[-2], 2) > 80 and safe_round(self.__rsi[-2], 2) > 80 and \\\n",
    "        #         safe_round(self.__kdj[-1], 2) > safe_round(self.__kdj[-2], 2) and safe_round(self.__rsi[-1], 2) > safe_round(self.__rsi[-2], 2):\n",
    "        #         self.__position = self.enterShort(self.__instrument, number_of_shares, True)\n",
    "        # else:\n",
    "        #     if safe_round(self.__kdj[-2], 2) > 80 and safe_round(self.__rsi[-2], 2) > 80 and \\\n",
    "        #         safe_round(self.__kdj[-1], 2) > safe_round(self.__kdj[-2], 2) and safe_round(self.__rsi[-1], 2) > safe_round(self.__rsi[-2], 2) and not self.__position.exitActive() and str(type(self.__position)) == \"<class 'pyalgotrade.strategy.position.LongPosition'>\":\n",
    "        #         self.__position.exitMarket()\n",
    "        #         self.__position = self.enterShort(self.__instrument, number_of_shares, True)\n",
    "        #     if safe_round(self.__kdj[-2], 2) < 20 and safe_round(self.__rsi[-2], 2) < 20 and \\\n",
    "        #         safe_round(self.__kdj[-1], 2) < safe_round(self.__kdj[-2], 2) and safe_round(self.__rsi[-1], 2) < safe_round(self.__rsi[-2], 2) and not self.__position.exitActive() and str(type(self.__position)) == \"<class 'pyalgotrade.strategy.position.ShortPosition'>\":\n",
    "        #         self.__position.exitMarket()\n",
    "        #         self.__position = self.enterLong(self.__instrument, number_of_shares, True)\n",
    "\n",
    "        # Just < 30 and > 70 (17)(15)\n",
    "        # if self.__position is None:\n",
    "        #     if safe_round(self.__kdj[-1], 2) < 30 and safe_round(self.__rsi[-1], 2) < 30:\n",
    "        #         self.__position = self.enterLong(self.__instrument, number_of_shares, True)\n",
    "        #     if safe_round(self.__kdj[-1], 2) > 70 and safe_round(self.__rsi[-1], 2) > 70:\n",
    "        #         self.__position = self.enterShort(self.__instrument, number_of_shares, True)\n",
    "        # else:\n",
    "        #     if safe_round(self.__kdj[-1], 2) > 70 and safe_round(self.__rsi[-1], 2) > 70 and not self.__position.exitActive() and str(type(self.__position)) == \"<class 'pyalgotrade.strategy.position.LongPosition'>\":\n",
    "        #         self.__position.exitMarket()\n",
    "        #         self.__position = self.enterShort(self.__instrument, number_of_shares, True)\n",
    "        #     if safe_round(self.__kdj[-1], 2) < 30 and safe_round(self.__rsi[-1], 2) < 30 and not self.__position.exitActive() and str(type(self.__position)) == \"<class 'pyalgotrade.strategy.position.ShortPosition'>\":\n",
    "        #         self.__position.exitMarket()\n",
    "        #         self.__position = self.enterLong(self.__instrument, number_of_shares, True)\n",
    "\n",
    "        # Just < 20 and > 80 (10)\n",
    "        # if self.__position is None:\n",
    "        #     if safe_round(self.__kdj[-1], 2) < 20 and safe_round(self.__rsi[-1], 2) < 20:\n",
    "        #         self.__position = self.enterLong(self.__instrument, number_of_shares, True)\n",
    "        #     if safe_round(self.__kdj[-1], 2) > 80 and safe_round(self.__rsi[-1], 2) > 80:\n",
    "        #         self.__position = self.enterShort(self.__instrument, number_of_shares, True)\n",
    "        # else:\n",
    "        #     if safe_round(self.__kdj[-1], 2) > 80 and safe_round(self.__rsi[-1], 2) > 80 and not self.__position.exitActive() and str(type(self.__position)) == \"<class 'pyalgotrade.strategy.position.LongPosition'>\":\n",
    "        #         self.__position.exitMarket()\n",
    "        #         self.__position = self.enterShort(self.__instrument, number_of_shares, True)\n",
    "        #     if safe_round(self.__kdj[-1], 2) < 20 and safe_round(self.__rsi[-1], 2) < 20 and not self.__position.exitActive() and str(type(self.__position)) == \"<class 'pyalgotrade.strategy.position.ShortPosition'>\":\n",
    "        #         self.__position.exitMarket()\n",
    "        #         self.__position = self.enterLong(self.__instrument, number_of_shares, True)\n",
    "\n",
    "        # KDJ cross (15.4)\n",
    "        # if self.__position is None:\n",
    "        #     # print(self.__kdj[-1],self.D[-1])\n",
    "        #     if safe_round(self.__kdj[-1],2) > safe_round(self.D[-1],2):\n",
    "        #         self.__position = self.enterLong(self.__instrument, number_of_shares, True)\n",
    "        #     if safe_round(self.__kdj[-1],2) < safe_round(self.D[-1],2):\n",
    "        #         self.__position = self.enterShort(self.__instrument, number_of_shares, True)\n",
    "        # else:\n",
    "        #     if safe_round(self.__kdj[-1],2) < safe_round(self.D[-1],2) and str(type(self.__position)) == \"<class 'pyalgotrade.strategy.position.LongPosition'>\" and not self.__position.exitActive():\n",
    "        #         self.__position.exitMarket()\n",
    "        #         self.__position = self.enterShort(self.__instrument, number_of_shares, True)\n",
    "        #     if safe_round(self.__kdj[-1],2) > safe_round(self.D[-1],2) and str(type(self.__position)) == \"<class 'pyalgotrade.strategy.position.ShortPosition'>\" and not self.__position.exitActive():\n",
    "        #         self.__position.exitMarket()\n",
    "        #         self.__position = self.enterLong(self.__instrument, number_of_shares, True)\n",
    "\n",
    "        if self.__position is None:\n",
    "            if safe_round(self.__kdj[-1],2) > safe_round(self.D[-1],2):\n",
    "                self.__position = self.enterLong(self.__instrument, number_of_shares, True)\n",
    "            if safe_round(self.__kdj[-1],2) < safe_round(self.D[-1],2):\n",
    "                self.__position = self.enterShort(self.__instrument, number_of_shares, True)\n",
    "        else:\n",
    "            if safe_round(self.__kdj[-1],2) < safe_round(self.D[-1],2) and str(type(self.__position)) == \"<class 'pyalgotrade.strategy.position.LongPosition'>\" and not self.__position.exitActive():\n",
    "                self.__position.exitMarket()\n",
    "                self.__position = self.enterShort(self.__instrument, number_of_shares, True)\n",
    "            if safe_round(self.__kdj[-1],2) > safe_round(self.D[-1],2) and str(type(self.__position)) == \"<class 'pyalgotrade.strategy.position.ShortPosition'>\" and not self.__position.exitActive():\n",
    "                self.__position.exitMarket()\n",
    "                self.__position = self.enterLong(self.__instrument, number_of_shares, True)\n",
    "\n",
    "        # trial 2 (9)\n",
    "        # if self.__position is None:\n",
    "        #     if safe_round(self.__kdj[-1],2) > safe_round(self.D[-1],2) and safe_round(self.__kdj[-2], 2) < 50 and safe_round(self.__rsi[-2], 2) < 50:\n",
    "        #         self.__position = self.enterLong(self.__instrument, number_of_shares, True)\n",
    "        #     if safe_round(self.__kdj[-1],2) < safe_round(self.D[-1],2) and safe_round(self.__kdj[-2], 2) > 50 and safe_round(self.__rsi[-2], 2) > 50:\n",
    "        #         self.__position = self.enterShort(self.__instrument, number_of_shares, True)\n",
    "        # else:\n",
    "        #     if safe_round(self.__kdj[-2], 2) > 80 and safe_round(self.__rsi[-2], 2) > 80 and str(type(self.__position)) == \"<class 'pyalgotrade.strategy.position.LongPosition'>\" and not self.__position.exitActive():\n",
    "        #         self.__position.exitMarket()\n",
    "        #         self.__position = self.enterShort(self.__instrument, number_of_shares, True)\n",
    "        #     if safe_round(self.__kdj[-2], 2) < 20 and safe_round(self.__rsi[-2], 2) < 20 and str(type(self.__position)) == \"<class 'pyalgotrade.strategy.position.ShortPosition'>\" and not self.__position.exitActive():\n",
    "        #         self.__position.exitMarket()\n",
    "        #         self.__position = self.enterLong(self.__instrument, number_of_shares, True)\n",
    "\n",
    "        # trial 3 (17)\n",
    "        # if self.__position is None:\n",
    "        #     if safe_round(self.__kdj[-1],2) > safe_round(self.D[-1],2) and safe_round(self.__kdj[-2], 2) < 50 and safe_round(self.__rsi[-2], 2) < 50:\n",
    "        #         self.__position = self.enterLong(self.__instrument, number_of_shares, True)\n",
    "        #     if safe_round(self.__kdj[-1],2) < safe_round(self.D[-1],2) and safe_round(self.__kdj[-2], 2) > 50 and safe_round(self.__rsi[-2], 2) > 50:\n",
    "        #         self.__position = self.enterShort(self.__instrument, number_of_shares, True)\n",
    "        # else:\n",
    "        #     if safe_round(self.__kdj[-1],2) < safe_round(self.D[-1],2) and str(type(self.__position)) == \"<class 'pyalgotrade.strategy.position.LongPosition'>\" and not self.__position.exitActive():\n",
    "        #         self.__position.exitMarket()\n",
    "        #         self.__position = self.enterShort(self.__instrument, number_of_shares, True)\n",
    "        #     if safe_round(self.__kdj[-1],2) > safe_round(self.D[-1],2) and str(type(self.__position)) == \"<class 'pyalgotrade.strategy.position.ShortPosition'>\" and not self.__position.exitActive():\n",
    "        #         self.__position.exitMarket()\n",
    "        #         self.__position = self.enterLong(self.__instrument, number_of_shares, True)\n",
    "\n",
    "\n",
    "def run_strategy(smaPeriod):\n",
    "    global total_sell, total_buy\n",
    "    total_buy = 0\n",
    "    total_sell = 0\n",
    "    # Load the bar feed from the CSV file\n",
    "    # feed = quandlfeed.Feed()\n",
    "    feed = csvfeed.GenericBarFeed(Frequency.MINUTE)\n",
    "    feed.addBarsFromCSV(ticker,'data.csv')\n",
    "\n",
    "    # Evaluate the strategy with the feed.\n",
    "    myStrategy = MyStrategy(feed, ticker, smaPeriod)\n",
    "    myStrategy.run()\n",
    "    print(\"Final portfolio value: $%.2f\" % myStrategy.getBroker().getEquity())\n",
    "    # print('Return = ', return_per_share)\n",
    "\n",
    "run_strategy(15)\n"
   ]
  },
  {
   "cell_type": "code",
   "execution_count": 502,
   "metadata": {},
   "outputs": [
    {
     "name": "stdout",
     "output_type": "stream",
     "text": [
      "182 182 182\n"
     ]
    },
    {
     "data": {
      "application/vnd.plotly.v1+json": {
       "config": {
        "plotlyServerURL": "https://plot.ly"
       },
       "data": [
        {
         "mode": "lines",
         "name": "KDJ K Line",
         "type": "scatter",
         "x": [
          "2022-09-27 09:30:00",
          "2022-09-27 09:32:00",
          "2022-09-27 09:34:00",
          "2022-09-27 09:36:00",
          "2022-09-27 09:38:00",
          "2022-09-27 09:40:00",
          "2022-09-27 09:42:00",
          "2022-09-27 09:44:00",
          "2022-09-27 09:46:00",
          "2022-09-27 09:48:00",
          "2022-09-27 09:50:00",
          "2022-09-27 09:52:00",
          "2022-09-27 09:54:00",
          "2022-09-27 09:56:00",
          "2022-09-27 09:58:00",
          "2022-09-27 10:00:00",
          "2022-09-27 10:02:00",
          "2022-09-27 10:04:00",
          "2022-09-27 10:06:00",
          "2022-09-27 10:08:00",
          "2022-09-27 10:10:00",
          "2022-09-27 10:12:00",
          "2022-09-27 10:14:00",
          "2022-09-27 10:16:00",
          "2022-09-27 10:18:00",
          "2022-09-27 10:20:00",
          "2022-09-27 10:22:00",
          "2022-09-27 10:24:00",
          "2022-09-27 10:26:00",
          "2022-09-27 10:28:00",
          "2022-09-27 10:30:00",
          "2022-09-27 10:32:00",
          "2022-09-27 10:34:00",
          "2022-09-27 10:36:00",
          "2022-09-27 10:38:00",
          "2022-09-27 10:40:00",
          "2022-09-27 10:42:00",
          "2022-09-27 10:44:00",
          "2022-09-27 10:46:00",
          "2022-09-27 10:48:00",
          "2022-09-27 10:50:00",
          "2022-09-27 10:52:00",
          "2022-09-27 10:54:00",
          "2022-09-27 10:56:00",
          "2022-09-27 10:58:00",
          "2022-09-27 11:00:00",
          "2022-09-27 11:02:00",
          "2022-09-27 11:04:00",
          "2022-09-27 11:06:00",
          "2022-09-27 11:08:00",
          "2022-09-27 11:10:00",
          "2022-09-27 11:12:00",
          "2022-09-27 11:14:00",
          "2022-09-27 11:16:00",
          "2022-09-27 11:18:00",
          "2022-09-27 11:20:00",
          "2022-09-27 11:22:00",
          "2022-09-27 11:24:00",
          "2022-09-27 11:26:00",
          "2022-09-27 11:28:00",
          "2022-09-27 11:30:00",
          "2022-09-27 11:32:00",
          "2022-09-27 11:34:00",
          "2022-09-27 11:36:00",
          "2022-09-27 11:38:00",
          "2022-09-27 11:40:00",
          "2022-09-27 11:42:00",
          "2022-09-27 11:44:00",
          "2022-09-27 11:46:00",
          "2022-09-27 11:48:00",
          "2022-09-27 11:50:00",
          "2022-09-27 11:52:00",
          "2022-09-27 11:54:00",
          "2022-09-27 11:56:00",
          "2022-09-27 11:58:00",
          "2022-09-27 12:00:00",
          "2022-09-27 12:02:00",
          "2022-09-27 12:04:00",
          "2022-09-27 12:06:00",
          "2022-09-27 12:08:00",
          "2022-09-27 12:10:00",
          "2022-09-27 12:12:00",
          "2022-09-27 12:14:00",
          "2022-09-27 12:16:00",
          "2022-09-27 12:18:00",
          "2022-09-27 12:20:00",
          "2022-09-27 12:22:00",
          "2022-09-27 12:24:00",
          "2022-09-27 12:26:00",
          "2022-09-27 12:28:00",
          "2022-09-27 12:30:00",
          "2022-09-27 12:32:00",
          "2022-09-27 12:34:00",
          "2022-09-27 12:36:00",
          "2022-09-27 12:38:00",
          "2022-09-27 12:40:00",
          "2022-09-27 12:42:00",
          "2022-09-27 12:44:00",
          "2022-09-27 12:46:00",
          "2022-09-27 12:48:00",
          "2022-09-27 12:50:00",
          "2022-09-27 12:52:00",
          "2022-09-27 12:54:00",
          "2022-09-27 12:56:00",
          "2022-09-27 12:58:00",
          "2022-09-27 13:00:00",
          "2022-09-27 13:02:00",
          "2022-09-27 13:04:00",
          "2022-09-27 13:06:00",
          "2022-09-27 13:08:00",
          "2022-09-27 13:10:00",
          "2022-09-27 13:12:00",
          "2022-09-27 13:14:00",
          "2022-09-27 13:16:00",
          "2022-09-27 13:18:00",
          "2022-09-27 13:20:00",
          "2022-09-27 13:22:00",
          "2022-09-27 13:24:00",
          "2022-09-27 13:26:00",
          "2022-09-27 13:28:00",
          "2022-09-27 13:30:00",
          "2022-09-27 13:32:00",
          "2022-09-27 13:34:00",
          "2022-09-27 13:36:00",
          "2022-09-27 13:38:00",
          "2022-09-27 13:40:00",
          "2022-09-27 13:42:00",
          "2022-09-27 13:44:00",
          "2022-09-27 13:46:00",
          "2022-09-27 13:48:00",
          "2022-09-27 13:50:00",
          "2022-09-27 13:52:00",
          "2022-09-27 13:54:00",
          "2022-09-27 13:56:00",
          "2022-09-27 13:58:00",
          "2022-09-27 14:00:00",
          "2022-09-27 14:02:00",
          "2022-09-27 14:04:00",
          "2022-09-27 14:06:00",
          "2022-09-27 14:08:00",
          "2022-09-27 14:10:00",
          "2022-09-27 14:12:00",
          "2022-09-27 14:14:00",
          "2022-09-27 14:16:00",
          "2022-09-27 14:18:00",
          "2022-09-27 14:20:00",
          "2022-09-27 14:22:00",
          "2022-09-27 14:24:00",
          "2022-09-27 14:26:00",
          "2022-09-27 14:28:00",
          "2022-09-27 14:30:00",
          "2022-09-27 14:32:00",
          "2022-09-27 14:34:00",
          "2022-09-27 14:36:00",
          "2022-09-27 14:38:00",
          "2022-09-27 14:40:00",
          "2022-09-27 14:42:00",
          "2022-09-27 14:44:00",
          "2022-09-27 14:46:00",
          "2022-09-27 14:48:00",
          "2022-09-27 14:50:00",
          "2022-09-27 14:52:00",
          "2022-09-27 14:54:00",
          "2022-09-27 14:56:00",
          "2022-09-27 14:58:00",
          "2022-09-27 15:00:00",
          "2022-09-27 15:02:00",
          "2022-09-27 15:04:00",
          "2022-09-27 15:06:00",
          "2022-09-27 15:08:00",
          "2022-09-27 15:10:00",
          "2022-09-27 15:12:00",
          "2022-09-27 15:14:00",
          "2022-09-27 15:16:00",
          "2022-09-27 15:18:00",
          "2022-09-27 15:20:00",
          "2022-09-27 15:22:00",
          "2022-09-27 15:24:00",
          "2022-09-27 15:26:00",
          "2022-09-27 15:28:00",
          "2022-09-27 15:30:00",
          "2022-09-27 15:32:00",
          "2022-09-27 15:34:00",
          "2022-09-27 15:36:00",
          "2022-09-27 15:38:00",
          "2022-09-27 15:40:00",
          "2022-09-27 15:42:00",
          "2022-09-27 15:44:00",
          "2022-09-27 15:46:00",
          "2022-09-27 15:48:00",
          "2022-09-27 15:50:00",
          "2022-09-27 15:52:00",
          "2022-09-27 15:54:00",
          "2022-09-27 15:56:00",
          "2022-09-27 15:58:00",
          "2022-09-30 16:00:00"
         ],
         "y": [
          65.77053696535017,
          23.248649068926643,
          10.18480144676362,
          15.85425990193433,
          38.11261564070553,
          4.904757155679665,
          40,
          55.22888201854992,
          72.34666400718062,
          61.43811708387354,
          76.2588506504199,
          73.20160272243263,
          74.46072781162523,
          78.62081303208561,
          57.81804865056818,
          17.75869257066622,
          50.92501326863296,
          63.35393130639169,
          64.31685495488665,
          91.98815187146576,
          31.752964998553658,
          59.242117442869535,
          70.1417413942725,
          83.47796088421835,
          89.91138833859827,
          96.08809549530085,
          96.98245244797559,
          82.15632068358885,
          86.66570925932574,
          84.10471994287023,
          78.12445362791067,
          16.159098838658224,
          7.027267778492602,
          27.026937859817558,
          46.48554131406608,
          63.76173273288135,
          64.13016436402236,
          47.826447514636854,
          14.945350206491634,
          39.672930522614564,
          74.26397989408491,
          50.412368533884845,
          16.397228637413395,
          3.0182921155957496,
          15.094719871019748,
          14.402169406067038,
          31.657903902608926,
          31.79390642363127,
          14.676662299106033,
          11.728558870847362,
          20.73102483385799,
          9.768868844994689,
          28.88274399679065,
          38.631188892361266,
          23.358282099260446,
          17.0377738092547,
          25.00073358960063,
          9.177490453935633,
          9.88628452077048,
          15.88462767305298,
          1.0662890036091186,
          4.197121543214528,
          18.972644160648855,
          18.52732452356962,
          6.93801562385924,
          7.473490570270553,
          2.5575669302261064,
          0.9051679497359064,
          16.289570891013913,
          4.491712808142828,
          1.2792394808114078,
          20.68559118971613,
          23.16399279304132,
          25.07652680304614,
          64.21098844617674,
          72.3300531467808,
          66.10114698770253,
          68.22055267479601,
          72.45807093996095,
          40.21284087796862,
          34.773200166458594,
          52.207648853970525,
          44.047229791099,
          54.165304268846505,
          48.62983633285257,
          64.38201542609895,
          42.46566752367216,
          63.06396484375,
          81.9281538404971,
          97.39088149974009,
          78.297030367054,
          48.35085601220719,
          3.680600969196975,
          23.42429032923225,
          35.58595092446216,
          10.360849542923912,
          1.3512956216922125,
          21.956850569222194,
          31.87809005983555,
          41.23643227937707,
          61.06788426594605,
          58.596188790010714,
          51.679634720216185,
          27.80473576750723,
          23.983898511832155,
          60.75628202000488,
          59.158331300317144,
          53.56184435228104,
          31.97609172969017,
          33.60682392375616,
          1.8704469383736957,
          0,
          19.28957600731182,
          34.58398525242824,
          48.1487461852707,
          35.16441135536664,
          48.90085014336737,
          36.18366896219407,
          30.53996257685111,
          69.90311398180795,
          93.91908611019466,
          85.78627064814322,
          93.67113056914756,
          87.34226113829513,
          69.23641514293072,
          73.2912696368787,
          70.45969611125419,
          60.75972186453773,
          25.896364461555315,
          13.622314707142419,
          5.560302734375,
          15.508518832821986,
          23.27152673807056,
          62.97571277719113,
          54.861611494934934,
          76.18698398429183,
          65.4212975914952,
          26.66904041303187,
          31.25206643098756,
          67.2626603646185,
          98.98569954297508,
          94.74357070982002,
          82.56792200722522,
          68.61401164612923,
          65.40555253130104,
          98.39164645914782,
          84.02495207990046,
          86.02447091827547,
          70.09282009282009,
          71.39605855273366,
          76.43354196633364,
          49.68121914240174,
          84.07650740582359,
          82.0145780275753,
          80.37333865723575,
          90.65369916148536,
          80.37333865723575,
          82.47675546175347,
          65.88757058924192,
          90.18738235126348,
          94.62666134276425,
          58.86985627091947,
          83.89799824134899,
          29.661718305488026,
          22.189714746904084,
          22.42175086383011,
          2.808304901675039,
          14.607300221166868,
          41.01188128996863,
          20.78625679359473,
          19.023729419120492,
          36.58558370798225,
          57.13408230795142,
          76.00903524936099,
          74.50433517249742,
          89.65408379560728,
          93.00354155677793,
          85.50229735095581,
          93.26851598262843,
          77.88996385516091,
          72.07494587498272,
          0
         ]
        },
        {
         "mode": "lines",
         "name": "KDJ D Line",
         "type": "scatter",
         "x": [
          "2022-09-27 09:30:00",
          "2022-09-27 09:32:00",
          "2022-09-27 09:34:00",
          "2022-09-27 09:36:00",
          "2022-09-27 09:38:00",
          "2022-09-27 09:40:00",
          "2022-09-27 09:42:00",
          "2022-09-27 09:44:00",
          "2022-09-27 09:46:00",
          "2022-09-27 09:48:00",
          "2022-09-27 09:50:00",
          "2022-09-27 09:52:00",
          "2022-09-27 09:54:00",
          "2022-09-27 09:56:00",
          "2022-09-27 09:58:00",
          "2022-09-27 10:00:00",
          "2022-09-27 10:02:00",
          "2022-09-27 10:04:00",
          "2022-09-27 10:06:00",
          "2022-09-27 10:08:00",
          "2022-09-27 10:10:00",
          "2022-09-27 10:12:00",
          "2022-09-27 10:14:00",
          "2022-09-27 10:16:00",
          "2022-09-27 10:18:00",
          "2022-09-27 10:20:00",
          "2022-09-27 10:22:00",
          "2022-09-27 10:24:00",
          "2022-09-27 10:26:00",
          "2022-09-27 10:28:00",
          "2022-09-27 10:30:00",
          "2022-09-27 10:32:00",
          "2022-09-27 10:34:00",
          "2022-09-27 10:36:00",
          "2022-09-27 10:38:00",
          "2022-09-27 10:40:00",
          "2022-09-27 10:42:00",
          "2022-09-27 10:44:00",
          "2022-09-27 10:46:00",
          "2022-09-27 10:48:00",
          "2022-09-27 10:50:00",
          "2022-09-27 10:52:00",
          "2022-09-27 10:54:00",
          "2022-09-27 10:56:00",
          "2022-09-27 10:58:00",
          "2022-09-27 11:00:00",
          "2022-09-27 11:02:00",
          "2022-09-27 11:04:00",
          "2022-09-27 11:06:00",
          "2022-09-27 11:08:00",
          "2022-09-27 11:10:00",
          "2022-09-27 11:12:00",
          "2022-09-27 11:14:00",
          "2022-09-27 11:16:00",
          "2022-09-27 11:18:00",
          "2022-09-27 11:20:00",
          "2022-09-27 11:22:00",
          "2022-09-27 11:24:00",
          "2022-09-27 11:26:00",
          "2022-09-27 11:28:00",
          "2022-09-27 11:30:00",
          "2022-09-27 11:32:00",
          "2022-09-27 11:34:00",
          "2022-09-27 11:36:00",
          "2022-09-27 11:38:00",
          "2022-09-27 11:40:00",
          "2022-09-27 11:42:00",
          "2022-09-27 11:44:00",
          "2022-09-27 11:46:00",
          "2022-09-27 11:48:00",
          "2022-09-27 11:50:00",
          "2022-09-27 11:52:00",
          "2022-09-27 11:54:00",
          "2022-09-27 11:56:00",
          "2022-09-27 11:58:00",
          "2022-09-27 12:00:00",
          "2022-09-27 12:02:00",
          "2022-09-27 12:04:00",
          "2022-09-27 12:06:00",
          "2022-09-27 12:08:00",
          "2022-09-27 12:10:00",
          "2022-09-27 12:12:00",
          "2022-09-27 12:14:00",
          "2022-09-27 12:16:00",
          "2022-09-27 12:18:00",
          "2022-09-27 12:20:00",
          "2022-09-27 12:22:00",
          "2022-09-27 12:24:00",
          "2022-09-27 12:26:00",
          "2022-09-27 12:28:00",
          "2022-09-27 12:30:00",
          "2022-09-27 12:32:00",
          "2022-09-27 12:34:00",
          "2022-09-27 12:36:00",
          "2022-09-27 12:38:00",
          "2022-09-27 12:40:00",
          "2022-09-27 12:42:00",
          "2022-09-27 12:44:00",
          "2022-09-27 12:46:00",
          "2022-09-27 12:48:00",
          "2022-09-27 12:50:00",
          "2022-09-27 12:52:00",
          "2022-09-27 12:54:00",
          "2022-09-27 12:56:00",
          "2022-09-27 12:58:00",
          "2022-09-27 13:00:00",
          "2022-09-27 13:02:00",
          "2022-09-27 13:04:00",
          "2022-09-27 13:06:00",
          "2022-09-27 13:08:00",
          "2022-09-27 13:10:00",
          "2022-09-27 13:12:00",
          "2022-09-27 13:14:00",
          "2022-09-27 13:16:00",
          "2022-09-27 13:18:00",
          "2022-09-27 13:20:00",
          "2022-09-27 13:22:00",
          "2022-09-27 13:24:00",
          "2022-09-27 13:26:00",
          "2022-09-27 13:28:00",
          "2022-09-27 13:30:00",
          "2022-09-27 13:32:00",
          "2022-09-27 13:34:00",
          "2022-09-27 13:36:00",
          "2022-09-27 13:38:00",
          "2022-09-27 13:40:00",
          "2022-09-27 13:42:00",
          "2022-09-27 13:44:00",
          "2022-09-27 13:46:00",
          "2022-09-27 13:48:00",
          "2022-09-27 13:50:00",
          "2022-09-27 13:52:00",
          "2022-09-27 13:54:00",
          "2022-09-27 13:56:00",
          "2022-09-27 13:58:00",
          "2022-09-27 14:00:00",
          "2022-09-27 14:02:00",
          "2022-09-27 14:04:00",
          "2022-09-27 14:06:00",
          "2022-09-27 14:08:00",
          "2022-09-27 14:10:00",
          "2022-09-27 14:12:00",
          "2022-09-27 14:14:00",
          "2022-09-27 14:16:00",
          "2022-09-27 14:18:00",
          "2022-09-27 14:20:00",
          "2022-09-27 14:22:00",
          "2022-09-27 14:24:00",
          "2022-09-27 14:26:00",
          "2022-09-27 14:28:00",
          "2022-09-27 14:30:00",
          "2022-09-27 14:32:00",
          "2022-09-27 14:34:00",
          "2022-09-27 14:36:00",
          "2022-09-27 14:38:00",
          "2022-09-27 14:40:00",
          "2022-09-27 14:42:00",
          "2022-09-27 14:44:00",
          "2022-09-27 14:46:00",
          "2022-09-27 14:48:00",
          "2022-09-27 14:50:00",
          "2022-09-27 14:52:00",
          "2022-09-27 14:54:00",
          "2022-09-27 14:56:00",
          "2022-09-27 14:58:00",
          "2022-09-27 15:00:00",
          "2022-09-27 15:02:00",
          "2022-09-27 15:04:00",
          "2022-09-27 15:06:00",
          "2022-09-27 15:08:00",
          "2022-09-27 15:10:00",
          "2022-09-27 15:12:00",
          "2022-09-27 15:14:00",
          "2022-09-27 15:16:00",
          "2022-09-27 15:18:00",
          "2022-09-27 15:20:00",
          "2022-09-27 15:22:00",
          "2022-09-27 15:24:00",
          "2022-09-27 15:26:00",
          "2022-09-27 15:28:00",
          "2022-09-27 15:30:00",
          "2022-09-27 15:32:00",
          "2022-09-27 15:34:00",
          "2022-09-27 15:36:00",
          "2022-09-27 15:38:00",
          "2022-09-27 15:40:00",
          "2022-09-27 15:42:00",
          "2022-09-27 15:44:00",
          "2022-09-27 15:46:00",
          "2022-09-27 15:48:00",
          "2022-09-27 15:50:00",
          "2022-09-27 15:52:00",
          "2022-09-27 15:54:00",
          "2022-09-27 15:56:00",
          "2022-09-27 15:58:00",
          "2022-09-30 16:00:00"
         ],
         "y": [
          48.51251969189603,
          43.55119787165469,
          33.06799582701347,
          16.42923680587485,
          21.383892329801142,
          19.62387756610649,
          27.672457598795045,
          33.377879724743174,
          55.85851534191016,
          63.00455436986801,
          70.01454391382467,
          70.29952348557534,
          74.64039372815922,
          75.4277145220478,
          70.29986316475966,
          51.39918475110666,
          42.167251496622455,
          44.012545715230296,
          59.5319331766371,
          73.21964604424804,
          62.68599060830202,
          60.99441143762965,
          53.712274611898565,
          70.95393990712013,
          81.17703020569637,
          89.82581490603916,
          94.32731209395824,
          91.74228954228843,
          88.60149413029674,
          84.30891662859497,
          82.96496094336892,
          59.462757469813084,
          33.77027341502054,
          16.7377681589895,
          26.846582317458786,
          45.758070635588375,
          58.12581280365664,
          58.57278153718024,
          42.30065402838367,
          34.148242747914395,
          42.960753541063745,
          54.78309298352815,
          47.0245256884611,
          23.27596309563138,
          11.503413541343015,
          10.838393797560894,
          20.384931059898623,
          25.951326577435797,
          26.042824208448796,
          19.399709197861604,
          15.712082001270511,
          14.076150849900063,
          19.794212558547827,
          25.76093391138225,
          30.290738329470834,
          26.342414933625513,
          21.798929832705305,
          17.0719992842637,
          14.68816952143563,
          11.64946754925308,
          8.945733732477574,
          7.049346073292256,
          8.078684902490881,
          13.899030075811048,
          14.812661436025952,
          10.979610239233182,
          5.656357708118676,
          3.645408483410898,
          6.584101923658684,
          7.2288172162975926,
          7.353507726656093,
          8.8188478262235,
          15.042941154523,
          22.975370261934575,
          37.48383601408811,
          53.87252279866794,
          67.5473961935534,
          68.88391760309315,
          68.92659020081987,
          60.29715483090857,
          49.14803732812942,
          42.397896632799274,
          43.676026270509404,
          50.14006097130537,
          48.947456797599386,
          55.7257186759327,
          51.82583976087457,
          56.637215931173714,
          62.485928735973104,
          80.7943333946624,
          85.8720219024304,
          74.67958929300043,
          43.44282911615273,
          25.151915770212145,
          20.89694740763047,
          23.123696932206116,
          15.76603202969277,
          11.222998577946116,
          18.395412083583327,
          31.690457636144945,
          44.727468868386225,
          53.63350177844462,
          57.11456925872432,
          46.02685309257805,
          34.48942299985187,
          37.51497209978143,
          47.96617061071807,
          57.825485890867704,
          48.23208912742947,
          39.714920001909135,
          22.484454197273354,
          11.825756954043298,
          7.053340981895182,
          17.957853753246695,
          34.007435815003596,
          39.29904759768854,
          44.07133589466825,
          40.082976820309376,
          38.54149389413753,
          45.542248506951054,
          64.78738755628459,
          83.20282358004862,
          91.1254957758285,
          88.93322078519532,
          83.41660228345782,
          76.62331530603485,
          70.99579363035454,
          68.17022920422355,
          52.371927479115755,
          33.42613367774516,
          15.02632730102425,
          11.563712091446474,
          14.780116101755855,
          33.9185861160279,
          47.03628367006556,
          64.67476941880598,
          65.48996435690734,
          56.09244066293965,
          41.11413481183823,
          41.727922402879315,
          65.83347544619372,
          86.99731020580454,
          92.09906408667345,
          81.97516812105818,
          72.19582872821852,
          77.47040354552605,
          82.60738369011646,
          89.4803564857746,
          80.04741436366535,
          75.83778318794309,
          72.64080687062915,
          65.83693988715636,
          70.06375617151967,
          71.92410152526689,
          82.15480803021157,
          84.34720528209883,
          83.80012549198564,
          84.50126442682487,
          76.24588823607705,
          79.51723613408629,
          83.56720476108988,
          81.22796665498241,
          79.13150528501092,
          57.47652427258551,
          45.24981043124704,
          24.75772797207408,
          15.806590170803085,
          13.279118662224011,
          19.475828804270183,
          25.46847943491008,
          26.94062250089462,
          25.465189973565828,
          37.58113181168472,
          56.576233755098215,
          69.21581757660327,
          80.05581807248856,
          85.7206535082942,
          89.38664090111368,
          90.59145163012073,
          85.55359239624839,
          81.07780857092402,
          49.98830324338121
         ]
        }
       ],
       "layout": {
        "template": {
         "data": {
          "bar": [
           {
            "error_x": {
             "color": "#2a3f5f"
            },
            "error_y": {
             "color": "#2a3f5f"
            },
            "marker": {
             "line": {
              "color": "#E5ECF6",
              "width": 0.5
             },
             "pattern": {
              "fillmode": "overlay",
              "size": 10,
              "solidity": 0.2
             }
            },
            "type": "bar"
           }
          ],
          "barpolar": [
           {
            "marker": {
             "line": {
              "color": "#E5ECF6",
              "width": 0.5
             },
             "pattern": {
              "fillmode": "overlay",
              "size": 10,
              "solidity": 0.2
             }
            },
            "type": "barpolar"
           }
          ],
          "carpet": [
           {
            "aaxis": {
             "endlinecolor": "#2a3f5f",
             "gridcolor": "white",
             "linecolor": "white",
             "minorgridcolor": "white",
             "startlinecolor": "#2a3f5f"
            },
            "baxis": {
             "endlinecolor": "#2a3f5f",
             "gridcolor": "white",
             "linecolor": "white",
             "minorgridcolor": "white",
             "startlinecolor": "#2a3f5f"
            },
            "type": "carpet"
           }
          ],
          "choropleth": [
           {
            "colorbar": {
             "outlinewidth": 0,
             "ticks": ""
            },
            "type": "choropleth"
           }
          ],
          "contour": [
           {
            "colorbar": {
             "outlinewidth": 0,
             "ticks": ""
            },
            "colorscale": [
             [
              0,
              "#0d0887"
             ],
             [
              0.1111111111111111,
              "#46039f"
             ],
             [
              0.2222222222222222,
              "#7201a8"
             ],
             [
              0.3333333333333333,
              "#9c179e"
             ],
             [
              0.4444444444444444,
              "#bd3786"
             ],
             [
              0.5555555555555556,
              "#d8576b"
             ],
             [
              0.6666666666666666,
              "#ed7953"
             ],
             [
              0.7777777777777778,
              "#fb9f3a"
             ],
             [
              0.8888888888888888,
              "#fdca26"
             ],
             [
              1,
              "#f0f921"
             ]
            ],
            "type": "contour"
           }
          ],
          "contourcarpet": [
           {
            "colorbar": {
             "outlinewidth": 0,
             "ticks": ""
            },
            "type": "contourcarpet"
           }
          ],
          "heatmap": [
           {
            "colorbar": {
             "outlinewidth": 0,
             "ticks": ""
            },
            "colorscale": [
             [
              0,
              "#0d0887"
             ],
             [
              0.1111111111111111,
              "#46039f"
             ],
             [
              0.2222222222222222,
              "#7201a8"
             ],
             [
              0.3333333333333333,
              "#9c179e"
             ],
             [
              0.4444444444444444,
              "#bd3786"
             ],
             [
              0.5555555555555556,
              "#d8576b"
             ],
             [
              0.6666666666666666,
              "#ed7953"
             ],
             [
              0.7777777777777778,
              "#fb9f3a"
             ],
             [
              0.8888888888888888,
              "#fdca26"
             ],
             [
              1,
              "#f0f921"
             ]
            ],
            "type": "heatmap"
           }
          ],
          "heatmapgl": [
           {
            "colorbar": {
             "outlinewidth": 0,
             "ticks": ""
            },
            "colorscale": [
             [
              0,
              "#0d0887"
             ],
             [
              0.1111111111111111,
              "#46039f"
             ],
             [
              0.2222222222222222,
              "#7201a8"
             ],
             [
              0.3333333333333333,
              "#9c179e"
             ],
             [
              0.4444444444444444,
              "#bd3786"
             ],
             [
              0.5555555555555556,
              "#d8576b"
             ],
             [
              0.6666666666666666,
              "#ed7953"
             ],
             [
              0.7777777777777778,
              "#fb9f3a"
             ],
             [
              0.8888888888888888,
              "#fdca26"
             ],
             [
              1,
              "#f0f921"
             ]
            ],
            "type": "heatmapgl"
           }
          ],
          "histogram": [
           {
            "marker": {
             "pattern": {
              "fillmode": "overlay",
              "size": 10,
              "solidity": 0.2
             }
            },
            "type": "histogram"
           }
          ],
          "histogram2d": [
           {
            "colorbar": {
             "outlinewidth": 0,
             "ticks": ""
            },
            "colorscale": [
             [
              0,
              "#0d0887"
             ],
             [
              0.1111111111111111,
              "#46039f"
             ],
             [
              0.2222222222222222,
              "#7201a8"
             ],
             [
              0.3333333333333333,
              "#9c179e"
             ],
             [
              0.4444444444444444,
              "#bd3786"
             ],
             [
              0.5555555555555556,
              "#d8576b"
             ],
             [
              0.6666666666666666,
              "#ed7953"
             ],
             [
              0.7777777777777778,
              "#fb9f3a"
             ],
             [
              0.8888888888888888,
              "#fdca26"
             ],
             [
              1,
              "#f0f921"
             ]
            ],
            "type": "histogram2d"
           }
          ],
          "histogram2dcontour": [
           {
            "colorbar": {
             "outlinewidth": 0,
             "ticks": ""
            },
            "colorscale": [
             [
              0,
              "#0d0887"
             ],
             [
              0.1111111111111111,
              "#46039f"
             ],
             [
              0.2222222222222222,
              "#7201a8"
             ],
             [
              0.3333333333333333,
              "#9c179e"
             ],
             [
              0.4444444444444444,
              "#bd3786"
             ],
             [
              0.5555555555555556,
              "#d8576b"
             ],
             [
              0.6666666666666666,
              "#ed7953"
             ],
             [
              0.7777777777777778,
              "#fb9f3a"
             ],
             [
              0.8888888888888888,
              "#fdca26"
             ],
             [
              1,
              "#f0f921"
             ]
            ],
            "type": "histogram2dcontour"
           }
          ],
          "mesh3d": [
           {
            "colorbar": {
             "outlinewidth": 0,
             "ticks": ""
            },
            "type": "mesh3d"
           }
          ],
          "parcoords": [
           {
            "line": {
             "colorbar": {
              "outlinewidth": 0,
              "ticks": ""
             }
            },
            "type": "parcoords"
           }
          ],
          "pie": [
           {
            "automargin": true,
            "type": "pie"
           }
          ],
          "scatter": [
           {
            "marker": {
             "colorbar": {
              "outlinewidth": 0,
              "ticks": ""
             }
            },
            "type": "scatter"
           }
          ],
          "scatter3d": [
           {
            "line": {
             "colorbar": {
              "outlinewidth": 0,
              "ticks": ""
             }
            },
            "marker": {
             "colorbar": {
              "outlinewidth": 0,
              "ticks": ""
             }
            },
            "type": "scatter3d"
           }
          ],
          "scattercarpet": [
           {
            "marker": {
             "colorbar": {
              "outlinewidth": 0,
              "ticks": ""
             }
            },
            "type": "scattercarpet"
           }
          ],
          "scattergeo": [
           {
            "marker": {
             "colorbar": {
              "outlinewidth": 0,
              "ticks": ""
             }
            },
            "type": "scattergeo"
           }
          ],
          "scattergl": [
           {
            "marker": {
             "colorbar": {
              "outlinewidth": 0,
              "ticks": ""
             }
            },
            "type": "scattergl"
           }
          ],
          "scattermapbox": [
           {
            "marker": {
             "colorbar": {
              "outlinewidth": 0,
              "ticks": ""
             }
            },
            "type": "scattermapbox"
           }
          ],
          "scatterpolar": [
           {
            "marker": {
             "colorbar": {
              "outlinewidth": 0,
              "ticks": ""
             }
            },
            "type": "scatterpolar"
           }
          ],
          "scatterpolargl": [
           {
            "marker": {
             "colorbar": {
              "outlinewidth": 0,
              "ticks": ""
             }
            },
            "type": "scatterpolargl"
           }
          ],
          "scatterternary": [
           {
            "marker": {
             "colorbar": {
              "outlinewidth": 0,
              "ticks": ""
             }
            },
            "type": "scatterternary"
           }
          ],
          "surface": [
           {
            "colorbar": {
             "outlinewidth": 0,
             "ticks": ""
            },
            "colorscale": [
             [
              0,
              "#0d0887"
             ],
             [
              0.1111111111111111,
              "#46039f"
             ],
             [
              0.2222222222222222,
              "#7201a8"
             ],
             [
              0.3333333333333333,
              "#9c179e"
             ],
             [
              0.4444444444444444,
              "#bd3786"
             ],
             [
              0.5555555555555556,
              "#d8576b"
             ],
             [
              0.6666666666666666,
              "#ed7953"
             ],
             [
              0.7777777777777778,
              "#fb9f3a"
             ],
             [
              0.8888888888888888,
              "#fdca26"
             ],
             [
              1,
              "#f0f921"
             ]
            ],
            "type": "surface"
           }
          ],
          "table": [
           {
            "cells": {
             "fill": {
              "color": "#EBF0F8"
             },
             "line": {
              "color": "white"
             }
            },
            "header": {
             "fill": {
              "color": "#C8D4E3"
             },
             "line": {
              "color": "white"
             }
            },
            "type": "table"
           }
          ]
         },
         "layout": {
          "annotationdefaults": {
           "arrowcolor": "#2a3f5f",
           "arrowhead": 0,
           "arrowwidth": 1
          },
          "autotypenumbers": "strict",
          "coloraxis": {
           "colorbar": {
            "outlinewidth": 0,
            "ticks": ""
           }
          },
          "colorscale": {
           "diverging": [
            [
             0,
             "#8e0152"
            ],
            [
             0.1,
             "#c51b7d"
            ],
            [
             0.2,
             "#de77ae"
            ],
            [
             0.3,
             "#f1b6da"
            ],
            [
             0.4,
             "#fde0ef"
            ],
            [
             0.5,
             "#f7f7f7"
            ],
            [
             0.6,
             "#e6f5d0"
            ],
            [
             0.7,
             "#b8e186"
            ],
            [
             0.8,
             "#7fbc41"
            ],
            [
             0.9,
             "#4d9221"
            ],
            [
             1,
             "#276419"
            ]
           ],
           "sequential": [
            [
             0,
             "#0d0887"
            ],
            [
             0.1111111111111111,
             "#46039f"
            ],
            [
             0.2222222222222222,
             "#7201a8"
            ],
            [
             0.3333333333333333,
             "#9c179e"
            ],
            [
             0.4444444444444444,
             "#bd3786"
            ],
            [
             0.5555555555555556,
             "#d8576b"
            ],
            [
             0.6666666666666666,
             "#ed7953"
            ],
            [
             0.7777777777777778,
             "#fb9f3a"
            ],
            [
             0.8888888888888888,
             "#fdca26"
            ],
            [
             1,
             "#f0f921"
            ]
           ],
           "sequentialminus": [
            [
             0,
             "#0d0887"
            ],
            [
             0.1111111111111111,
             "#46039f"
            ],
            [
             0.2222222222222222,
             "#7201a8"
            ],
            [
             0.3333333333333333,
             "#9c179e"
            ],
            [
             0.4444444444444444,
             "#bd3786"
            ],
            [
             0.5555555555555556,
             "#d8576b"
            ],
            [
             0.6666666666666666,
             "#ed7953"
            ],
            [
             0.7777777777777778,
             "#fb9f3a"
            ],
            [
             0.8888888888888888,
             "#fdca26"
            ],
            [
             1,
             "#f0f921"
            ]
           ]
          },
          "colorway": [
           "#636efa",
           "#EF553B",
           "#00cc96",
           "#ab63fa",
           "#FFA15A",
           "#19d3f3",
           "#FF6692",
           "#B6E880",
           "#FF97FF",
           "#FECB52"
          ],
          "font": {
           "color": "#2a3f5f"
          },
          "geo": {
           "bgcolor": "white",
           "lakecolor": "white",
           "landcolor": "#E5ECF6",
           "showlakes": true,
           "showland": true,
           "subunitcolor": "white"
          },
          "hoverlabel": {
           "align": "left"
          },
          "hovermode": "closest",
          "mapbox": {
           "style": "light"
          },
          "paper_bgcolor": "white",
          "plot_bgcolor": "#E5ECF6",
          "polar": {
           "angularaxis": {
            "gridcolor": "white",
            "linecolor": "white",
            "ticks": ""
           },
           "bgcolor": "#E5ECF6",
           "radialaxis": {
            "gridcolor": "white",
            "linecolor": "white",
            "ticks": ""
           }
          },
          "scene": {
           "xaxis": {
            "backgroundcolor": "#E5ECF6",
            "gridcolor": "white",
            "gridwidth": 2,
            "linecolor": "white",
            "showbackground": true,
            "ticks": "",
            "zerolinecolor": "white"
           },
           "yaxis": {
            "backgroundcolor": "#E5ECF6",
            "gridcolor": "white",
            "gridwidth": 2,
            "linecolor": "white",
            "showbackground": true,
            "ticks": "",
            "zerolinecolor": "white"
           },
           "zaxis": {
            "backgroundcolor": "#E5ECF6",
            "gridcolor": "white",
            "gridwidth": 2,
            "linecolor": "white",
            "showbackground": true,
            "ticks": "",
            "zerolinecolor": "white"
           }
          },
          "shapedefaults": {
           "line": {
            "color": "#2a3f5f"
           }
          },
          "ternary": {
           "aaxis": {
            "gridcolor": "white",
            "linecolor": "white",
            "ticks": ""
           },
           "baxis": {
            "gridcolor": "white",
            "linecolor": "white",
            "ticks": ""
           },
           "bgcolor": "#E5ECF6",
           "caxis": {
            "gridcolor": "white",
            "linecolor": "white",
            "ticks": ""
           }
          },
          "title": {
           "x": 0.05
          },
          "xaxis": {
           "automargin": true,
           "gridcolor": "white",
           "linecolor": "white",
           "ticks": "",
           "title": {
            "standoff": 15
           },
           "zerolinecolor": "white",
           "zerolinewidth": 2
          },
          "yaxis": {
           "automargin": true,
           "gridcolor": "white",
           "linecolor": "white",
           "ticks": "",
           "title": {
            "standoff": 15
           },
           "zerolinecolor": "white",
           "zerolinewidth": 2
          }
         }
        },
        "title": {
         "text": "indicators"
        },
        "xaxis": {
         "title": {
          "text": "Time"
         }
        },
        "yaxis": {
         "title": {
          "text": "kdj/rsi"
         }
        }
       }
      }
     },
     "metadata": {},
     "output_type": "display_data"
    }
   ],
   "source": [
    "import plotly.graph_objs as go\n",
    "\n",
    "print(len(kdj),len(kdjd),len(rsi1))\n",
    "\n",
    "trace1 = go.Scatter(\n",
    "    x=data.index,\n",
    "    y=kdj,\n",
    "    mode='lines',\n",
    "    name='KDJ K Line'\n",
    ")\n",
    "\n",
    "trace2 = go.Scatter(\n",
    "    x=data.index,\n",
    "    y=kdjd,\n",
    "    mode='lines',\n",
    "    name='KDJ D Line'\n",
    ")\n",
    "\n",
    "trace3 = go.Scatter(\n",
    "    x=data.index,\n",
    "    y=rsi1,\n",
    "    mode='lines',\n",
    "    name='RSI1 Line'\n",
    ")\n",
    "\n",
    "layout = go.Layout(\n",
    "    title='indicators',\n",
    "    xaxis={'title': \"Time\"},\n",
    "    yaxis={'title': \"kdj/rsi\"}\n",
    ")\n",
    "\n",
    "fig = go.Figure(data=[trace1, trace2], layout=layout)\n",
    "fig.show()"
   ]
  },
  {
   "cell_type": "code",
   "execution_count": 13,
   "metadata": {},
   "outputs": [
    {
     "name": "stdout",
     "output_type": "stream",
     "text": [
      "              Open      High     Low   Close      Volume  Ex-Dividend  \\\n",
      "Date                                                                    \n",
      "2010-06-29   19.00   25.0000   17.54   23.89  18766300.0          0.0   \n",
      "2010-06-30   25.79   30.4192   23.30   23.83  17187100.0          0.0   \n",
      "2010-07-01   25.00   25.9200   20.27   21.96   8218800.0          0.0   \n",
      "2010-07-02   23.00   23.1000   18.71   19.20   5139800.0          0.0   \n",
      "2010-07-06   20.00   20.0000   15.83   16.11   6866900.0          0.0   \n",
      "...            ...       ...     ...     ...         ...          ...   \n",
      "2018-03-21  310.25  322.4400  310.19  316.53   5927881.0          0.0   \n",
      "2018-03-22  313.89  318.8200  308.18  309.10   4914307.0          0.0   \n",
      "2018-03-23  311.25  311.6100  300.45  301.54   6600538.0          0.0   \n",
      "2018-03-26  307.34  307.5900  291.36  304.18   8324639.0          0.0   \n",
      "2018-03-27  304.00  304.2700  277.18  279.18  13696168.0          0.0   \n",
      "\n",
      "            Split Ratio  Adj. Open  Adj. High  Adj. Low  Adj. Close  \\\n",
      "Date                                                                  \n",
      "2010-06-29          1.0      19.00    25.0000     17.54       23.89   \n",
      "2010-06-30          1.0      25.79    30.4192     23.30       23.83   \n",
      "2010-07-01          1.0      25.00    25.9200     20.27       21.96   \n",
      "2010-07-02          1.0      23.00    23.1000     18.71       19.20   \n",
      "2010-07-06          1.0      20.00    20.0000     15.83       16.11   \n",
      "...                 ...        ...        ...       ...         ...   \n",
      "2018-03-21          1.0     310.25   322.4400    310.19      316.53   \n",
      "2018-03-22          1.0     313.89   318.8200    308.18      309.10   \n",
      "2018-03-23          1.0     311.25   311.6100    300.45      301.54   \n",
      "2018-03-26          1.0     307.34   307.5900    291.36      304.18   \n",
      "2018-03-27          1.0     304.00   304.2700    277.18      279.18   \n",
      "\n",
      "            Adj. Volume  \n",
      "Date                     \n",
      "2010-06-29   18766300.0  \n",
      "2010-06-30   17187100.0  \n",
      "2010-07-01    8218800.0  \n",
      "2010-07-02    5139800.0  \n",
      "2010-07-06    6866900.0  \n",
      "...                 ...  \n",
      "2018-03-21    5927881.0  \n",
      "2018-03-22    4914307.0  \n",
      "2018-03-23    6600538.0  \n",
      "2018-03-26    8324639.0  \n",
      "2018-03-27   13696168.0  \n",
      "\n",
      "[1949 rows x 12 columns]\n"
     ]
    }
   ],
   "source": [
    "from more_itertools import collapse\n",
    "from pyalgotrade.barfeed import quandlfeed\n",
    "\n",
    "ticker = 'spy'\n",
    "\n",
    "import nasdaqdatalink\n",
    "\n",
    "NASDAQ_DATA_LINK_API_KEY = 'Mx8UZkQJfsJiRneDiPaK'\n",
    "\n",
    "nasdaqdatalink.ApiConfig.api_key = (NASDAQ_DATA_LINK_API_KEY)\n",
    "\n",
    "data = nasdaqdatalink.get('WIKI/TSLA')\n",
    "\n",
    "print(data)"
   ]
  },
  {
   "cell_type": "code",
   "execution_count": 14,
   "metadata": {},
   "outputs": [
    {
     "name": "stdout",
     "output_type": "stream",
     "text": [
      "              Open      High     Low   Close      Volume  Ex-Dividend  \\\n",
      "Date                                                                    \n",
      "2010-06-29   19.00   25.0000   17.54   23.89  18766300.0          0.0   \n",
      "2010-06-30   25.79   30.4192   23.30   23.83  17187100.0          0.0   \n",
      "2010-07-01   25.00   25.9200   20.27   21.96   8218800.0          0.0   \n",
      "2010-07-02   23.00   23.1000   18.71   19.20   5139800.0          0.0   \n",
      "2010-07-06   20.00   20.0000   15.83   16.11   6866900.0          0.0   \n",
      "...            ...       ...     ...     ...         ...          ...   \n",
      "2018-03-21  310.25  322.4400  310.19  316.53   5927881.0          0.0   \n",
      "2018-03-22  313.89  318.8200  308.18  309.10   4914307.0          0.0   \n",
      "2018-03-23  311.25  311.6100  300.45  301.54   6600538.0          0.0   \n",
      "2018-03-26  307.34  307.5900  291.36  304.18   8324639.0          0.0   \n",
      "2018-03-27  304.00  304.2700  277.18  279.18  13696168.0          0.0   \n",
      "\n",
      "            Split Ratio  Adj. Open  Adj. High  Adj. Low  Adj. Close  \\\n",
      "Date                                                                  \n",
      "2010-06-29          1.0      19.00    25.0000     17.54       23.89   \n",
      "2010-06-30          1.0      25.79    30.4192     23.30       23.83   \n",
      "2010-07-01          1.0      25.00    25.9200     20.27       21.96   \n",
      "2010-07-02          1.0      23.00    23.1000     18.71       19.20   \n",
      "2010-07-06          1.0      20.00    20.0000     15.83       16.11   \n",
      "...                 ...        ...        ...       ...         ...   \n",
      "2018-03-21          1.0     310.25   322.4400    310.19      316.53   \n",
      "2018-03-22          1.0     313.89   318.8200    308.18      309.10   \n",
      "2018-03-23          1.0     311.25   311.6100    300.45      301.54   \n",
      "2018-03-26          1.0     307.34   307.5900    291.36      304.18   \n",
      "2018-03-27          1.0     304.00   304.2700    277.18      279.18   \n",
      "\n",
      "            Adj. Volume  \n",
      "Date                     \n",
      "2010-06-29   18766300.0  \n",
      "2010-06-30   17187100.0  \n",
      "2010-07-01    8218800.0  \n",
      "2010-07-02    5139800.0  \n",
      "2010-07-06    6866900.0  \n",
      "...                 ...  \n",
      "2018-03-21    5927881.0  \n",
      "2018-03-22    4914307.0  \n",
      "2018-03-23    6600538.0  \n",
      "2018-03-26    8324639.0  \n",
      "2018-03-27   13696168.0  \n",
      "\n",
      "[1949 rows x 12 columns]\n"
     ]
    }
   ],
   "source": [
    "import quandl\n",
    "\n",
    "quandl.ApiConfig.api_key = 'Mx8UZkQJfsJiRneDiPaK'\n",
    "\n",
    "data = quandl.get('WIKI/TSLA')\n",
    "\n",
    "# data = quandl.get('WIKI/TSLA/, ')\n",
    "\n",
    "print(data)"
   ]
  },
  {
   "cell_type": "code",
   "execution_count": null,
   "metadata": {},
   "outputs": [],
   "source": [
    "data = googlefeed.Feed()"
   ]
  }
 ],
 "metadata": {
  "kernelspec": {
   "display_name": "Python 3.9.6 64-bit",
   "language": "python",
   "name": "python3"
  },
  "language_info": {
   "codemirror_mode": {
    "name": "ipython",
    "version": 3
   },
   "file_extension": ".py",
   "mimetype": "text/x-python",
   "name": "python",
   "nbconvert_exporter": "python",
   "pygments_lexer": "ipython3",
   "version": "3.9.6"
  },
  "orig_nbformat": 4,
  "vscode": {
   "interpreter": {
    "hash": "aee8b7b246df8f9039afb4144a1f6fd8d2ca17a180786b69acc140d282b71a49"
   }
  }
 },
 "nbformat": 4,
 "nbformat_minor": 2
}
